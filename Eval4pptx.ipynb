{
  "nbformat": 4,
  "nbformat_minor": 0,
  "metadata": {
    "colab": {
      "provenance": [],
      "gpuType": "T4",
      "include_colab_link": true
    },
    "kernelspec": {
      "name": "python3",
      "display_name": "Python 3"
    },
    "language_info": {
      "name": "python"
    },
    "accelerator": "GPU",
    "widgets": {
      "application/vnd.jupyter.widget-state+json": {
        "6ae5b467c84e45278410cce45b6e2d18": {
          "model_module": "@jupyter-widgets/controls",
          "model_name": "HBoxModel",
          "model_module_version": "1.5.0",
          "state": {
            "_dom_classes": [],
            "_model_module": "@jupyter-widgets/controls",
            "_model_module_version": "1.5.0",
            "_model_name": "HBoxModel",
            "_view_count": null,
            "_view_module": "@jupyter-widgets/controls",
            "_view_module_version": "1.5.0",
            "_view_name": "HBoxView",
            "box_style": "",
            "children": [
              "IPY_MODEL_e2fa43b32fa64c3580771c0e11d0a696",
              "IPY_MODEL_2d3fa74dd7d54f09becb637eaa273382",
              "IPY_MODEL_7b07c083b9f841b29d330c79933051a5"
            ],
            "layout": "IPY_MODEL_133448298eb14b47addbe4dc9ed04045"
          }
        },
        "e2fa43b32fa64c3580771c0e11d0a696": {
          "model_module": "@jupyter-widgets/controls",
          "model_name": "HTMLModel",
          "model_module_version": "1.5.0",
          "state": {
            "_dom_classes": [],
            "_model_module": "@jupyter-widgets/controls",
            "_model_module_version": "1.5.0",
            "_model_name": "HTMLModel",
            "_view_count": null,
            "_view_module": "@jupyter-widgets/controls",
            "_view_module_version": "1.5.0",
            "_view_name": "HTMLView",
            "description": "",
            "description_tooltip": null,
            "layout": "IPY_MODEL_30bbe612ff834d038a46f9477724164f",
            "placeholder": "​",
            "style": "IPY_MODEL_d2dc27b048824c369f4ee9fad1354b1e",
            "value": "config.json: 100%"
          }
        },
        "2d3fa74dd7d54f09becb637eaa273382": {
          "model_module": "@jupyter-widgets/controls",
          "model_name": "FloatProgressModel",
          "model_module_version": "1.5.0",
          "state": {
            "_dom_classes": [],
            "_model_module": "@jupyter-widgets/controls",
            "_model_module_version": "1.5.0",
            "_model_name": "FloatProgressModel",
            "_view_count": null,
            "_view_module": "@jupyter-widgets/controls",
            "_view_module_version": "1.5.0",
            "_view_name": "ProgressView",
            "bar_style": "success",
            "description": "",
            "description_tooltip": null,
            "layout": "IPY_MODEL_96909cdb0b294d44ab846dee8c137858",
            "max": 855,
            "min": 0,
            "orientation": "horizontal",
            "style": "IPY_MODEL_bed5bb82171f402bb33c0ef0d7778606",
            "value": 855
          }
        },
        "7b07c083b9f841b29d330c79933051a5": {
          "model_module": "@jupyter-widgets/controls",
          "model_name": "HTMLModel",
          "model_module_version": "1.5.0",
          "state": {
            "_dom_classes": [],
            "_model_module": "@jupyter-widgets/controls",
            "_model_module_version": "1.5.0",
            "_model_name": "HTMLModel",
            "_view_count": null,
            "_view_module": "@jupyter-widgets/controls",
            "_view_module_version": "1.5.0",
            "_view_name": "HTMLView",
            "description": "",
            "description_tooltip": null,
            "layout": "IPY_MODEL_4da7260072f543798481a215a01febeb",
            "placeholder": "​",
            "style": "IPY_MODEL_648caa4afb2c4232bcfc8c5b80da6a92",
            "value": " 855/855 [00:00&lt;00:00, 13.5kB/s]"
          }
        },
        "133448298eb14b47addbe4dc9ed04045": {
          "model_module": "@jupyter-widgets/base",
          "model_name": "LayoutModel",
          "model_module_version": "1.2.0",
          "state": {
            "_model_module": "@jupyter-widgets/base",
            "_model_module_version": "1.2.0",
            "_model_name": "LayoutModel",
            "_view_count": null,
            "_view_module": "@jupyter-widgets/base",
            "_view_module_version": "1.2.0",
            "_view_name": "LayoutView",
            "align_content": null,
            "align_items": null,
            "align_self": null,
            "border": null,
            "bottom": null,
            "display": null,
            "flex": null,
            "flex_flow": null,
            "grid_area": null,
            "grid_auto_columns": null,
            "grid_auto_flow": null,
            "grid_auto_rows": null,
            "grid_column": null,
            "grid_gap": null,
            "grid_row": null,
            "grid_template_areas": null,
            "grid_template_columns": null,
            "grid_template_rows": null,
            "height": null,
            "justify_content": null,
            "justify_items": null,
            "left": null,
            "margin": null,
            "max_height": null,
            "max_width": null,
            "min_height": null,
            "min_width": null,
            "object_fit": null,
            "object_position": null,
            "order": null,
            "overflow": null,
            "overflow_x": null,
            "overflow_y": null,
            "padding": null,
            "right": null,
            "top": null,
            "visibility": null,
            "width": null
          }
        },
        "30bbe612ff834d038a46f9477724164f": {
          "model_module": "@jupyter-widgets/base",
          "model_name": "LayoutModel",
          "model_module_version": "1.2.0",
          "state": {
            "_model_module": "@jupyter-widgets/base",
            "_model_module_version": "1.2.0",
            "_model_name": "LayoutModel",
            "_view_count": null,
            "_view_module": "@jupyter-widgets/base",
            "_view_module_version": "1.2.0",
            "_view_name": "LayoutView",
            "align_content": null,
            "align_items": null,
            "align_self": null,
            "border": null,
            "bottom": null,
            "display": null,
            "flex": null,
            "flex_flow": null,
            "grid_area": null,
            "grid_auto_columns": null,
            "grid_auto_flow": null,
            "grid_auto_rows": null,
            "grid_column": null,
            "grid_gap": null,
            "grid_row": null,
            "grid_template_areas": null,
            "grid_template_columns": null,
            "grid_template_rows": null,
            "height": null,
            "justify_content": null,
            "justify_items": null,
            "left": null,
            "margin": null,
            "max_height": null,
            "max_width": null,
            "min_height": null,
            "min_width": null,
            "object_fit": null,
            "object_position": null,
            "order": null,
            "overflow": null,
            "overflow_x": null,
            "overflow_y": null,
            "padding": null,
            "right": null,
            "top": null,
            "visibility": null,
            "width": null
          }
        },
        "d2dc27b048824c369f4ee9fad1354b1e": {
          "model_module": "@jupyter-widgets/controls",
          "model_name": "DescriptionStyleModel",
          "model_module_version": "1.5.0",
          "state": {
            "_model_module": "@jupyter-widgets/controls",
            "_model_module_version": "1.5.0",
            "_model_name": "DescriptionStyleModel",
            "_view_count": null,
            "_view_module": "@jupyter-widgets/base",
            "_view_module_version": "1.2.0",
            "_view_name": "StyleView",
            "description_width": ""
          }
        },
        "96909cdb0b294d44ab846dee8c137858": {
          "model_module": "@jupyter-widgets/base",
          "model_name": "LayoutModel",
          "model_module_version": "1.2.0",
          "state": {
            "_model_module": "@jupyter-widgets/base",
            "_model_module_version": "1.2.0",
            "_model_name": "LayoutModel",
            "_view_count": null,
            "_view_module": "@jupyter-widgets/base",
            "_view_module_version": "1.2.0",
            "_view_name": "LayoutView",
            "align_content": null,
            "align_items": null,
            "align_self": null,
            "border": null,
            "bottom": null,
            "display": null,
            "flex": null,
            "flex_flow": null,
            "grid_area": null,
            "grid_auto_columns": null,
            "grid_auto_flow": null,
            "grid_auto_rows": null,
            "grid_column": null,
            "grid_gap": null,
            "grid_row": null,
            "grid_template_areas": null,
            "grid_template_columns": null,
            "grid_template_rows": null,
            "height": null,
            "justify_content": null,
            "justify_items": null,
            "left": null,
            "margin": null,
            "max_height": null,
            "max_width": null,
            "min_height": null,
            "min_width": null,
            "object_fit": null,
            "object_position": null,
            "order": null,
            "overflow": null,
            "overflow_x": null,
            "overflow_y": null,
            "padding": null,
            "right": null,
            "top": null,
            "visibility": null,
            "width": null
          }
        },
        "bed5bb82171f402bb33c0ef0d7778606": {
          "model_module": "@jupyter-widgets/controls",
          "model_name": "ProgressStyleModel",
          "model_module_version": "1.5.0",
          "state": {
            "_model_module": "@jupyter-widgets/controls",
            "_model_module_version": "1.5.0",
            "_model_name": "ProgressStyleModel",
            "_view_count": null,
            "_view_module": "@jupyter-widgets/base",
            "_view_module_version": "1.2.0",
            "_view_name": "StyleView",
            "bar_color": null,
            "description_width": ""
          }
        },
        "4da7260072f543798481a215a01febeb": {
          "model_module": "@jupyter-widgets/base",
          "model_name": "LayoutModel",
          "model_module_version": "1.2.0",
          "state": {
            "_model_module": "@jupyter-widgets/base",
            "_model_module_version": "1.2.0",
            "_model_name": "LayoutModel",
            "_view_count": null,
            "_view_module": "@jupyter-widgets/base",
            "_view_module_version": "1.2.0",
            "_view_name": "LayoutView",
            "align_content": null,
            "align_items": null,
            "align_self": null,
            "border": null,
            "bottom": null,
            "display": null,
            "flex": null,
            "flex_flow": null,
            "grid_area": null,
            "grid_auto_columns": null,
            "grid_auto_flow": null,
            "grid_auto_rows": null,
            "grid_column": null,
            "grid_gap": null,
            "grid_row": null,
            "grid_template_areas": null,
            "grid_template_columns": null,
            "grid_template_rows": null,
            "height": null,
            "justify_content": null,
            "justify_items": null,
            "left": null,
            "margin": null,
            "max_height": null,
            "max_width": null,
            "min_height": null,
            "min_width": null,
            "object_fit": null,
            "object_position": null,
            "order": null,
            "overflow": null,
            "overflow_x": null,
            "overflow_y": null,
            "padding": null,
            "right": null,
            "top": null,
            "visibility": null,
            "width": null
          }
        },
        "648caa4afb2c4232bcfc8c5b80da6a92": {
          "model_module": "@jupyter-widgets/controls",
          "model_name": "DescriptionStyleModel",
          "model_module_version": "1.5.0",
          "state": {
            "_model_module": "@jupyter-widgets/controls",
            "_model_module_version": "1.5.0",
            "_model_name": "DescriptionStyleModel",
            "_view_count": null,
            "_view_module": "@jupyter-widgets/base",
            "_view_module_version": "1.2.0",
            "_view_name": "StyleView",
            "description_width": ""
          }
        },
        "c63a316fde6e46f49a30e5200ff87ea5": {
          "model_module": "@jupyter-widgets/controls",
          "model_name": "HBoxModel",
          "model_module_version": "1.5.0",
          "state": {
            "_dom_classes": [],
            "_model_module": "@jupyter-widgets/controls",
            "_model_module_version": "1.5.0",
            "_model_name": "HBoxModel",
            "_view_count": null,
            "_view_module": "@jupyter-widgets/controls",
            "_view_module_version": "1.5.0",
            "_view_name": "HBoxView",
            "box_style": "",
            "children": [
              "IPY_MODEL_9b2fdb0b4eab46cfbfeb2f96543290af",
              "IPY_MODEL_ebd674afc1ae43d6b3ed90ab1a35eee9",
              "IPY_MODEL_d044dfa90c5a4388a0a2ff683f873b17"
            ],
            "layout": "IPY_MODEL_3ebf55b7f95d43ceb6e400389d40a2d9"
          }
        },
        "9b2fdb0b4eab46cfbfeb2f96543290af": {
          "model_module": "@jupyter-widgets/controls",
          "model_name": "HTMLModel",
          "model_module_version": "1.5.0",
          "state": {
            "_dom_classes": [],
            "_model_module": "@jupyter-widgets/controls",
            "_model_module_version": "1.5.0",
            "_model_name": "HTMLModel",
            "_view_count": null,
            "_view_module": "@jupyter-widgets/controls",
            "_view_module_version": "1.5.0",
            "_view_name": "HTMLView",
            "description": "",
            "description_tooltip": null,
            "layout": "IPY_MODEL_913ae274fd51458aba13d7bd1a77e36e",
            "placeholder": "​",
            "style": "IPY_MODEL_3b8ea466efce47beb2b0bc46bc695735",
            "value": "model.safetensors.index.json: 100%"
          }
        },
        "ebd674afc1ae43d6b3ed90ab1a35eee9": {
          "model_module": "@jupyter-widgets/controls",
          "model_name": "FloatProgressModel",
          "model_module_version": "1.5.0",
          "state": {
            "_dom_classes": [],
            "_model_module": "@jupyter-widgets/controls",
            "_model_module_version": "1.5.0",
            "_model_name": "FloatProgressModel",
            "_view_count": null,
            "_view_module": "@jupyter-widgets/controls",
            "_view_module_version": "1.5.0",
            "_view_name": "ProgressView",
            "bar_style": "success",
            "description": "",
            "description_tooltip": null,
            "layout": "IPY_MODEL_249cf557eb7449e0a67382dafc1092ca",
            "max": 23950,
            "min": 0,
            "orientation": "horizontal",
            "style": "IPY_MODEL_ed4d8c4d2c6d4053a860e000f9efefe1",
            "value": 23950
          }
        },
        "d044dfa90c5a4388a0a2ff683f873b17": {
          "model_module": "@jupyter-widgets/controls",
          "model_name": "HTMLModel",
          "model_module_version": "1.5.0",
          "state": {
            "_dom_classes": [],
            "_model_module": "@jupyter-widgets/controls",
            "_model_module_version": "1.5.0",
            "_model_name": "HTMLModel",
            "_view_count": null,
            "_view_module": "@jupyter-widgets/controls",
            "_view_module_version": "1.5.0",
            "_view_name": "HTMLView",
            "description": "",
            "description_tooltip": null,
            "layout": "IPY_MODEL_d83792d1a1a0477ba85507705ee45527",
            "placeholder": "​",
            "style": "IPY_MODEL_f551362e821f4f2984cf6f7ea88128fd",
            "value": " 23.9k/23.9k [00:00&lt;00:00, 592kB/s]"
          }
        },
        "3ebf55b7f95d43ceb6e400389d40a2d9": {
          "model_module": "@jupyter-widgets/base",
          "model_name": "LayoutModel",
          "model_module_version": "1.2.0",
          "state": {
            "_model_module": "@jupyter-widgets/base",
            "_model_module_version": "1.2.0",
            "_model_name": "LayoutModel",
            "_view_count": null,
            "_view_module": "@jupyter-widgets/base",
            "_view_module_version": "1.2.0",
            "_view_name": "LayoutView",
            "align_content": null,
            "align_items": null,
            "align_self": null,
            "border": null,
            "bottom": null,
            "display": null,
            "flex": null,
            "flex_flow": null,
            "grid_area": null,
            "grid_auto_columns": null,
            "grid_auto_flow": null,
            "grid_auto_rows": null,
            "grid_column": null,
            "grid_gap": null,
            "grid_row": null,
            "grid_template_areas": null,
            "grid_template_columns": null,
            "grid_template_rows": null,
            "height": null,
            "justify_content": null,
            "justify_items": null,
            "left": null,
            "margin": null,
            "max_height": null,
            "max_width": null,
            "min_height": null,
            "min_width": null,
            "object_fit": null,
            "object_position": null,
            "order": null,
            "overflow": null,
            "overflow_x": null,
            "overflow_y": null,
            "padding": null,
            "right": null,
            "top": null,
            "visibility": null,
            "width": null
          }
        },
        "913ae274fd51458aba13d7bd1a77e36e": {
          "model_module": "@jupyter-widgets/base",
          "model_name": "LayoutModel",
          "model_module_version": "1.2.0",
          "state": {
            "_model_module": "@jupyter-widgets/base",
            "_model_module_version": "1.2.0",
            "_model_name": "LayoutModel",
            "_view_count": null,
            "_view_module": "@jupyter-widgets/base",
            "_view_module_version": "1.2.0",
            "_view_name": "LayoutView",
            "align_content": null,
            "align_items": null,
            "align_self": null,
            "border": null,
            "bottom": null,
            "display": null,
            "flex": null,
            "flex_flow": null,
            "grid_area": null,
            "grid_auto_columns": null,
            "grid_auto_flow": null,
            "grid_auto_rows": null,
            "grid_column": null,
            "grid_gap": null,
            "grid_row": null,
            "grid_template_areas": null,
            "grid_template_columns": null,
            "grid_template_rows": null,
            "height": null,
            "justify_content": null,
            "justify_items": null,
            "left": null,
            "margin": null,
            "max_height": null,
            "max_width": null,
            "min_height": null,
            "min_width": null,
            "object_fit": null,
            "object_position": null,
            "order": null,
            "overflow": null,
            "overflow_x": null,
            "overflow_y": null,
            "padding": null,
            "right": null,
            "top": null,
            "visibility": null,
            "width": null
          }
        },
        "3b8ea466efce47beb2b0bc46bc695735": {
          "model_module": "@jupyter-widgets/controls",
          "model_name": "DescriptionStyleModel",
          "model_module_version": "1.5.0",
          "state": {
            "_model_module": "@jupyter-widgets/controls",
            "_model_module_version": "1.5.0",
            "_model_name": "DescriptionStyleModel",
            "_view_count": null,
            "_view_module": "@jupyter-widgets/base",
            "_view_module_version": "1.2.0",
            "_view_name": "StyleView",
            "description_width": ""
          }
        },
        "249cf557eb7449e0a67382dafc1092ca": {
          "model_module": "@jupyter-widgets/base",
          "model_name": "LayoutModel",
          "model_module_version": "1.2.0",
          "state": {
            "_model_module": "@jupyter-widgets/base",
            "_model_module_version": "1.2.0",
            "_model_name": "LayoutModel",
            "_view_count": null,
            "_view_module": "@jupyter-widgets/base",
            "_view_module_version": "1.2.0",
            "_view_name": "LayoutView",
            "align_content": null,
            "align_items": null,
            "align_self": null,
            "border": null,
            "bottom": null,
            "display": null,
            "flex": null,
            "flex_flow": null,
            "grid_area": null,
            "grid_auto_columns": null,
            "grid_auto_flow": null,
            "grid_auto_rows": null,
            "grid_column": null,
            "grid_gap": null,
            "grid_row": null,
            "grid_template_areas": null,
            "grid_template_columns": null,
            "grid_template_rows": null,
            "height": null,
            "justify_content": null,
            "justify_items": null,
            "left": null,
            "margin": null,
            "max_height": null,
            "max_width": null,
            "min_height": null,
            "min_width": null,
            "object_fit": null,
            "object_position": null,
            "order": null,
            "overflow": null,
            "overflow_x": null,
            "overflow_y": null,
            "padding": null,
            "right": null,
            "top": null,
            "visibility": null,
            "width": null
          }
        },
        "ed4d8c4d2c6d4053a860e000f9efefe1": {
          "model_module": "@jupyter-widgets/controls",
          "model_name": "ProgressStyleModel",
          "model_module_version": "1.5.0",
          "state": {
            "_model_module": "@jupyter-widgets/controls",
            "_model_module_version": "1.5.0",
            "_model_name": "ProgressStyleModel",
            "_view_count": null,
            "_view_module": "@jupyter-widgets/base",
            "_view_module_version": "1.2.0",
            "_view_name": "StyleView",
            "bar_color": null,
            "description_width": ""
          }
        },
        "d83792d1a1a0477ba85507705ee45527": {
          "model_module": "@jupyter-widgets/base",
          "model_name": "LayoutModel",
          "model_module_version": "1.2.0",
          "state": {
            "_model_module": "@jupyter-widgets/base",
            "_model_module_version": "1.2.0",
            "_model_name": "LayoutModel",
            "_view_count": null,
            "_view_module": "@jupyter-widgets/base",
            "_view_module_version": "1.2.0",
            "_view_name": "LayoutView",
            "align_content": null,
            "align_items": null,
            "align_self": null,
            "border": null,
            "bottom": null,
            "display": null,
            "flex": null,
            "flex_flow": null,
            "grid_area": null,
            "grid_auto_columns": null,
            "grid_auto_flow": null,
            "grid_auto_rows": null,
            "grid_column": null,
            "grid_gap": null,
            "grid_row": null,
            "grid_template_areas": null,
            "grid_template_columns": null,
            "grid_template_rows": null,
            "height": null,
            "justify_content": null,
            "justify_items": null,
            "left": null,
            "margin": null,
            "max_height": null,
            "max_width": null,
            "min_height": null,
            "min_width": null,
            "object_fit": null,
            "object_position": null,
            "order": null,
            "overflow": null,
            "overflow_x": null,
            "overflow_y": null,
            "padding": null,
            "right": null,
            "top": null,
            "visibility": null,
            "width": null
          }
        },
        "f551362e821f4f2984cf6f7ea88128fd": {
          "model_module": "@jupyter-widgets/controls",
          "model_name": "DescriptionStyleModel",
          "model_module_version": "1.5.0",
          "state": {
            "_model_module": "@jupyter-widgets/controls",
            "_model_module_version": "1.5.0",
            "_model_name": "DescriptionStyleModel",
            "_view_count": null,
            "_view_module": "@jupyter-widgets/base",
            "_view_module_version": "1.2.0",
            "_view_name": "StyleView",
            "description_width": ""
          }
        },
        "e18d40d65e2c4f338496f7d2120280c8": {
          "model_module": "@jupyter-widgets/controls",
          "model_name": "HBoxModel",
          "model_module_version": "1.5.0",
          "state": {
            "_dom_classes": [],
            "_model_module": "@jupyter-widgets/controls",
            "_model_module_version": "1.5.0",
            "_model_name": "HBoxModel",
            "_view_count": null,
            "_view_module": "@jupyter-widgets/controls",
            "_view_module_version": "1.5.0",
            "_view_name": "HBoxView",
            "box_style": "",
            "children": [
              "IPY_MODEL_c6550b50579747419f43f61fcb544380",
              "IPY_MODEL_1a85d5e974994cc7aea73d459f60e38a",
              "IPY_MODEL_d57f082070834360815ab7ebefe51fd9"
            ],
            "layout": "IPY_MODEL_bb22b5ad0c7e4bafbe134cefe3a636a1"
          }
        },
        "c6550b50579747419f43f61fcb544380": {
          "model_module": "@jupyter-widgets/controls",
          "model_name": "HTMLModel",
          "model_module_version": "1.5.0",
          "state": {
            "_dom_classes": [],
            "_model_module": "@jupyter-widgets/controls",
            "_model_module_version": "1.5.0",
            "_model_name": "HTMLModel",
            "_view_count": null,
            "_view_module": "@jupyter-widgets/controls",
            "_view_module_version": "1.5.0",
            "_view_name": "HTMLView",
            "description": "",
            "description_tooltip": null,
            "layout": "IPY_MODEL_f257d53148664722951b47c8c6972305",
            "placeholder": "​",
            "style": "IPY_MODEL_ad6e7ad067fe42c9a48dc47bf5f7c5e7",
            "value": "Downloading shards: 100%"
          }
        },
        "1a85d5e974994cc7aea73d459f60e38a": {
          "model_module": "@jupyter-widgets/controls",
          "model_name": "FloatProgressModel",
          "model_module_version": "1.5.0",
          "state": {
            "_dom_classes": [],
            "_model_module": "@jupyter-widgets/controls",
            "_model_module_version": "1.5.0",
            "_model_name": "FloatProgressModel",
            "_view_count": null,
            "_view_module": "@jupyter-widgets/controls",
            "_view_module_version": "1.5.0",
            "_view_name": "ProgressView",
            "bar_style": "success",
            "description": "",
            "description_tooltip": null,
            "layout": "IPY_MODEL_e183cf806c4942929c5f7c87fa48c6be",
            "max": 4,
            "min": 0,
            "orientation": "horizontal",
            "style": "IPY_MODEL_8b98617a46844ec9b00ad27708862414",
            "value": 4
          }
        },
        "d57f082070834360815ab7ebefe51fd9": {
          "model_module": "@jupyter-widgets/controls",
          "model_name": "HTMLModel",
          "model_module_version": "1.5.0",
          "state": {
            "_dom_classes": [],
            "_model_module": "@jupyter-widgets/controls",
            "_model_module_version": "1.5.0",
            "_model_name": "HTMLModel",
            "_view_count": null,
            "_view_module": "@jupyter-widgets/controls",
            "_view_module_version": "1.5.0",
            "_view_name": "HTMLView",
            "description": "",
            "description_tooltip": null,
            "layout": "IPY_MODEL_62590533c0194c16b3b33850baff909a",
            "placeholder": "​",
            "style": "IPY_MODEL_982d8a529ec840748a240e84707461d2",
            "value": " 4/4 [01:33&lt;00:00, 20.61s/it]"
          }
        },
        "bb22b5ad0c7e4bafbe134cefe3a636a1": {
          "model_module": "@jupyter-widgets/base",
          "model_name": "LayoutModel",
          "model_module_version": "1.2.0",
          "state": {
            "_model_module": "@jupyter-widgets/base",
            "_model_module_version": "1.2.0",
            "_model_name": "LayoutModel",
            "_view_count": null,
            "_view_module": "@jupyter-widgets/base",
            "_view_module_version": "1.2.0",
            "_view_name": "LayoutView",
            "align_content": null,
            "align_items": null,
            "align_self": null,
            "border": null,
            "bottom": null,
            "display": null,
            "flex": null,
            "flex_flow": null,
            "grid_area": null,
            "grid_auto_columns": null,
            "grid_auto_flow": null,
            "grid_auto_rows": null,
            "grid_column": null,
            "grid_gap": null,
            "grid_row": null,
            "grid_template_areas": null,
            "grid_template_columns": null,
            "grid_template_rows": null,
            "height": null,
            "justify_content": null,
            "justify_items": null,
            "left": null,
            "margin": null,
            "max_height": null,
            "max_width": null,
            "min_height": null,
            "min_width": null,
            "object_fit": null,
            "object_position": null,
            "order": null,
            "overflow": null,
            "overflow_x": null,
            "overflow_y": null,
            "padding": null,
            "right": null,
            "top": null,
            "visibility": null,
            "width": null
          }
        },
        "f257d53148664722951b47c8c6972305": {
          "model_module": "@jupyter-widgets/base",
          "model_name": "LayoutModel",
          "model_module_version": "1.2.0",
          "state": {
            "_model_module": "@jupyter-widgets/base",
            "_model_module_version": "1.2.0",
            "_model_name": "LayoutModel",
            "_view_count": null,
            "_view_module": "@jupyter-widgets/base",
            "_view_module_version": "1.2.0",
            "_view_name": "LayoutView",
            "align_content": null,
            "align_items": null,
            "align_self": null,
            "border": null,
            "bottom": null,
            "display": null,
            "flex": null,
            "flex_flow": null,
            "grid_area": null,
            "grid_auto_columns": null,
            "grid_auto_flow": null,
            "grid_auto_rows": null,
            "grid_column": null,
            "grid_gap": null,
            "grid_row": null,
            "grid_template_areas": null,
            "grid_template_columns": null,
            "grid_template_rows": null,
            "height": null,
            "justify_content": null,
            "justify_items": null,
            "left": null,
            "margin": null,
            "max_height": null,
            "max_width": null,
            "min_height": null,
            "min_width": null,
            "object_fit": null,
            "object_position": null,
            "order": null,
            "overflow": null,
            "overflow_x": null,
            "overflow_y": null,
            "padding": null,
            "right": null,
            "top": null,
            "visibility": null,
            "width": null
          }
        },
        "ad6e7ad067fe42c9a48dc47bf5f7c5e7": {
          "model_module": "@jupyter-widgets/controls",
          "model_name": "DescriptionStyleModel",
          "model_module_version": "1.5.0",
          "state": {
            "_model_module": "@jupyter-widgets/controls",
            "_model_module_version": "1.5.0",
            "_model_name": "DescriptionStyleModel",
            "_view_count": null,
            "_view_module": "@jupyter-widgets/base",
            "_view_module_version": "1.2.0",
            "_view_name": "StyleView",
            "description_width": ""
          }
        },
        "e183cf806c4942929c5f7c87fa48c6be": {
          "model_module": "@jupyter-widgets/base",
          "model_name": "LayoutModel",
          "model_module_version": "1.2.0",
          "state": {
            "_model_module": "@jupyter-widgets/base",
            "_model_module_version": "1.2.0",
            "_model_name": "LayoutModel",
            "_view_count": null,
            "_view_module": "@jupyter-widgets/base",
            "_view_module_version": "1.2.0",
            "_view_name": "LayoutView",
            "align_content": null,
            "align_items": null,
            "align_self": null,
            "border": null,
            "bottom": null,
            "display": null,
            "flex": null,
            "flex_flow": null,
            "grid_area": null,
            "grid_auto_columns": null,
            "grid_auto_flow": null,
            "grid_auto_rows": null,
            "grid_column": null,
            "grid_gap": null,
            "grid_row": null,
            "grid_template_areas": null,
            "grid_template_columns": null,
            "grid_template_rows": null,
            "height": null,
            "justify_content": null,
            "justify_items": null,
            "left": null,
            "margin": null,
            "max_height": null,
            "max_width": null,
            "min_height": null,
            "min_width": null,
            "object_fit": null,
            "object_position": null,
            "order": null,
            "overflow": null,
            "overflow_x": null,
            "overflow_y": null,
            "padding": null,
            "right": null,
            "top": null,
            "visibility": null,
            "width": null
          }
        },
        "8b98617a46844ec9b00ad27708862414": {
          "model_module": "@jupyter-widgets/controls",
          "model_name": "ProgressStyleModel",
          "model_module_version": "1.5.0",
          "state": {
            "_model_module": "@jupyter-widgets/controls",
            "_model_module_version": "1.5.0",
            "_model_name": "ProgressStyleModel",
            "_view_count": null,
            "_view_module": "@jupyter-widgets/base",
            "_view_module_version": "1.2.0",
            "_view_name": "StyleView",
            "bar_color": null,
            "description_width": ""
          }
        },
        "62590533c0194c16b3b33850baff909a": {
          "model_module": "@jupyter-widgets/base",
          "model_name": "LayoutModel",
          "model_module_version": "1.2.0",
          "state": {
            "_model_module": "@jupyter-widgets/base",
            "_model_module_version": "1.2.0",
            "_model_name": "LayoutModel",
            "_view_count": null,
            "_view_module": "@jupyter-widgets/base",
            "_view_module_version": "1.2.0",
            "_view_name": "LayoutView",
            "align_content": null,
            "align_items": null,
            "align_self": null,
            "border": null,
            "bottom": null,
            "display": null,
            "flex": null,
            "flex_flow": null,
            "grid_area": null,
            "grid_auto_columns": null,
            "grid_auto_flow": null,
            "grid_auto_rows": null,
            "grid_column": null,
            "grid_gap": null,
            "grid_row": null,
            "grid_template_areas": null,
            "grid_template_columns": null,
            "grid_template_rows": null,
            "height": null,
            "justify_content": null,
            "justify_items": null,
            "left": null,
            "margin": null,
            "max_height": null,
            "max_width": null,
            "min_height": null,
            "min_width": null,
            "object_fit": null,
            "object_position": null,
            "order": null,
            "overflow": null,
            "overflow_x": null,
            "overflow_y": null,
            "padding": null,
            "right": null,
            "top": null,
            "visibility": null,
            "width": null
          }
        },
        "982d8a529ec840748a240e84707461d2": {
          "model_module": "@jupyter-widgets/controls",
          "model_name": "DescriptionStyleModel",
          "model_module_version": "1.5.0",
          "state": {
            "_model_module": "@jupyter-widgets/controls",
            "_model_module_version": "1.5.0",
            "_model_name": "DescriptionStyleModel",
            "_view_count": null,
            "_view_module": "@jupyter-widgets/base",
            "_view_module_version": "1.2.0",
            "_view_name": "StyleView",
            "description_width": ""
          }
        },
        "483755f6e4eb455e8ec53d5404db9c6a": {
          "model_module": "@jupyter-widgets/controls",
          "model_name": "HBoxModel",
          "model_module_version": "1.5.0",
          "state": {
            "_dom_classes": [],
            "_model_module": "@jupyter-widgets/controls",
            "_model_module_version": "1.5.0",
            "_model_name": "HBoxModel",
            "_view_count": null,
            "_view_module": "@jupyter-widgets/controls",
            "_view_module_version": "1.5.0",
            "_view_name": "HBoxView",
            "box_style": "",
            "children": [
              "IPY_MODEL_8e4cf9611994407c8749efbd74ec43e8",
              "IPY_MODEL_1fbb5cf826c142288cafb4e667df2bcd",
              "IPY_MODEL_d2e547209b5b4232ae7b1db08bc00c69"
            ],
            "layout": "IPY_MODEL_5ce335560f854691aa9f692aaf169330"
          }
        },
        "8e4cf9611994407c8749efbd74ec43e8": {
          "model_module": "@jupyter-widgets/controls",
          "model_name": "HTMLModel",
          "model_module_version": "1.5.0",
          "state": {
            "_dom_classes": [],
            "_model_module": "@jupyter-widgets/controls",
            "_model_module_version": "1.5.0",
            "_model_name": "HTMLModel",
            "_view_count": null,
            "_view_module": "@jupyter-widgets/controls",
            "_view_module_version": "1.5.0",
            "_view_name": "HTMLView",
            "description": "",
            "description_tooltip": null,
            "layout": "IPY_MODEL_70dbac02d9c545cbb6cf7979943ef19c",
            "placeholder": "​",
            "style": "IPY_MODEL_8a2eb179f0a2450894697f7ffd835287",
            "value": "model-00001-of-00004.safetensors: 100%"
          }
        },
        "1fbb5cf826c142288cafb4e667df2bcd": {
          "model_module": "@jupyter-widgets/controls",
          "model_name": "FloatProgressModel",
          "model_module_version": "1.5.0",
          "state": {
            "_dom_classes": [],
            "_model_module": "@jupyter-widgets/controls",
            "_model_module_version": "1.5.0",
            "_model_name": "FloatProgressModel",
            "_view_count": null,
            "_view_module": "@jupyter-widgets/controls",
            "_view_module_version": "1.5.0",
            "_view_name": "ProgressView",
            "bar_style": "success",
            "description": "",
            "description_tooltip": null,
            "layout": "IPY_MODEL_6da018330b94440d946e1899630453c5",
            "max": 4976698672,
            "min": 0,
            "orientation": "horizontal",
            "style": "IPY_MODEL_f73a24a9bac0446fb988b6d3d633a45e",
            "value": 4976698672
          }
        },
        "d2e547209b5b4232ae7b1db08bc00c69": {
          "model_module": "@jupyter-widgets/controls",
          "model_name": "HTMLModel",
          "model_module_version": "1.5.0",
          "state": {
            "_dom_classes": [],
            "_model_module": "@jupyter-widgets/controls",
            "_model_module_version": "1.5.0",
            "_model_name": "HTMLModel",
            "_view_count": null,
            "_view_module": "@jupyter-widgets/controls",
            "_view_module_version": "1.5.0",
            "_view_name": "HTMLView",
            "description": "",
            "description_tooltip": null,
            "layout": "IPY_MODEL_abc74c89de6a43ad857393a34fb71000",
            "placeholder": "​",
            "style": "IPY_MODEL_3bb7c2b3c2a24d54bfb0381d8198a2af",
            "value": " 4.98G/4.98G [00:25&lt;00:00, 253MB/s]"
          }
        },
        "5ce335560f854691aa9f692aaf169330": {
          "model_module": "@jupyter-widgets/base",
          "model_name": "LayoutModel",
          "model_module_version": "1.2.0",
          "state": {
            "_model_module": "@jupyter-widgets/base",
            "_model_module_version": "1.2.0",
            "_model_name": "LayoutModel",
            "_view_count": null,
            "_view_module": "@jupyter-widgets/base",
            "_view_module_version": "1.2.0",
            "_view_name": "LayoutView",
            "align_content": null,
            "align_items": null,
            "align_self": null,
            "border": null,
            "bottom": null,
            "display": null,
            "flex": null,
            "flex_flow": null,
            "grid_area": null,
            "grid_auto_columns": null,
            "grid_auto_flow": null,
            "grid_auto_rows": null,
            "grid_column": null,
            "grid_gap": null,
            "grid_row": null,
            "grid_template_areas": null,
            "grid_template_columns": null,
            "grid_template_rows": null,
            "height": null,
            "justify_content": null,
            "justify_items": null,
            "left": null,
            "margin": null,
            "max_height": null,
            "max_width": null,
            "min_height": null,
            "min_width": null,
            "object_fit": null,
            "object_position": null,
            "order": null,
            "overflow": null,
            "overflow_x": null,
            "overflow_y": null,
            "padding": null,
            "right": null,
            "top": null,
            "visibility": null,
            "width": null
          }
        },
        "70dbac02d9c545cbb6cf7979943ef19c": {
          "model_module": "@jupyter-widgets/base",
          "model_name": "LayoutModel",
          "model_module_version": "1.2.0",
          "state": {
            "_model_module": "@jupyter-widgets/base",
            "_model_module_version": "1.2.0",
            "_model_name": "LayoutModel",
            "_view_count": null,
            "_view_module": "@jupyter-widgets/base",
            "_view_module_version": "1.2.0",
            "_view_name": "LayoutView",
            "align_content": null,
            "align_items": null,
            "align_self": null,
            "border": null,
            "bottom": null,
            "display": null,
            "flex": null,
            "flex_flow": null,
            "grid_area": null,
            "grid_auto_columns": null,
            "grid_auto_flow": null,
            "grid_auto_rows": null,
            "grid_column": null,
            "grid_gap": null,
            "grid_row": null,
            "grid_template_areas": null,
            "grid_template_columns": null,
            "grid_template_rows": null,
            "height": null,
            "justify_content": null,
            "justify_items": null,
            "left": null,
            "margin": null,
            "max_height": null,
            "max_width": null,
            "min_height": null,
            "min_width": null,
            "object_fit": null,
            "object_position": null,
            "order": null,
            "overflow": null,
            "overflow_x": null,
            "overflow_y": null,
            "padding": null,
            "right": null,
            "top": null,
            "visibility": null,
            "width": null
          }
        },
        "8a2eb179f0a2450894697f7ffd835287": {
          "model_module": "@jupyter-widgets/controls",
          "model_name": "DescriptionStyleModel",
          "model_module_version": "1.5.0",
          "state": {
            "_model_module": "@jupyter-widgets/controls",
            "_model_module_version": "1.5.0",
            "_model_name": "DescriptionStyleModel",
            "_view_count": null,
            "_view_module": "@jupyter-widgets/base",
            "_view_module_version": "1.2.0",
            "_view_name": "StyleView",
            "description_width": ""
          }
        },
        "6da018330b94440d946e1899630453c5": {
          "model_module": "@jupyter-widgets/base",
          "model_name": "LayoutModel",
          "model_module_version": "1.2.0",
          "state": {
            "_model_module": "@jupyter-widgets/base",
            "_model_module_version": "1.2.0",
            "_model_name": "LayoutModel",
            "_view_count": null,
            "_view_module": "@jupyter-widgets/base",
            "_view_module_version": "1.2.0",
            "_view_name": "LayoutView",
            "align_content": null,
            "align_items": null,
            "align_self": null,
            "border": null,
            "bottom": null,
            "display": null,
            "flex": null,
            "flex_flow": null,
            "grid_area": null,
            "grid_auto_columns": null,
            "grid_auto_flow": null,
            "grid_auto_rows": null,
            "grid_column": null,
            "grid_gap": null,
            "grid_row": null,
            "grid_template_areas": null,
            "grid_template_columns": null,
            "grid_template_rows": null,
            "height": null,
            "justify_content": null,
            "justify_items": null,
            "left": null,
            "margin": null,
            "max_height": null,
            "max_width": null,
            "min_height": null,
            "min_width": null,
            "object_fit": null,
            "object_position": null,
            "order": null,
            "overflow": null,
            "overflow_x": null,
            "overflow_y": null,
            "padding": null,
            "right": null,
            "top": null,
            "visibility": null,
            "width": null
          }
        },
        "f73a24a9bac0446fb988b6d3d633a45e": {
          "model_module": "@jupyter-widgets/controls",
          "model_name": "ProgressStyleModel",
          "model_module_version": "1.5.0",
          "state": {
            "_model_module": "@jupyter-widgets/controls",
            "_model_module_version": "1.5.0",
            "_model_name": "ProgressStyleModel",
            "_view_count": null,
            "_view_module": "@jupyter-widgets/base",
            "_view_module_version": "1.2.0",
            "_view_name": "StyleView",
            "bar_color": null,
            "description_width": ""
          }
        },
        "abc74c89de6a43ad857393a34fb71000": {
          "model_module": "@jupyter-widgets/base",
          "model_name": "LayoutModel",
          "model_module_version": "1.2.0",
          "state": {
            "_model_module": "@jupyter-widgets/base",
            "_model_module_version": "1.2.0",
            "_model_name": "LayoutModel",
            "_view_count": null,
            "_view_module": "@jupyter-widgets/base",
            "_view_module_version": "1.2.0",
            "_view_name": "LayoutView",
            "align_content": null,
            "align_items": null,
            "align_self": null,
            "border": null,
            "bottom": null,
            "display": null,
            "flex": null,
            "flex_flow": null,
            "grid_area": null,
            "grid_auto_columns": null,
            "grid_auto_flow": null,
            "grid_auto_rows": null,
            "grid_column": null,
            "grid_gap": null,
            "grid_row": null,
            "grid_template_areas": null,
            "grid_template_columns": null,
            "grid_template_rows": null,
            "height": null,
            "justify_content": null,
            "justify_items": null,
            "left": null,
            "margin": null,
            "max_height": null,
            "max_width": null,
            "min_height": null,
            "min_width": null,
            "object_fit": null,
            "object_position": null,
            "order": null,
            "overflow": null,
            "overflow_x": null,
            "overflow_y": null,
            "padding": null,
            "right": null,
            "top": null,
            "visibility": null,
            "width": null
          }
        },
        "3bb7c2b3c2a24d54bfb0381d8198a2af": {
          "model_module": "@jupyter-widgets/controls",
          "model_name": "DescriptionStyleModel",
          "model_module_version": "1.5.0",
          "state": {
            "_model_module": "@jupyter-widgets/controls",
            "_model_module_version": "1.5.0",
            "_model_name": "DescriptionStyleModel",
            "_view_count": null,
            "_view_module": "@jupyter-widgets/base",
            "_view_module_version": "1.2.0",
            "_view_name": "StyleView",
            "description_width": ""
          }
        },
        "822257a8887e428cadfd914ec6e7b7bb": {
          "model_module": "@jupyter-widgets/controls",
          "model_name": "HBoxModel",
          "model_module_version": "1.5.0",
          "state": {
            "_dom_classes": [],
            "_model_module": "@jupyter-widgets/controls",
            "_model_module_version": "1.5.0",
            "_model_name": "HBoxModel",
            "_view_count": null,
            "_view_module": "@jupyter-widgets/controls",
            "_view_module_version": "1.5.0",
            "_view_name": "HBoxView",
            "box_style": "",
            "children": [
              "IPY_MODEL_4cbc8590b1684e7f9287b1681da580a3",
              "IPY_MODEL_491ef6a4f80e48e481d274e1605ea2af",
              "IPY_MODEL_07d65c50f32e4fa898d0104d77092e89"
            ],
            "layout": "IPY_MODEL_89d0af2c60a7434e9b54a6bc60ea97d2"
          }
        },
        "4cbc8590b1684e7f9287b1681da580a3": {
          "model_module": "@jupyter-widgets/controls",
          "model_name": "HTMLModel",
          "model_module_version": "1.5.0",
          "state": {
            "_dom_classes": [],
            "_model_module": "@jupyter-widgets/controls",
            "_model_module_version": "1.5.0",
            "_model_name": "HTMLModel",
            "_view_count": null,
            "_view_module": "@jupyter-widgets/controls",
            "_view_module_version": "1.5.0",
            "_view_name": "HTMLView",
            "description": "",
            "description_tooltip": null,
            "layout": "IPY_MODEL_2b4b67218f4c4e0aa16487f98069b1e9",
            "placeholder": "​",
            "style": "IPY_MODEL_9a6f27804d164957bdb1508b0f2088e5",
            "value": "model-00002-of-00004.safetensors: 100%"
          }
        },
        "491ef6a4f80e48e481d274e1605ea2af": {
          "model_module": "@jupyter-widgets/controls",
          "model_name": "FloatProgressModel",
          "model_module_version": "1.5.0",
          "state": {
            "_dom_classes": [],
            "_model_module": "@jupyter-widgets/controls",
            "_model_module_version": "1.5.0",
            "_model_name": "FloatProgressModel",
            "_view_count": null,
            "_view_module": "@jupyter-widgets/controls",
            "_view_module_version": "1.5.0",
            "_view_name": "ProgressView",
            "bar_style": "success",
            "description": "",
            "description_tooltip": null,
            "layout": "IPY_MODEL_d9d184ed56554f03b955971978cea546",
            "max": 4999802720,
            "min": 0,
            "orientation": "horizontal",
            "style": "IPY_MODEL_e8ba7888abfe4071a8f02902e5f3abf1",
            "value": 4999802720
          }
        },
        "07d65c50f32e4fa898d0104d77092e89": {
          "model_module": "@jupyter-widgets/controls",
          "model_name": "HTMLModel",
          "model_module_version": "1.5.0",
          "state": {
            "_dom_classes": [],
            "_model_module": "@jupyter-widgets/controls",
            "_model_module_version": "1.5.0",
            "_model_name": "HTMLModel",
            "_view_count": null,
            "_view_module": "@jupyter-widgets/controls",
            "_view_module_version": "1.5.0",
            "_view_name": "HTMLView",
            "description": "",
            "description_tooltip": null,
            "layout": "IPY_MODEL_5d3e9bb7e60c49b392e23a5735f29c56",
            "placeholder": "​",
            "style": "IPY_MODEL_31e6f6af49254bebb9982a2ad377c3ae",
            "value": " 5.00G/5.00G [00:29&lt;00:00, 70.3MB/s]"
          }
        },
        "89d0af2c60a7434e9b54a6bc60ea97d2": {
          "model_module": "@jupyter-widgets/base",
          "model_name": "LayoutModel",
          "model_module_version": "1.2.0",
          "state": {
            "_model_module": "@jupyter-widgets/base",
            "_model_module_version": "1.2.0",
            "_model_name": "LayoutModel",
            "_view_count": null,
            "_view_module": "@jupyter-widgets/base",
            "_view_module_version": "1.2.0",
            "_view_name": "LayoutView",
            "align_content": null,
            "align_items": null,
            "align_self": null,
            "border": null,
            "bottom": null,
            "display": null,
            "flex": null,
            "flex_flow": null,
            "grid_area": null,
            "grid_auto_columns": null,
            "grid_auto_flow": null,
            "grid_auto_rows": null,
            "grid_column": null,
            "grid_gap": null,
            "grid_row": null,
            "grid_template_areas": null,
            "grid_template_columns": null,
            "grid_template_rows": null,
            "height": null,
            "justify_content": null,
            "justify_items": null,
            "left": null,
            "margin": null,
            "max_height": null,
            "max_width": null,
            "min_height": null,
            "min_width": null,
            "object_fit": null,
            "object_position": null,
            "order": null,
            "overflow": null,
            "overflow_x": null,
            "overflow_y": null,
            "padding": null,
            "right": null,
            "top": null,
            "visibility": null,
            "width": null
          }
        },
        "2b4b67218f4c4e0aa16487f98069b1e9": {
          "model_module": "@jupyter-widgets/base",
          "model_name": "LayoutModel",
          "model_module_version": "1.2.0",
          "state": {
            "_model_module": "@jupyter-widgets/base",
            "_model_module_version": "1.2.0",
            "_model_name": "LayoutModel",
            "_view_count": null,
            "_view_module": "@jupyter-widgets/base",
            "_view_module_version": "1.2.0",
            "_view_name": "LayoutView",
            "align_content": null,
            "align_items": null,
            "align_self": null,
            "border": null,
            "bottom": null,
            "display": null,
            "flex": null,
            "flex_flow": null,
            "grid_area": null,
            "grid_auto_columns": null,
            "grid_auto_flow": null,
            "grid_auto_rows": null,
            "grid_column": null,
            "grid_gap": null,
            "grid_row": null,
            "grid_template_areas": null,
            "grid_template_columns": null,
            "grid_template_rows": null,
            "height": null,
            "justify_content": null,
            "justify_items": null,
            "left": null,
            "margin": null,
            "max_height": null,
            "max_width": null,
            "min_height": null,
            "min_width": null,
            "object_fit": null,
            "object_position": null,
            "order": null,
            "overflow": null,
            "overflow_x": null,
            "overflow_y": null,
            "padding": null,
            "right": null,
            "top": null,
            "visibility": null,
            "width": null
          }
        },
        "9a6f27804d164957bdb1508b0f2088e5": {
          "model_module": "@jupyter-widgets/controls",
          "model_name": "DescriptionStyleModel",
          "model_module_version": "1.5.0",
          "state": {
            "_model_module": "@jupyter-widgets/controls",
            "_model_module_version": "1.5.0",
            "_model_name": "DescriptionStyleModel",
            "_view_count": null,
            "_view_module": "@jupyter-widgets/base",
            "_view_module_version": "1.2.0",
            "_view_name": "StyleView",
            "description_width": ""
          }
        },
        "d9d184ed56554f03b955971978cea546": {
          "model_module": "@jupyter-widgets/base",
          "model_name": "LayoutModel",
          "model_module_version": "1.2.0",
          "state": {
            "_model_module": "@jupyter-widgets/base",
            "_model_module_version": "1.2.0",
            "_model_name": "LayoutModel",
            "_view_count": null,
            "_view_module": "@jupyter-widgets/base",
            "_view_module_version": "1.2.0",
            "_view_name": "LayoutView",
            "align_content": null,
            "align_items": null,
            "align_self": null,
            "border": null,
            "bottom": null,
            "display": null,
            "flex": null,
            "flex_flow": null,
            "grid_area": null,
            "grid_auto_columns": null,
            "grid_auto_flow": null,
            "grid_auto_rows": null,
            "grid_column": null,
            "grid_gap": null,
            "grid_row": null,
            "grid_template_areas": null,
            "grid_template_columns": null,
            "grid_template_rows": null,
            "height": null,
            "justify_content": null,
            "justify_items": null,
            "left": null,
            "margin": null,
            "max_height": null,
            "max_width": null,
            "min_height": null,
            "min_width": null,
            "object_fit": null,
            "object_position": null,
            "order": null,
            "overflow": null,
            "overflow_x": null,
            "overflow_y": null,
            "padding": null,
            "right": null,
            "top": null,
            "visibility": null,
            "width": null
          }
        },
        "e8ba7888abfe4071a8f02902e5f3abf1": {
          "model_module": "@jupyter-widgets/controls",
          "model_name": "ProgressStyleModel",
          "model_module_version": "1.5.0",
          "state": {
            "_model_module": "@jupyter-widgets/controls",
            "_model_module_version": "1.5.0",
            "_model_name": "ProgressStyleModel",
            "_view_count": null,
            "_view_module": "@jupyter-widgets/base",
            "_view_module_version": "1.2.0",
            "_view_name": "StyleView",
            "bar_color": null,
            "description_width": ""
          }
        },
        "5d3e9bb7e60c49b392e23a5735f29c56": {
          "model_module": "@jupyter-widgets/base",
          "model_name": "LayoutModel",
          "model_module_version": "1.2.0",
          "state": {
            "_model_module": "@jupyter-widgets/base",
            "_model_module_version": "1.2.0",
            "_model_name": "LayoutModel",
            "_view_count": null,
            "_view_module": "@jupyter-widgets/base",
            "_view_module_version": "1.2.0",
            "_view_name": "LayoutView",
            "align_content": null,
            "align_items": null,
            "align_self": null,
            "border": null,
            "bottom": null,
            "display": null,
            "flex": null,
            "flex_flow": null,
            "grid_area": null,
            "grid_auto_columns": null,
            "grid_auto_flow": null,
            "grid_auto_rows": null,
            "grid_column": null,
            "grid_gap": null,
            "grid_row": null,
            "grid_template_areas": null,
            "grid_template_columns": null,
            "grid_template_rows": null,
            "height": null,
            "justify_content": null,
            "justify_items": null,
            "left": null,
            "margin": null,
            "max_height": null,
            "max_width": null,
            "min_height": null,
            "min_width": null,
            "object_fit": null,
            "object_position": null,
            "order": null,
            "overflow": null,
            "overflow_x": null,
            "overflow_y": null,
            "padding": null,
            "right": null,
            "top": null,
            "visibility": null,
            "width": null
          }
        },
        "31e6f6af49254bebb9982a2ad377c3ae": {
          "model_module": "@jupyter-widgets/controls",
          "model_name": "DescriptionStyleModel",
          "model_module_version": "1.5.0",
          "state": {
            "_model_module": "@jupyter-widgets/controls",
            "_model_module_version": "1.5.0",
            "_model_name": "DescriptionStyleModel",
            "_view_count": null,
            "_view_module": "@jupyter-widgets/base",
            "_view_module_version": "1.2.0",
            "_view_name": "StyleView",
            "description_width": ""
          }
        },
        "8d6db85ec86e4a6cb42c54c25b648326": {
          "model_module": "@jupyter-widgets/controls",
          "model_name": "HBoxModel",
          "model_module_version": "1.5.0",
          "state": {
            "_dom_classes": [],
            "_model_module": "@jupyter-widgets/controls",
            "_model_module_version": "1.5.0",
            "_model_name": "HBoxModel",
            "_view_count": null,
            "_view_module": "@jupyter-widgets/controls",
            "_view_module_version": "1.5.0",
            "_view_name": "HBoxView",
            "box_style": "",
            "children": [
              "IPY_MODEL_3239988ad4414dfbaf6024891c2b838d",
              "IPY_MODEL_ad0853a8752e4a11a10a6e1f829510d9",
              "IPY_MODEL_3aee4c9dda2a4c12a3f2e11480fa8d65"
            ],
            "layout": "IPY_MODEL_f8668a48bd324b95868b97cd854bf720"
          }
        },
        "3239988ad4414dfbaf6024891c2b838d": {
          "model_module": "@jupyter-widgets/controls",
          "model_name": "HTMLModel",
          "model_module_version": "1.5.0",
          "state": {
            "_dom_classes": [],
            "_model_module": "@jupyter-widgets/controls",
            "_model_module_version": "1.5.0",
            "_model_name": "HTMLModel",
            "_view_count": null,
            "_view_module": "@jupyter-widgets/controls",
            "_view_module_version": "1.5.0",
            "_view_name": "HTMLView",
            "description": "",
            "description_tooltip": null,
            "layout": "IPY_MODEL_2d1307f99c5b44dd8fcca0c0425bc449",
            "placeholder": "​",
            "style": "IPY_MODEL_69f1eb4695044c8cb07db58cf3cba5ba",
            "value": "model-00003-of-00004.safetensors: 100%"
          }
        },
        "ad0853a8752e4a11a10a6e1f829510d9": {
          "model_module": "@jupyter-widgets/controls",
          "model_name": "FloatProgressModel",
          "model_module_version": "1.5.0",
          "state": {
            "_dom_classes": [],
            "_model_module": "@jupyter-widgets/controls",
            "_model_module_version": "1.5.0",
            "_model_name": "FloatProgressModel",
            "_view_count": null,
            "_view_module": "@jupyter-widgets/controls",
            "_view_module_version": "1.5.0",
            "_view_name": "ProgressView",
            "bar_style": "success",
            "description": "",
            "description_tooltip": null,
            "layout": "IPY_MODEL_a16c84a2496e4d78a172096902cfbd80",
            "max": 4915916176,
            "min": 0,
            "orientation": "horizontal",
            "style": "IPY_MODEL_61e292ea55e2427ca5d3a532ecbbc4c3",
            "value": 4915916176
          }
        },
        "3aee4c9dda2a4c12a3f2e11480fa8d65": {
          "model_module": "@jupyter-widgets/controls",
          "model_name": "HTMLModel",
          "model_module_version": "1.5.0",
          "state": {
            "_dom_classes": [],
            "_model_module": "@jupyter-widgets/controls",
            "_model_module_version": "1.5.0",
            "_model_name": "HTMLModel",
            "_view_count": null,
            "_view_module": "@jupyter-widgets/controls",
            "_view_module_version": "1.5.0",
            "_view_name": "HTMLView",
            "description": "",
            "description_tooltip": null,
            "layout": "IPY_MODEL_fb21507e741c4c23bc538adcaa0b647b",
            "placeholder": "​",
            "style": "IPY_MODEL_d3320f0d80ee4e72a35a6ef27a0acc71",
            "value": " 4.92G/4.92G [00:28&lt;00:00, 303MB/s]"
          }
        },
        "f8668a48bd324b95868b97cd854bf720": {
          "model_module": "@jupyter-widgets/base",
          "model_name": "LayoutModel",
          "model_module_version": "1.2.0",
          "state": {
            "_model_module": "@jupyter-widgets/base",
            "_model_module_version": "1.2.0",
            "_model_name": "LayoutModel",
            "_view_count": null,
            "_view_module": "@jupyter-widgets/base",
            "_view_module_version": "1.2.0",
            "_view_name": "LayoutView",
            "align_content": null,
            "align_items": null,
            "align_self": null,
            "border": null,
            "bottom": null,
            "display": null,
            "flex": null,
            "flex_flow": null,
            "grid_area": null,
            "grid_auto_columns": null,
            "grid_auto_flow": null,
            "grid_auto_rows": null,
            "grid_column": null,
            "grid_gap": null,
            "grid_row": null,
            "grid_template_areas": null,
            "grid_template_columns": null,
            "grid_template_rows": null,
            "height": null,
            "justify_content": null,
            "justify_items": null,
            "left": null,
            "margin": null,
            "max_height": null,
            "max_width": null,
            "min_height": null,
            "min_width": null,
            "object_fit": null,
            "object_position": null,
            "order": null,
            "overflow": null,
            "overflow_x": null,
            "overflow_y": null,
            "padding": null,
            "right": null,
            "top": null,
            "visibility": null,
            "width": null
          }
        },
        "2d1307f99c5b44dd8fcca0c0425bc449": {
          "model_module": "@jupyter-widgets/base",
          "model_name": "LayoutModel",
          "model_module_version": "1.2.0",
          "state": {
            "_model_module": "@jupyter-widgets/base",
            "_model_module_version": "1.2.0",
            "_model_name": "LayoutModel",
            "_view_count": null,
            "_view_module": "@jupyter-widgets/base",
            "_view_module_version": "1.2.0",
            "_view_name": "LayoutView",
            "align_content": null,
            "align_items": null,
            "align_self": null,
            "border": null,
            "bottom": null,
            "display": null,
            "flex": null,
            "flex_flow": null,
            "grid_area": null,
            "grid_auto_columns": null,
            "grid_auto_flow": null,
            "grid_auto_rows": null,
            "grid_column": null,
            "grid_gap": null,
            "grid_row": null,
            "grid_template_areas": null,
            "grid_template_columns": null,
            "grid_template_rows": null,
            "height": null,
            "justify_content": null,
            "justify_items": null,
            "left": null,
            "margin": null,
            "max_height": null,
            "max_width": null,
            "min_height": null,
            "min_width": null,
            "object_fit": null,
            "object_position": null,
            "order": null,
            "overflow": null,
            "overflow_x": null,
            "overflow_y": null,
            "padding": null,
            "right": null,
            "top": null,
            "visibility": null,
            "width": null
          }
        },
        "69f1eb4695044c8cb07db58cf3cba5ba": {
          "model_module": "@jupyter-widgets/controls",
          "model_name": "DescriptionStyleModel",
          "model_module_version": "1.5.0",
          "state": {
            "_model_module": "@jupyter-widgets/controls",
            "_model_module_version": "1.5.0",
            "_model_name": "DescriptionStyleModel",
            "_view_count": null,
            "_view_module": "@jupyter-widgets/base",
            "_view_module_version": "1.2.0",
            "_view_name": "StyleView",
            "description_width": ""
          }
        },
        "a16c84a2496e4d78a172096902cfbd80": {
          "model_module": "@jupyter-widgets/base",
          "model_name": "LayoutModel",
          "model_module_version": "1.2.0",
          "state": {
            "_model_module": "@jupyter-widgets/base",
            "_model_module_version": "1.2.0",
            "_model_name": "LayoutModel",
            "_view_count": null,
            "_view_module": "@jupyter-widgets/base",
            "_view_module_version": "1.2.0",
            "_view_name": "LayoutView",
            "align_content": null,
            "align_items": null,
            "align_self": null,
            "border": null,
            "bottom": null,
            "display": null,
            "flex": null,
            "flex_flow": null,
            "grid_area": null,
            "grid_auto_columns": null,
            "grid_auto_flow": null,
            "grid_auto_rows": null,
            "grid_column": null,
            "grid_gap": null,
            "grid_row": null,
            "grid_template_areas": null,
            "grid_template_columns": null,
            "grid_template_rows": null,
            "height": null,
            "justify_content": null,
            "justify_items": null,
            "left": null,
            "margin": null,
            "max_height": null,
            "max_width": null,
            "min_height": null,
            "min_width": null,
            "object_fit": null,
            "object_position": null,
            "order": null,
            "overflow": null,
            "overflow_x": null,
            "overflow_y": null,
            "padding": null,
            "right": null,
            "top": null,
            "visibility": null,
            "width": null
          }
        },
        "61e292ea55e2427ca5d3a532ecbbc4c3": {
          "model_module": "@jupyter-widgets/controls",
          "model_name": "ProgressStyleModel",
          "model_module_version": "1.5.0",
          "state": {
            "_model_module": "@jupyter-widgets/controls",
            "_model_module_version": "1.5.0",
            "_model_name": "ProgressStyleModel",
            "_view_count": null,
            "_view_module": "@jupyter-widgets/base",
            "_view_module_version": "1.2.0",
            "_view_name": "StyleView",
            "bar_color": null,
            "description_width": ""
          }
        },
        "fb21507e741c4c23bc538adcaa0b647b": {
          "model_module": "@jupyter-widgets/base",
          "model_name": "LayoutModel",
          "model_module_version": "1.2.0",
          "state": {
            "_model_module": "@jupyter-widgets/base",
            "_model_module_version": "1.2.0",
            "_model_name": "LayoutModel",
            "_view_count": null,
            "_view_module": "@jupyter-widgets/base",
            "_view_module_version": "1.2.0",
            "_view_name": "LayoutView",
            "align_content": null,
            "align_items": null,
            "align_self": null,
            "border": null,
            "bottom": null,
            "display": null,
            "flex": null,
            "flex_flow": null,
            "grid_area": null,
            "grid_auto_columns": null,
            "grid_auto_flow": null,
            "grid_auto_rows": null,
            "grid_column": null,
            "grid_gap": null,
            "grid_row": null,
            "grid_template_areas": null,
            "grid_template_columns": null,
            "grid_template_rows": null,
            "height": null,
            "justify_content": null,
            "justify_items": null,
            "left": null,
            "margin": null,
            "max_height": null,
            "max_width": null,
            "min_height": null,
            "min_width": null,
            "object_fit": null,
            "object_position": null,
            "order": null,
            "overflow": null,
            "overflow_x": null,
            "overflow_y": null,
            "padding": null,
            "right": null,
            "top": null,
            "visibility": null,
            "width": null
          }
        },
        "d3320f0d80ee4e72a35a6ef27a0acc71": {
          "model_module": "@jupyter-widgets/controls",
          "model_name": "DescriptionStyleModel",
          "model_module_version": "1.5.0",
          "state": {
            "_model_module": "@jupyter-widgets/controls",
            "_model_module_version": "1.5.0",
            "_model_name": "DescriptionStyleModel",
            "_view_count": null,
            "_view_module": "@jupyter-widgets/base",
            "_view_module_version": "1.2.0",
            "_view_name": "StyleView",
            "description_width": ""
          }
        },
        "f91a36cd36d34187b25cbbdacf1d20bc": {
          "model_module": "@jupyter-widgets/controls",
          "model_name": "HBoxModel",
          "model_module_version": "1.5.0",
          "state": {
            "_dom_classes": [],
            "_model_module": "@jupyter-widgets/controls",
            "_model_module_version": "1.5.0",
            "_model_name": "HBoxModel",
            "_view_count": null,
            "_view_module": "@jupyter-widgets/controls",
            "_view_module_version": "1.5.0",
            "_view_name": "HBoxView",
            "box_style": "",
            "children": [
              "IPY_MODEL_6dc53ec5b74348599e01f7119cb53d05",
              "IPY_MODEL_7d311daf2e984377b0b4df0bb90c1ece",
              "IPY_MODEL_bcfab5b68c59410d809203b055e9438c"
            ],
            "layout": "IPY_MODEL_e719be98955141ec8a40bf973e3987eb"
          }
        },
        "6dc53ec5b74348599e01f7119cb53d05": {
          "model_module": "@jupyter-widgets/controls",
          "model_name": "HTMLModel",
          "model_module_version": "1.5.0",
          "state": {
            "_dom_classes": [],
            "_model_module": "@jupyter-widgets/controls",
            "_model_module_version": "1.5.0",
            "_model_name": "HTMLModel",
            "_view_count": null,
            "_view_module": "@jupyter-widgets/controls",
            "_view_module_version": "1.5.0",
            "_view_name": "HTMLView",
            "description": "",
            "description_tooltip": null,
            "layout": "IPY_MODEL_7a94ee095a7141fb84b8f9d8605de0ff",
            "placeholder": "​",
            "style": "IPY_MODEL_948e86a5ccda4488b975ed27e76fb0ea",
            "value": "model-00004-of-00004.safetensors: 100%"
          }
        },
        "7d311daf2e984377b0b4df0bb90c1ece": {
          "model_module": "@jupyter-widgets/controls",
          "model_name": "FloatProgressModel",
          "model_module_version": "1.5.0",
          "state": {
            "_dom_classes": [],
            "_model_module": "@jupyter-widgets/controls",
            "_model_module_version": "1.5.0",
            "_model_name": "FloatProgressModel",
            "_view_count": null,
            "_view_module": "@jupyter-widgets/controls",
            "_view_module_version": "1.5.0",
            "_view_name": "ProgressView",
            "bar_style": "success",
            "description": "",
            "description_tooltip": null,
            "layout": "IPY_MODEL_b655b95b1e454c3083077e4e6fd4d883",
            "max": 1168138808,
            "min": 0,
            "orientation": "horizontal",
            "style": "IPY_MODEL_3ecea2053d9844ea82a8eceede8a94aa",
            "value": 1168138808
          }
        },
        "bcfab5b68c59410d809203b055e9438c": {
          "model_module": "@jupyter-widgets/controls",
          "model_name": "HTMLModel",
          "model_module_version": "1.5.0",
          "state": {
            "_dom_classes": [],
            "_model_module": "@jupyter-widgets/controls",
            "_model_module_version": "1.5.0",
            "_model_name": "HTMLModel",
            "_view_count": null,
            "_view_module": "@jupyter-widgets/controls",
            "_view_module_version": "1.5.0",
            "_view_name": "HTMLView",
            "description": "",
            "description_tooltip": null,
            "layout": "IPY_MODEL_a1ba10fba16e4b918aff3b37ad4f7f9b",
            "placeholder": "​",
            "style": "IPY_MODEL_f492ca94ad3a422baed81cdd87d3b629",
            "value": " 1.17G/1.17G [00:07&lt;00:00, 82.2MB/s]"
          }
        },
        "e719be98955141ec8a40bf973e3987eb": {
          "model_module": "@jupyter-widgets/base",
          "model_name": "LayoutModel",
          "model_module_version": "1.2.0",
          "state": {
            "_model_module": "@jupyter-widgets/base",
            "_model_module_version": "1.2.0",
            "_model_name": "LayoutModel",
            "_view_count": null,
            "_view_module": "@jupyter-widgets/base",
            "_view_module_version": "1.2.0",
            "_view_name": "LayoutView",
            "align_content": null,
            "align_items": null,
            "align_self": null,
            "border": null,
            "bottom": null,
            "display": null,
            "flex": null,
            "flex_flow": null,
            "grid_area": null,
            "grid_auto_columns": null,
            "grid_auto_flow": null,
            "grid_auto_rows": null,
            "grid_column": null,
            "grid_gap": null,
            "grid_row": null,
            "grid_template_areas": null,
            "grid_template_columns": null,
            "grid_template_rows": null,
            "height": null,
            "justify_content": null,
            "justify_items": null,
            "left": null,
            "margin": null,
            "max_height": null,
            "max_width": null,
            "min_height": null,
            "min_width": null,
            "object_fit": null,
            "object_position": null,
            "order": null,
            "overflow": null,
            "overflow_x": null,
            "overflow_y": null,
            "padding": null,
            "right": null,
            "top": null,
            "visibility": null,
            "width": null
          }
        },
        "7a94ee095a7141fb84b8f9d8605de0ff": {
          "model_module": "@jupyter-widgets/base",
          "model_name": "LayoutModel",
          "model_module_version": "1.2.0",
          "state": {
            "_model_module": "@jupyter-widgets/base",
            "_model_module_version": "1.2.0",
            "_model_name": "LayoutModel",
            "_view_count": null,
            "_view_module": "@jupyter-widgets/base",
            "_view_module_version": "1.2.0",
            "_view_name": "LayoutView",
            "align_content": null,
            "align_items": null,
            "align_self": null,
            "border": null,
            "bottom": null,
            "display": null,
            "flex": null,
            "flex_flow": null,
            "grid_area": null,
            "grid_auto_columns": null,
            "grid_auto_flow": null,
            "grid_auto_rows": null,
            "grid_column": null,
            "grid_gap": null,
            "grid_row": null,
            "grid_template_areas": null,
            "grid_template_columns": null,
            "grid_template_rows": null,
            "height": null,
            "justify_content": null,
            "justify_items": null,
            "left": null,
            "margin": null,
            "max_height": null,
            "max_width": null,
            "min_height": null,
            "min_width": null,
            "object_fit": null,
            "object_position": null,
            "order": null,
            "overflow": null,
            "overflow_x": null,
            "overflow_y": null,
            "padding": null,
            "right": null,
            "top": null,
            "visibility": null,
            "width": null
          }
        },
        "948e86a5ccda4488b975ed27e76fb0ea": {
          "model_module": "@jupyter-widgets/controls",
          "model_name": "DescriptionStyleModel",
          "model_module_version": "1.5.0",
          "state": {
            "_model_module": "@jupyter-widgets/controls",
            "_model_module_version": "1.5.0",
            "_model_name": "DescriptionStyleModel",
            "_view_count": null,
            "_view_module": "@jupyter-widgets/base",
            "_view_module_version": "1.2.0",
            "_view_name": "StyleView",
            "description_width": ""
          }
        },
        "b655b95b1e454c3083077e4e6fd4d883": {
          "model_module": "@jupyter-widgets/base",
          "model_name": "LayoutModel",
          "model_module_version": "1.2.0",
          "state": {
            "_model_module": "@jupyter-widgets/base",
            "_model_module_version": "1.2.0",
            "_model_name": "LayoutModel",
            "_view_count": null,
            "_view_module": "@jupyter-widgets/base",
            "_view_module_version": "1.2.0",
            "_view_name": "LayoutView",
            "align_content": null,
            "align_items": null,
            "align_self": null,
            "border": null,
            "bottom": null,
            "display": null,
            "flex": null,
            "flex_flow": null,
            "grid_area": null,
            "grid_auto_columns": null,
            "grid_auto_flow": null,
            "grid_auto_rows": null,
            "grid_column": null,
            "grid_gap": null,
            "grid_row": null,
            "grid_template_areas": null,
            "grid_template_columns": null,
            "grid_template_rows": null,
            "height": null,
            "justify_content": null,
            "justify_items": null,
            "left": null,
            "margin": null,
            "max_height": null,
            "max_width": null,
            "min_height": null,
            "min_width": null,
            "object_fit": null,
            "object_position": null,
            "order": null,
            "overflow": null,
            "overflow_x": null,
            "overflow_y": null,
            "padding": null,
            "right": null,
            "top": null,
            "visibility": null,
            "width": null
          }
        },
        "3ecea2053d9844ea82a8eceede8a94aa": {
          "model_module": "@jupyter-widgets/controls",
          "model_name": "ProgressStyleModel",
          "model_module_version": "1.5.0",
          "state": {
            "_model_module": "@jupyter-widgets/controls",
            "_model_module_version": "1.5.0",
            "_model_name": "ProgressStyleModel",
            "_view_count": null,
            "_view_module": "@jupyter-widgets/base",
            "_view_module_version": "1.2.0",
            "_view_name": "StyleView",
            "bar_color": null,
            "description_width": ""
          }
        },
        "a1ba10fba16e4b918aff3b37ad4f7f9b": {
          "model_module": "@jupyter-widgets/base",
          "model_name": "LayoutModel",
          "model_module_version": "1.2.0",
          "state": {
            "_model_module": "@jupyter-widgets/base",
            "_model_module_version": "1.2.0",
            "_model_name": "LayoutModel",
            "_view_count": null,
            "_view_module": "@jupyter-widgets/base",
            "_view_module_version": "1.2.0",
            "_view_name": "LayoutView",
            "align_content": null,
            "align_items": null,
            "align_self": null,
            "border": null,
            "bottom": null,
            "display": null,
            "flex": null,
            "flex_flow": null,
            "grid_area": null,
            "grid_auto_columns": null,
            "grid_auto_flow": null,
            "grid_auto_rows": null,
            "grid_column": null,
            "grid_gap": null,
            "grid_row": null,
            "grid_template_areas": null,
            "grid_template_columns": null,
            "grid_template_rows": null,
            "height": null,
            "justify_content": null,
            "justify_items": null,
            "left": null,
            "margin": null,
            "max_height": null,
            "max_width": null,
            "min_height": null,
            "min_width": null,
            "object_fit": null,
            "object_position": null,
            "order": null,
            "overflow": null,
            "overflow_x": null,
            "overflow_y": null,
            "padding": null,
            "right": null,
            "top": null,
            "visibility": null,
            "width": null
          }
        },
        "f492ca94ad3a422baed81cdd87d3b629": {
          "model_module": "@jupyter-widgets/controls",
          "model_name": "DescriptionStyleModel",
          "model_module_version": "1.5.0",
          "state": {
            "_model_module": "@jupyter-widgets/controls",
            "_model_module_version": "1.5.0",
            "_model_name": "DescriptionStyleModel",
            "_view_count": null,
            "_view_module": "@jupyter-widgets/base",
            "_view_module_version": "1.2.0",
            "_view_name": "StyleView",
            "description_width": ""
          }
        },
        "85a1bc5e3f904cd18cf6f2f05451b493": {
          "model_module": "@jupyter-widgets/controls",
          "model_name": "HBoxModel",
          "model_module_version": "1.5.0",
          "state": {
            "_dom_classes": [],
            "_model_module": "@jupyter-widgets/controls",
            "_model_module_version": "1.5.0",
            "_model_name": "HBoxModel",
            "_view_count": null,
            "_view_module": "@jupyter-widgets/controls",
            "_view_module_version": "1.5.0",
            "_view_name": "HBoxView",
            "box_style": "",
            "children": [
              "IPY_MODEL_79f3a175dd2946fd89af0da1a60f1b1e",
              "IPY_MODEL_25bfd7fe94d74a4eb20fe4f4339247c0",
              "IPY_MODEL_0b6fae5ffdfb4426990436967dfff63f"
            ],
            "layout": "IPY_MODEL_915697dfe03a41e3974d3969351bbb46"
          }
        },
        "79f3a175dd2946fd89af0da1a60f1b1e": {
          "model_module": "@jupyter-widgets/controls",
          "model_name": "HTMLModel",
          "model_module_version": "1.5.0",
          "state": {
            "_dom_classes": [],
            "_model_module": "@jupyter-widgets/controls",
            "_model_module_version": "1.5.0",
            "_model_name": "HTMLModel",
            "_view_count": null,
            "_view_module": "@jupyter-widgets/controls",
            "_view_module_version": "1.5.0",
            "_view_name": "HTMLView",
            "description": "",
            "description_tooltip": null,
            "layout": "IPY_MODEL_167cd7ea3ec64e6195ab64f3d3739bc3",
            "placeholder": "​",
            "style": "IPY_MODEL_a0053a2498424ac5b9b75f03d0275895",
            "value": "Loading checkpoint shards: 100%"
          }
        },
        "25bfd7fe94d74a4eb20fe4f4339247c0": {
          "model_module": "@jupyter-widgets/controls",
          "model_name": "FloatProgressModel",
          "model_module_version": "1.5.0",
          "state": {
            "_dom_classes": [],
            "_model_module": "@jupyter-widgets/controls",
            "_model_module_version": "1.5.0",
            "_model_name": "FloatProgressModel",
            "_view_count": null,
            "_view_module": "@jupyter-widgets/controls",
            "_view_module_version": "1.5.0",
            "_view_name": "ProgressView",
            "bar_style": "success",
            "description": "",
            "description_tooltip": null,
            "layout": "IPY_MODEL_c5b84a03034346678fb004c9ce681d96",
            "max": 4,
            "min": 0,
            "orientation": "horizontal",
            "style": "IPY_MODEL_321d1dc191a043478f5d026636393b7d",
            "value": 4
          }
        },
        "0b6fae5ffdfb4426990436967dfff63f": {
          "model_module": "@jupyter-widgets/controls",
          "model_name": "HTMLModel",
          "model_module_version": "1.5.0",
          "state": {
            "_dom_classes": [],
            "_model_module": "@jupyter-widgets/controls",
            "_model_module_version": "1.5.0",
            "_model_name": "HTMLModel",
            "_view_count": null,
            "_view_module": "@jupyter-widgets/controls",
            "_view_module_version": "1.5.0",
            "_view_name": "HTMLView",
            "description": "",
            "description_tooltip": null,
            "layout": "IPY_MODEL_e93278df8a3a4f3f9a07feba9bf8c875",
            "placeholder": "​",
            "style": "IPY_MODEL_861c0b7b09c84e21bb8060c76ad054b6",
            "value": " 4/4 [01:14&lt;00:00, 15.81s/it]"
          }
        },
        "915697dfe03a41e3974d3969351bbb46": {
          "model_module": "@jupyter-widgets/base",
          "model_name": "LayoutModel",
          "model_module_version": "1.2.0",
          "state": {
            "_model_module": "@jupyter-widgets/base",
            "_model_module_version": "1.2.0",
            "_model_name": "LayoutModel",
            "_view_count": null,
            "_view_module": "@jupyter-widgets/base",
            "_view_module_version": "1.2.0",
            "_view_name": "LayoutView",
            "align_content": null,
            "align_items": null,
            "align_self": null,
            "border": null,
            "bottom": null,
            "display": null,
            "flex": null,
            "flex_flow": null,
            "grid_area": null,
            "grid_auto_columns": null,
            "grid_auto_flow": null,
            "grid_auto_rows": null,
            "grid_column": null,
            "grid_gap": null,
            "grid_row": null,
            "grid_template_areas": null,
            "grid_template_columns": null,
            "grid_template_rows": null,
            "height": null,
            "justify_content": null,
            "justify_items": null,
            "left": null,
            "margin": null,
            "max_height": null,
            "max_width": null,
            "min_height": null,
            "min_width": null,
            "object_fit": null,
            "object_position": null,
            "order": null,
            "overflow": null,
            "overflow_x": null,
            "overflow_y": null,
            "padding": null,
            "right": null,
            "top": null,
            "visibility": null,
            "width": null
          }
        },
        "167cd7ea3ec64e6195ab64f3d3739bc3": {
          "model_module": "@jupyter-widgets/base",
          "model_name": "LayoutModel",
          "model_module_version": "1.2.0",
          "state": {
            "_model_module": "@jupyter-widgets/base",
            "_model_module_version": "1.2.0",
            "_model_name": "LayoutModel",
            "_view_count": null,
            "_view_module": "@jupyter-widgets/base",
            "_view_module_version": "1.2.0",
            "_view_name": "LayoutView",
            "align_content": null,
            "align_items": null,
            "align_self": null,
            "border": null,
            "bottom": null,
            "display": null,
            "flex": null,
            "flex_flow": null,
            "grid_area": null,
            "grid_auto_columns": null,
            "grid_auto_flow": null,
            "grid_auto_rows": null,
            "grid_column": null,
            "grid_gap": null,
            "grid_row": null,
            "grid_template_areas": null,
            "grid_template_columns": null,
            "grid_template_rows": null,
            "height": null,
            "justify_content": null,
            "justify_items": null,
            "left": null,
            "margin": null,
            "max_height": null,
            "max_width": null,
            "min_height": null,
            "min_width": null,
            "object_fit": null,
            "object_position": null,
            "order": null,
            "overflow": null,
            "overflow_x": null,
            "overflow_y": null,
            "padding": null,
            "right": null,
            "top": null,
            "visibility": null,
            "width": null
          }
        },
        "a0053a2498424ac5b9b75f03d0275895": {
          "model_module": "@jupyter-widgets/controls",
          "model_name": "DescriptionStyleModel",
          "model_module_version": "1.5.0",
          "state": {
            "_model_module": "@jupyter-widgets/controls",
            "_model_module_version": "1.5.0",
            "_model_name": "DescriptionStyleModel",
            "_view_count": null,
            "_view_module": "@jupyter-widgets/base",
            "_view_module_version": "1.2.0",
            "_view_name": "StyleView",
            "description_width": ""
          }
        },
        "c5b84a03034346678fb004c9ce681d96": {
          "model_module": "@jupyter-widgets/base",
          "model_name": "LayoutModel",
          "model_module_version": "1.2.0",
          "state": {
            "_model_module": "@jupyter-widgets/base",
            "_model_module_version": "1.2.0",
            "_model_name": "LayoutModel",
            "_view_count": null,
            "_view_module": "@jupyter-widgets/base",
            "_view_module_version": "1.2.0",
            "_view_name": "LayoutView",
            "align_content": null,
            "align_items": null,
            "align_self": null,
            "border": null,
            "bottom": null,
            "display": null,
            "flex": null,
            "flex_flow": null,
            "grid_area": null,
            "grid_auto_columns": null,
            "grid_auto_flow": null,
            "grid_auto_rows": null,
            "grid_column": null,
            "grid_gap": null,
            "grid_row": null,
            "grid_template_areas": null,
            "grid_template_columns": null,
            "grid_template_rows": null,
            "height": null,
            "justify_content": null,
            "justify_items": null,
            "left": null,
            "margin": null,
            "max_height": null,
            "max_width": null,
            "min_height": null,
            "min_width": null,
            "object_fit": null,
            "object_position": null,
            "order": null,
            "overflow": null,
            "overflow_x": null,
            "overflow_y": null,
            "padding": null,
            "right": null,
            "top": null,
            "visibility": null,
            "width": null
          }
        },
        "321d1dc191a043478f5d026636393b7d": {
          "model_module": "@jupyter-widgets/controls",
          "model_name": "ProgressStyleModel",
          "model_module_version": "1.5.0",
          "state": {
            "_model_module": "@jupyter-widgets/controls",
            "_model_module_version": "1.5.0",
            "_model_name": "ProgressStyleModel",
            "_view_count": null,
            "_view_module": "@jupyter-widgets/base",
            "_view_module_version": "1.2.0",
            "_view_name": "StyleView",
            "bar_color": null,
            "description_width": ""
          }
        },
        "e93278df8a3a4f3f9a07feba9bf8c875": {
          "model_module": "@jupyter-widgets/base",
          "model_name": "LayoutModel",
          "model_module_version": "1.2.0",
          "state": {
            "_model_module": "@jupyter-widgets/base",
            "_model_module_version": "1.2.0",
            "_model_name": "LayoutModel",
            "_view_count": null,
            "_view_module": "@jupyter-widgets/base",
            "_view_module_version": "1.2.0",
            "_view_name": "LayoutView",
            "align_content": null,
            "align_items": null,
            "align_self": null,
            "border": null,
            "bottom": null,
            "display": null,
            "flex": null,
            "flex_flow": null,
            "grid_area": null,
            "grid_auto_columns": null,
            "grid_auto_flow": null,
            "grid_auto_rows": null,
            "grid_column": null,
            "grid_gap": null,
            "grid_row": null,
            "grid_template_areas": null,
            "grid_template_columns": null,
            "grid_template_rows": null,
            "height": null,
            "justify_content": null,
            "justify_items": null,
            "left": null,
            "margin": null,
            "max_height": null,
            "max_width": null,
            "min_height": null,
            "min_width": null,
            "object_fit": null,
            "object_position": null,
            "order": null,
            "overflow": null,
            "overflow_x": null,
            "overflow_y": null,
            "padding": null,
            "right": null,
            "top": null,
            "visibility": null,
            "width": null
          }
        },
        "861c0b7b09c84e21bb8060c76ad054b6": {
          "model_module": "@jupyter-widgets/controls",
          "model_name": "DescriptionStyleModel",
          "model_module_version": "1.5.0",
          "state": {
            "_model_module": "@jupyter-widgets/controls",
            "_model_module_version": "1.5.0",
            "_model_name": "DescriptionStyleModel",
            "_view_count": null,
            "_view_module": "@jupyter-widgets/base",
            "_view_module_version": "1.2.0",
            "_view_name": "StyleView",
            "description_width": ""
          }
        },
        "ae3a377884e8440e9c6bf61c36ecb692": {
          "model_module": "@jupyter-widgets/controls",
          "model_name": "HBoxModel",
          "model_module_version": "1.5.0",
          "state": {
            "_dom_classes": [],
            "_model_module": "@jupyter-widgets/controls",
            "_model_module_version": "1.5.0",
            "_model_name": "HBoxModel",
            "_view_count": null,
            "_view_module": "@jupyter-widgets/controls",
            "_view_module_version": "1.5.0",
            "_view_name": "HBoxView",
            "box_style": "",
            "children": [
              "IPY_MODEL_2f5f3fbe9cf446c686c960bd59031689",
              "IPY_MODEL_b08092be647f4eaba623810fb6378597",
              "IPY_MODEL_fdb7eae2cd654d40be00a0eee9f5c6d2"
            ],
            "layout": "IPY_MODEL_77113ae8fad145acae4b99bb96eaebb0"
          }
        },
        "2f5f3fbe9cf446c686c960bd59031689": {
          "model_module": "@jupyter-widgets/controls",
          "model_name": "HTMLModel",
          "model_module_version": "1.5.0",
          "state": {
            "_dom_classes": [],
            "_model_module": "@jupyter-widgets/controls",
            "_model_module_version": "1.5.0",
            "_model_name": "HTMLModel",
            "_view_count": null,
            "_view_module": "@jupyter-widgets/controls",
            "_view_module_version": "1.5.0",
            "_view_name": "HTMLView",
            "description": "",
            "description_tooltip": null,
            "layout": "IPY_MODEL_f3b681b0f8b4484c8cc8df267a2a312b",
            "placeholder": "​",
            "style": "IPY_MODEL_178b6b473ada4dd28a3022f84c9eb2f3",
            "value": "generation_config.json: 100%"
          }
        },
        "b08092be647f4eaba623810fb6378597": {
          "model_module": "@jupyter-widgets/controls",
          "model_name": "FloatProgressModel",
          "model_module_version": "1.5.0",
          "state": {
            "_dom_classes": [],
            "_model_module": "@jupyter-widgets/controls",
            "_model_module_version": "1.5.0",
            "_model_name": "FloatProgressModel",
            "_view_count": null,
            "_view_module": "@jupyter-widgets/controls",
            "_view_module_version": "1.5.0",
            "_view_name": "ProgressView",
            "bar_style": "success",
            "description": "",
            "description_tooltip": null,
            "layout": "IPY_MODEL_25cca43f6c5645ee9aa79f35ff0c1a48",
            "max": 184,
            "min": 0,
            "orientation": "horizontal",
            "style": "IPY_MODEL_486df437bb22462380928546d92e7522",
            "value": 184
          }
        },
        "fdb7eae2cd654d40be00a0eee9f5c6d2": {
          "model_module": "@jupyter-widgets/controls",
          "model_name": "HTMLModel",
          "model_module_version": "1.5.0",
          "state": {
            "_dom_classes": [],
            "_model_module": "@jupyter-widgets/controls",
            "_model_module_version": "1.5.0",
            "_model_name": "HTMLModel",
            "_view_count": null,
            "_view_module": "@jupyter-widgets/controls",
            "_view_module_version": "1.5.0",
            "_view_name": "HTMLView",
            "description": "",
            "description_tooltip": null,
            "layout": "IPY_MODEL_819876daa07449b0962d7d1cda425c01",
            "placeholder": "​",
            "style": "IPY_MODEL_e6a80529ddf24d1b9a9cfe893af520c4",
            "value": " 184/184 [00:00&lt;00:00, 9.80kB/s]"
          }
        },
        "77113ae8fad145acae4b99bb96eaebb0": {
          "model_module": "@jupyter-widgets/base",
          "model_name": "LayoutModel",
          "model_module_version": "1.2.0",
          "state": {
            "_model_module": "@jupyter-widgets/base",
            "_model_module_version": "1.2.0",
            "_model_name": "LayoutModel",
            "_view_count": null,
            "_view_module": "@jupyter-widgets/base",
            "_view_module_version": "1.2.0",
            "_view_name": "LayoutView",
            "align_content": null,
            "align_items": null,
            "align_self": null,
            "border": null,
            "bottom": null,
            "display": null,
            "flex": null,
            "flex_flow": null,
            "grid_area": null,
            "grid_auto_columns": null,
            "grid_auto_flow": null,
            "grid_auto_rows": null,
            "grid_column": null,
            "grid_gap": null,
            "grid_row": null,
            "grid_template_areas": null,
            "grid_template_columns": null,
            "grid_template_rows": null,
            "height": null,
            "justify_content": null,
            "justify_items": null,
            "left": null,
            "margin": null,
            "max_height": null,
            "max_width": null,
            "min_height": null,
            "min_width": null,
            "object_fit": null,
            "object_position": null,
            "order": null,
            "overflow": null,
            "overflow_x": null,
            "overflow_y": null,
            "padding": null,
            "right": null,
            "top": null,
            "visibility": null,
            "width": null
          }
        },
        "f3b681b0f8b4484c8cc8df267a2a312b": {
          "model_module": "@jupyter-widgets/base",
          "model_name": "LayoutModel",
          "model_module_version": "1.2.0",
          "state": {
            "_model_module": "@jupyter-widgets/base",
            "_model_module_version": "1.2.0",
            "_model_name": "LayoutModel",
            "_view_count": null,
            "_view_module": "@jupyter-widgets/base",
            "_view_module_version": "1.2.0",
            "_view_name": "LayoutView",
            "align_content": null,
            "align_items": null,
            "align_self": null,
            "border": null,
            "bottom": null,
            "display": null,
            "flex": null,
            "flex_flow": null,
            "grid_area": null,
            "grid_auto_columns": null,
            "grid_auto_flow": null,
            "grid_auto_rows": null,
            "grid_column": null,
            "grid_gap": null,
            "grid_row": null,
            "grid_template_areas": null,
            "grid_template_columns": null,
            "grid_template_rows": null,
            "height": null,
            "justify_content": null,
            "justify_items": null,
            "left": null,
            "margin": null,
            "max_height": null,
            "max_width": null,
            "min_height": null,
            "min_width": null,
            "object_fit": null,
            "object_position": null,
            "order": null,
            "overflow": null,
            "overflow_x": null,
            "overflow_y": null,
            "padding": null,
            "right": null,
            "top": null,
            "visibility": null,
            "width": null
          }
        },
        "178b6b473ada4dd28a3022f84c9eb2f3": {
          "model_module": "@jupyter-widgets/controls",
          "model_name": "DescriptionStyleModel",
          "model_module_version": "1.5.0",
          "state": {
            "_model_module": "@jupyter-widgets/controls",
            "_model_module_version": "1.5.0",
            "_model_name": "DescriptionStyleModel",
            "_view_count": null,
            "_view_module": "@jupyter-widgets/base",
            "_view_module_version": "1.2.0",
            "_view_name": "StyleView",
            "description_width": ""
          }
        },
        "25cca43f6c5645ee9aa79f35ff0c1a48": {
          "model_module": "@jupyter-widgets/base",
          "model_name": "LayoutModel",
          "model_module_version": "1.2.0",
          "state": {
            "_model_module": "@jupyter-widgets/base",
            "_model_module_version": "1.2.0",
            "_model_name": "LayoutModel",
            "_view_count": null,
            "_view_module": "@jupyter-widgets/base",
            "_view_module_version": "1.2.0",
            "_view_name": "LayoutView",
            "align_content": null,
            "align_items": null,
            "align_self": null,
            "border": null,
            "bottom": null,
            "display": null,
            "flex": null,
            "flex_flow": null,
            "grid_area": null,
            "grid_auto_columns": null,
            "grid_auto_flow": null,
            "grid_auto_rows": null,
            "grid_column": null,
            "grid_gap": null,
            "grid_row": null,
            "grid_template_areas": null,
            "grid_template_columns": null,
            "grid_template_rows": null,
            "height": null,
            "justify_content": null,
            "justify_items": null,
            "left": null,
            "margin": null,
            "max_height": null,
            "max_width": null,
            "min_height": null,
            "min_width": null,
            "object_fit": null,
            "object_position": null,
            "order": null,
            "overflow": null,
            "overflow_x": null,
            "overflow_y": null,
            "padding": null,
            "right": null,
            "top": null,
            "visibility": null,
            "width": null
          }
        },
        "486df437bb22462380928546d92e7522": {
          "model_module": "@jupyter-widgets/controls",
          "model_name": "ProgressStyleModel",
          "model_module_version": "1.5.0",
          "state": {
            "_model_module": "@jupyter-widgets/controls",
            "_model_module_version": "1.5.0",
            "_model_name": "ProgressStyleModel",
            "_view_count": null,
            "_view_module": "@jupyter-widgets/base",
            "_view_module_version": "1.2.0",
            "_view_name": "StyleView",
            "bar_color": null,
            "description_width": ""
          }
        },
        "819876daa07449b0962d7d1cda425c01": {
          "model_module": "@jupyter-widgets/base",
          "model_name": "LayoutModel",
          "model_module_version": "1.2.0",
          "state": {
            "_model_module": "@jupyter-widgets/base",
            "_model_module_version": "1.2.0",
            "_model_name": "LayoutModel",
            "_view_count": null,
            "_view_module": "@jupyter-widgets/base",
            "_view_module_version": "1.2.0",
            "_view_name": "LayoutView",
            "align_content": null,
            "align_items": null,
            "align_self": null,
            "border": null,
            "bottom": null,
            "display": null,
            "flex": null,
            "flex_flow": null,
            "grid_area": null,
            "grid_auto_columns": null,
            "grid_auto_flow": null,
            "grid_auto_rows": null,
            "grid_column": null,
            "grid_gap": null,
            "grid_row": null,
            "grid_template_areas": null,
            "grid_template_columns": null,
            "grid_template_rows": null,
            "height": null,
            "justify_content": null,
            "justify_items": null,
            "left": null,
            "margin": null,
            "max_height": null,
            "max_width": null,
            "min_height": null,
            "min_width": null,
            "object_fit": null,
            "object_position": null,
            "order": null,
            "overflow": null,
            "overflow_x": null,
            "overflow_y": null,
            "padding": null,
            "right": null,
            "top": null,
            "visibility": null,
            "width": null
          }
        },
        "e6a80529ddf24d1b9a9cfe893af520c4": {
          "model_module": "@jupyter-widgets/controls",
          "model_name": "DescriptionStyleModel",
          "model_module_version": "1.5.0",
          "state": {
            "_model_module": "@jupyter-widgets/controls",
            "_model_module_version": "1.5.0",
            "_model_name": "DescriptionStyleModel",
            "_view_count": null,
            "_view_module": "@jupyter-widgets/base",
            "_view_module_version": "1.2.0",
            "_view_name": "StyleView",
            "description_width": ""
          }
        },
        "562e934e184e46a696d6f596e8af775c": {
          "model_module": "@jupyter-widgets/controls",
          "model_name": "HBoxModel",
          "model_module_version": "1.5.0",
          "state": {
            "_dom_classes": [],
            "_model_module": "@jupyter-widgets/controls",
            "_model_module_version": "1.5.0",
            "_model_name": "HBoxModel",
            "_view_count": null,
            "_view_module": "@jupyter-widgets/controls",
            "_view_module_version": "1.5.0",
            "_view_name": "HBoxView",
            "box_style": "",
            "children": [
              "IPY_MODEL_010495900add442ca27c7f39723c18e7",
              "IPY_MODEL_70ab98bc9ca14d24960dd81555c6fe84",
              "IPY_MODEL_3310e779cbd14e3a8b218dcc51c387b3"
            ],
            "layout": "IPY_MODEL_6836cdf219ba45239017f7ee53056899"
          }
        },
        "010495900add442ca27c7f39723c18e7": {
          "model_module": "@jupyter-widgets/controls",
          "model_name": "HTMLModel",
          "model_module_version": "1.5.0",
          "state": {
            "_dom_classes": [],
            "_model_module": "@jupyter-widgets/controls",
            "_model_module_version": "1.5.0",
            "_model_name": "HTMLModel",
            "_view_count": null,
            "_view_module": "@jupyter-widgets/controls",
            "_view_module_version": "1.5.0",
            "_view_name": "HTMLView",
            "description": "",
            "description_tooltip": null,
            "layout": "IPY_MODEL_f9c693b3dee44b7e8d8bbc04091f49eb",
            "placeholder": "​",
            "style": "IPY_MODEL_35c120549c5c41d9931923452d020c14",
            "value": "tokenizer_config.json: 100%"
          }
        },
        "70ab98bc9ca14d24960dd81555c6fe84": {
          "model_module": "@jupyter-widgets/controls",
          "model_name": "FloatProgressModel",
          "model_module_version": "1.5.0",
          "state": {
            "_dom_classes": [],
            "_model_module": "@jupyter-widgets/controls",
            "_model_module_version": "1.5.0",
            "_model_name": "FloatProgressModel",
            "_view_count": null,
            "_view_module": "@jupyter-widgets/controls",
            "_view_module_version": "1.5.0",
            "_view_name": "ProgressView",
            "bar_style": "success",
            "description": "",
            "description_tooltip": null,
            "layout": "IPY_MODEL_a0d29f1b359b4817a1f283bd3d18bfba",
            "max": 55351,
            "min": 0,
            "orientation": "horizontal",
            "style": "IPY_MODEL_d708e8eeac8441e1802ee420a3b5e9f8",
            "value": 55351
          }
        },
        "3310e779cbd14e3a8b218dcc51c387b3": {
          "model_module": "@jupyter-widgets/controls",
          "model_name": "HTMLModel",
          "model_module_version": "1.5.0",
          "state": {
            "_dom_classes": [],
            "_model_module": "@jupyter-widgets/controls",
            "_model_module_version": "1.5.0",
            "_model_name": "HTMLModel",
            "_view_count": null,
            "_view_module": "@jupyter-widgets/controls",
            "_view_module_version": "1.5.0",
            "_view_name": "HTMLView",
            "description": "",
            "description_tooltip": null,
            "layout": "IPY_MODEL_dc3220469ca34122a1787d756e383f34",
            "placeholder": "​",
            "style": "IPY_MODEL_8d7e783f433a4dfa9144deeac1df19f5",
            "value": " 55.4k/55.4k [00:00&lt;00:00, 259kB/s]"
          }
        },
        "6836cdf219ba45239017f7ee53056899": {
          "model_module": "@jupyter-widgets/base",
          "model_name": "LayoutModel",
          "model_module_version": "1.2.0",
          "state": {
            "_model_module": "@jupyter-widgets/base",
            "_model_module_version": "1.2.0",
            "_model_name": "LayoutModel",
            "_view_count": null,
            "_view_module": "@jupyter-widgets/base",
            "_view_module_version": "1.2.0",
            "_view_name": "LayoutView",
            "align_content": null,
            "align_items": null,
            "align_self": null,
            "border": null,
            "bottom": null,
            "display": null,
            "flex": null,
            "flex_flow": null,
            "grid_area": null,
            "grid_auto_columns": null,
            "grid_auto_flow": null,
            "grid_auto_rows": null,
            "grid_column": null,
            "grid_gap": null,
            "grid_row": null,
            "grid_template_areas": null,
            "grid_template_columns": null,
            "grid_template_rows": null,
            "height": null,
            "justify_content": null,
            "justify_items": null,
            "left": null,
            "margin": null,
            "max_height": null,
            "max_width": null,
            "min_height": null,
            "min_width": null,
            "object_fit": null,
            "object_position": null,
            "order": null,
            "overflow": null,
            "overflow_x": null,
            "overflow_y": null,
            "padding": null,
            "right": null,
            "top": null,
            "visibility": null,
            "width": null
          }
        },
        "f9c693b3dee44b7e8d8bbc04091f49eb": {
          "model_module": "@jupyter-widgets/base",
          "model_name": "LayoutModel",
          "model_module_version": "1.2.0",
          "state": {
            "_model_module": "@jupyter-widgets/base",
            "_model_module_version": "1.2.0",
            "_model_name": "LayoutModel",
            "_view_count": null,
            "_view_module": "@jupyter-widgets/base",
            "_view_module_version": "1.2.0",
            "_view_name": "LayoutView",
            "align_content": null,
            "align_items": null,
            "align_self": null,
            "border": null,
            "bottom": null,
            "display": null,
            "flex": null,
            "flex_flow": null,
            "grid_area": null,
            "grid_auto_columns": null,
            "grid_auto_flow": null,
            "grid_auto_rows": null,
            "grid_column": null,
            "grid_gap": null,
            "grid_row": null,
            "grid_template_areas": null,
            "grid_template_columns": null,
            "grid_template_rows": null,
            "height": null,
            "justify_content": null,
            "justify_items": null,
            "left": null,
            "margin": null,
            "max_height": null,
            "max_width": null,
            "min_height": null,
            "min_width": null,
            "object_fit": null,
            "object_position": null,
            "order": null,
            "overflow": null,
            "overflow_x": null,
            "overflow_y": null,
            "padding": null,
            "right": null,
            "top": null,
            "visibility": null,
            "width": null
          }
        },
        "35c120549c5c41d9931923452d020c14": {
          "model_module": "@jupyter-widgets/controls",
          "model_name": "DescriptionStyleModel",
          "model_module_version": "1.5.0",
          "state": {
            "_model_module": "@jupyter-widgets/controls",
            "_model_module_version": "1.5.0",
            "_model_name": "DescriptionStyleModel",
            "_view_count": null,
            "_view_module": "@jupyter-widgets/base",
            "_view_module_version": "1.2.0",
            "_view_name": "StyleView",
            "description_width": ""
          }
        },
        "a0d29f1b359b4817a1f283bd3d18bfba": {
          "model_module": "@jupyter-widgets/base",
          "model_name": "LayoutModel",
          "model_module_version": "1.2.0",
          "state": {
            "_model_module": "@jupyter-widgets/base",
            "_model_module_version": "1.2.0",
            "_model_name": "LayoutModel",
            "_view_count": null,
            "_view_module": "@jupyter-widgets/base",
            "_view_module_version": "1.2.0",
            "_view_name": "LayoutView",
            "align_content": null,
            "align_items": null,
            "align_self": null,
            "border": null,
            "bottom": null,
            "display": null,
            "flex": null,
            "flex_flow": null,
            "grid_area": null,
            "grid_auto_columns": null,
            "grid_auto_flow": null,
            "grid_auto_rows": null,
            "grid_column": null,
            "grid_gap": null,
            "grid_row": null,
            "grid_template_areas": null,
            "grid_template_columns": null,
            "grid_template_rows": null,
            "height": null,
            "justify_content": null,
            "justify_items": null,
            "left": null,
            "margin": null,
            "max_height": null,
            "max_width": null,
            "min_height": null,
            "min_width": null,
            "object_fit": null,
            "object_position": null,
            "order": null,
            "overflow": null,
            "overflow_x": null,
            "overflow_y": null,
            "padding": null,
            "right": null,
            "top": null,
            "visibility": null,
            "width": null
          }
        },
        "d708e8eeac8441e1802ee420a3b5e9f8": {
          "model_module": "@jupyter-widgets/controls",
          "model_name": "ProgressStyleModel",
          "model_module_version": "1.5.0",
          "state": {
            "_model_module": "@jupyter-widgets/controls",
            "_model_module_version": "1.5.0",
            "_model_name": "ProgressStyleModel",
            "_view_count": null,
            "_view_module": "@jupyter-widgets/base",
            "_view_module_version": "1.2.0",
            "_view_name": "StyleView",
            "bar_color": null,
            "description_width": ""
          }
        },
        "dc3220469ca34122a1787d756e383f34": {
          "model_module": "@jupyter-widgets/base",
          "model_name": "LayoutModel",
          "model_module_version": "1.2.0",
          "state": {
            "_model_module": "@jupyter-widgets/base",
            "_model_module_version": "1.2.0",
            "_model_name": "LayoutModel",
            "_view_count": null,
            "_view_module": "@jupyter-widgets/base",
            "_view_module_version": "1.2.0",
            "_view_name": "LayoutView",
            "align_content": null,
            "align_items": null,
            "align_self": null,
            "border": null,
            "bottom": null,
            "display": null,
            "flex": null,
            "flex_flow": null,
            "grid_area": null,
            "grid_auto_columns": null,
            "grid_auto_flow": null,
            "grid_auto_rows": null,
            "grid_column": null,
            "grid_gap": null,
            "grid_row": null,
            "grid_template_areas": null,
            "grid_template_columns": null,
            "grid_template_rows": null,
            "height": null,
            "justify_content": null,
            "justify_items": null,
            "left": null,
            "margin": null,
            "max_height": null,
            "max_width": null,
            "min_height": null,
            "min_width": null,
            "object_fit": null,
            "object_position": null,
            "order": null,
            "overflow": null,
            "overflow_x": null,
            "overflow_y": null,
            "padding": null,
            "right": null,
            "top": null,
            "visibility": null,
            "width": null
          }
        },
        "8d7e783f433a4dfa9144deeac1df19f5": {
          "model_module": "@jupyter-widgets/controls",
          "model_name": "DescriptionStyleModel",
          "model_module_version": "1.5.0",
          "state": {
            "_model_module": "@jupyter-widgets/controls",
            "_model_module_version": "1.5.0",
            "_model_name": "DescriptionStyleModel",
            "_view_count": null,
            "_view_module": "@jupyter-widgets/base",
            "_view_module_version": "1.2.0",
            "_view_name": "StyleView",
            "description_width": ""
          }
        },
        "6134519934ea48dda3c76cffb21f0d72": {
          "model_module": "@jupyter-widgets/controls",
          "model_name": "HBoxModel",
          "model_module_version": "1.5.0",
          "state": {
            "_dom_classes": [],
            "_model_module": "@jupyter-widgets/controls",
            "_model_module_version": "1.5.0",
            "_model_name": "HBoxModel",
            "_view_count": null,
            "_view_module": "@jupyter-widgets/controls",
            "_view_module_version": "1.5.0",
            "_view_name": "HBoxView",
            "box_style": "",
            "children": [
              "IPY_MODEL_940c2ff0cad5495ba70f2b6c92b6c04b",
              "IPY_MODEL_2397eaf1873244e4b1857bc0a5f912fb",
              "IPY_MODEL_f3bd5d6efec241eb88c0bf0770d3abc5"
            ],
            "layout": "IPY_MODEL_276ceea4b76d472c9fe5b1ffadf735cd"
          }
        },
        "940c2ff0cad5495ba70f2b6c92b6c04b": {
          "model_module": "@jupyter-widgets/controls",
          "model_name": "HTMLModel",
          "model_module_version": "1.5.0",
          "state": {
            "_dom_classes": [],
            "_model_module": "@jupyter-widgets/controls",
            "_model_module_version": "1.5.0",
            "_model_name": "HTMLModel",
            "_view_count": null,
            "_view_module": "@jupyter-widgets/controls",
            "_view_module_version": "1.5.0",
            "_view_name": "HTMLView",
            "description": "",
            "description_tooltip": null,
            "layout": "IPY_MODEL_d3a640dc484f45abbbaa3cda03e37f12",
            "placeholder": "​",
            "style": "IPY_MODEL_99c4aeb5d0f3434f9d0e6a2c6845d8d0",
            "value": "tokenizer.json: 100%"
          }
        },
        "2397eaf1873244e4b1857bc0a5f912fb": {
          "model_module": "@jupyter-widgets/controls",
          "model_name": "FloatProgressModel",
          "model_module_version": "1.5.0",
          "state": {
            "_dom_classes": [],
            "_model_module": "@jupyter-widgets/controls",
            "_model_module_version": "1.5.0",
            "_model_name": "FloatProgressModel",
            "_view_count": null,
            "_view_module": "@jupyter-widgets/controls",
            "_view_module_version": "1.5.0",
            "_view_name": "ProgressView",
            "bar_style": "success",
            "description": "",
            "description_tooltip": null,
            "layout": "IPY_MODEL_cb92c41813464f0d9bd022767e3a1754",
            "max": 9085657,
            "min": 0,
            "orientation": "horizontal",
            "style": "IPY_MODEL_74f281f457b84583a948378ba3a3a3ba",
            "value": 9085657
          }
        },
        "f3bd5d6efec241eb88c0bf0770d3abc5": {
          "model_module": "@jupyter-widgets/controls",
          "model_name": "HTMLModel",
          "model_module_version": "1.5.0",
          "state": {
            "_dom_classes": [],
            "_model_module": "@jupyter-widgets/controls",
            "_model_module_version": "1.5.0",
            "_model_name": "HTMLModel",
            "_view_count": null,
            "_view_module": "@jupyter-widgets/controls",
            "_view_module_version": "1.5.0",
            "_view_name": "HTMLView",
            "description": "",
            "description_tooltip": null,
            "layout": "IPY_MODEL_7417e40fa40c4b6dbe8cea55cb1cc77e",
            "placeholder": "​",
            "style": "IPY_MODEL_49a1bb4d1a974f47b17391cfae34d654",
            "value": " 9.09M/9.09M [00:00&lt;00:00, 9.85MB/s]"
          }
        },
        "276ceea4b76d472c9fe5b1ffadf735cd": {
          "model_module": "@jupyter-widgets/base",
          "model_name": "LayoutModel",
          "model_module_version": "1.2.0",
          "state": {
            "_model_module": "@jupyter-widgets/base",
            "_model_module_version": "1.2.0",
            "_model_name": "LayoutModel",
            "_view_count": null,
            "_view_module": "@jupyter-widgets/base",
            "_view_module_version": "1.2.0",
            "_view_name": "LayoutView",
            "align_content": null,
            "align_items": null,
            "align_self": null,
            "border": null,
            "bottom": null,
            "display": null,
            "flex": null,
            "flex_flow": null,
            "grid_area": null,
            "grid_auto_columns": null,
            "grid_auto_flow": null,
            "grid_auto_rows": null,
            "grid_column": null,
            "grid_gap": null,
            "grid_row": null,
            "grid_template_areas": null,
            "grid_template_columns": null,
            "grid_template_rows": null,
            "height": null,
            "justify_content": null,
            "justify_items": null,
            "left": null,
            "margin": null,
            "max_height": null,
            "max_width": null,
            "min_height": null,
            "min_width": null,
            "object_fit": null,
            "object_position": null,
            "order": null,
            "overflow": null,
            "overflow_x": null,
            "overflow_y": null,
            "padding": null,
            "right": null,
            "top": null,
            "visibility": null,
            "width": null
          }
        },
        "d3a640dc484f45abbbaa3cda03e37f12": {
          "model_module": "@jupyter-widgets/base",
          "model_name": "LayoutModel",
          "model_module_version": "1.2.0",
          "state": {
            "_model_module": "@jupyter-widgets/base",
            "_model_module_version": "1.2.0",
            "_model_name": "LayoutModel",
            "_view_count": null,
            "_view_module": "@jupyter-widgets/base",
            "_view_module_version": "1.2.0",
            "_view_name": "LayoutView",
            "align_content": null,
            "align_items": null,
            "align_self": null,
            "border": null,
            "bottom": null,
            "display": null,
            "flex": null,
            "flex_flow": null,
            "grid_area": null,
            "grid_auto_columns": null,
            "grid_auto_flow": null,
            "grid_auto_rows": null,
            "grid_column": null,
            "grid_gap": null,
            "grid_row": null,
            "grid_template_areas": null,
            "grid_template_columns": null,
            "grid_template_rows": null,
            "height": null,
            "justify_content": null,
            "justify_items": null,
            "left": null,
            "margin": null,
            "max_height": null,
            "max_width": null,
            "min_height": null,
            "min_width": null,
            "object_fit": null,
            "object_position": null,
            "order": null,
            "overflow": null,
            "overflow_x": null,
            "overflow_y": null,
            "padding": null,
            "right": null,
            "top": null,
            "visibility": null,
            "width": null
          }
        },
        "99c4aeb5d0f3434f9d0e6a2c6845d8d0": {
          "model_module": "@jupyter-widgets/controls",
          "model_name": "DescriptionStyleModel",
          "model_module_version": "1.5.0",
          "state": {
            "_model_module": "@jupyter-widgets/controls",
            "_model_module_version": "1.5.0",
            "_model_name": "DescriptionStyleModel",
            "_view_count": null,
            "_view_module": "@jupyter-widgets/base",
            "_view_module_version": "1.2.0",
            "_view_name": "StyleView",
            "description_width": ""
          }
        },
        "cb92c41813464f0d9bd022767e3a1754": {
          "model_module": "@jupyter-widgets/base",
          "model_name": "LayoutModel",
          "model_module_version": "1.2.0",
          "state": {
            "_model_module": "@jupyter-widgets/base",
            "_model_module_version": "1.2.0",
            "_model_name": "LayoutModel",
            "_view_count": null,
            "_view_module": "@jupyter-widgets/base",
            "_view_module_version": "1.2.0",
            "_view_name": "LayoutView",
            "align_content": null,
            "align_items": null,
            "align_self": null,
            "border": null,
            "bottom": null,
            "display": null,
            "flex": null,
            "flex_flow": null,
            "grid_area": null,
            "grid_auto_columns": null,
            "grid_auto_flow": null,
            "grid_auto_rows": null,
            "grid_column": null,
            "grid_gap": null,
            "grid_row": null,
            "grid_template_areas": null,
            "grid_template_columns": null,
            "grid_template_rows": null,
            "height": null,
            "justify_content": null,
            "justify_items": null,
            "left": null,
            "margin": null,
            "max_height": null,
            "max_width": null,
            "min_height": null,
            "min_width": null,
            "object_fit": null,
            "object_position": null,
            "order": null,
            "overflow": null,
            "overflow_x": null,
            "overflow_y": null,
            "padding": null,
            "right": null,
            "top": null,
            "visibility": null,
            "width": null
          }
        },
        "74f281f457b84583a948378ba3a3a3ba": {
          "model_module": "@jupyter-widgets/controls",
          "model_name": "ProgressStyleModel",
          "model_module_version": "1.5.0",
          "state": {
            "_model_module": "@jupyter-widgets/controls",
            "_model_module_version": "1.5.0",
            "_model_name": "ProgressStyleModel",
            "_view_count": null,
            "_view_module": "@jupyter-widgets/base",
            "_view_module_version": "1.2.0",
            "_view_name": "StyleView",
            "bar_color": null,
            "description_width": ""
          }
        },
        "7417e40fa40c4b6dbe8cea55cb1cc77e": {
          "model_module": "@jupyter-widgets/base",
          "model_name": "LayoutModel",
          "model_module_version": "1.2.0",
          "state": {
            "_model_module": "@jupyter-widgets/base",
            "_model_module_version": "1.2.0",
            "_model_name": "LayoutModel",
            "_view_count": null,
            "_view_module": "@jupyter-widgets/base",
            "_view_module_version": "1.2.0",
            "_view_name": "LayoutView",
            "align_content": null,
            "align_items": null,
            "align_self": null,
            "border": null,
            "bottom": null,
            "display": null,
            "flex": null,
            "flex_flow": null,
            "grid_area": null,
            "grid_auto_columns": null,
            "grid_auto_flow": null,
            "grid_auto_rows": null,
            "grid_column": null,
            "grid_gap": null,
            "grid_row": null,
            "grid_template_areas": null,
            "grid_template_columns": null,
            "grid_template_rows": null,
            "height": null,
            "justify_content": null,
            "justify_items": null,
            "left": null,
            "margin": null,
            "max_height": null,
            "max_width": null,
            "min_height": null,
            "min_width": null,
            "object_fit": null,
            "object_position": null,
            "order": null,
            "overflow": null,
            "overflow_x": null,
            "overflow_y": null,
            "padding": null,
            "right": null,
            "top": null,
            "visibility": null,
            "width": null
          }
        },
        "49a1bb4d1a974f47b17391cfae34d654": {
          "model_module": "@jupyter-widgets/controls",
          "model_name": "DescriptionStyleModel",
          "model_module_version": "1.5.0",
          "state": {
            "_model_module": "@jupyter-widgets/controls",
            "_model_module_version": "1.5.0",
            "_model_name": "DescriptionStyleModel",
            "_view_count": null,
            "_view_module": "@jupyter-widgets/base",
            "_view_module_version": "1.2.0",
            "_view_name": "StyleView",
            "description_width": ""
          }
        },
        "472231be6b574e61b88f26abf509e2a3": {
          "model_module": "@jupyter-widgets/controls",
          "model_name": "HBoxModel",
          "model_module_version": "1.5.0",
          "state": {
            "_dom_classes": [],
            "_model_module": "@jupyter-widgets/controls",
            "_model_module_version": "1.5.0",
            "_model_name": "HBoxModel",
            "_view_count": null,
            "_view_module": "@jupyter-widgets/controls",
            "_view_module_version": "1.5.0",
            "_view_name": "HBoxView",
            "box_style": "",
            "children": [
              "IPY_MODEL_b3ce6de0f45c411a839061b570441910",
              "IPY_MODEL_4df06191bbfd46b8a00a1689a3cbd9d6",
              "IPY_MODEL_1647a06ab7014eee8b65f1c48bb5fbc5"
            ],
            "layout": "IPY_MODEL_f23f7effb2d9466f9139d94d5486d181"
          }
        },
        "b3ce6de0f45c411a839061b570441910": {
          "model_module": "@jupyter-widgets/controls",
          "model_name": "HTMLModel",
          "model_module_version": "1.5.0",
          "state": {
            "_dom_classes": [],
            "_model_module": "@jupyter-widgets/controls",
            "_model_module_version": "1.5.0",
            "_model_name": "HTMLModel",
            "_view_count": null,
            "_view_module": "@jupyter-widgets/controls",
            "_view_module_version": "1.5.0",
            "_view_name": "HTMLView",
            "description": "",
            "description_tooltip": null,
            "layout": "IPY_MODEL_28d6a0d8b96d4325aff774affd814f31",
            "placeholder": "​",
            "style": "IPY_MODEL_747ba4b0afa647e7b726363c484fa8e3",
            "value": "special_tokens_map.json: 100%"
          }
        },
        "4df06191bbfd46b8a00a1689a3cbd9d6": {
          "model_module": "@jupyter-widgets/controls",
          "model_name": "FloatProgressModel",
          "model_module_version": "1.5.0",
          "state": {
            "_dom_classes": [],
            "_model_module": "@jupyter-widgets/controls",
            "_model_module_version": "1.5.0",
            "_model_name": "FloatProgressModel",
            "_view_count": null,
            "_view_module": "@jupyter-widgets/controls",
            "_view_module_version": "1.5.0",
            "_view_name": "ProgressView",
            "bar_style": "success",
            "description": "",
            "description_tooltip": null,
            "layout": "IPY_MODEL_b49a00a3956e46f799293165cc077f4c",
            "max": 296,
            "min": 0,
            "orientation": "horizontal",
            "style": "IPY_MODEL_9be534bc4a1c433fa8decc3dcd46c1c2",
            "value": 296
          }
        },
        "1647a06ab7014eee8b65f1c48bb5fbc5": {
          "model_module": "@jupyter-widgets/controls",
          "model_name": "HTMLModel",
          "model_module_version": "1.5.0",
          "state": {
            "_dom_classes": [],
            "_model_module": "@jupyter-widgets/controls",
            "_model_module_version": "1.5.0",
            "_model_name": "HTMLModel",
            "_view_count": null,
            "_view_module": "@jupyter-widgets/controls",
            "_view_module_version": "1.5.0",
            "_view_name": "HTMLView",
            "description": "",
            "description_tooltip": null,
            "layout": "IPY_MODEL_791fd0fac4f745fe8dae4753a9fec9a4",
            "placeholder": "​",
            "style": "IPY_MODEL_92b44e54f7364eb9a2cd3161a42716f7",
            "value": " 296/296 [00:00&lt;00:00, 12.3kB/s]"
          }
        },
        "f23f7effb2d9466f9139d94d5486d181": {
          "model_module": "@jupyter-widgets/base",
          "model_name": "LayoutModel",
          "model_module_version": "1.2.0",
          "state": {
            "_model_module": "@jupyter-widgets/base",
            "_model_module_version": "1.2.0",
            "_model_name": "LayoutModel",
            "_view_count": null,
            "_view_module": "@jupyter-widgets/base",
            "_view_module_version": "1.2.0",
            "_view_name": "LayoutView",
            "align_content": null,
            "align_items": null,
            "align_self": null,
            "border": null,
            "bottom": null,
            "display": null,
            "flex": null,
            "flex_flow": null,
            "grid_area": null,
            "grid_auto_columns": null,
            "grid_auto_flow": null,
            "grid_auto_rows": null,
            "grid_column": null,
            "grid_gap": null,
            "grid_row": null,
            "grid_template_areas": null,
            "grid_template_columns": null,
            "grid_template_rows": null,
            "height": null,
            "justify_content": null,
            "justify_items": null,
            "left": null,
            "margin": null,
            "max_height": null,
            "max_width": null,
            "min_height": null,
            "min_width": null,
            "object_fit": null,
            "object_position": null,
            "order": null,
            "overflow": null,
            "overflow_x": null,
            "overflow_y": null,
            "padding": null,
            "right": null,
            "top": null,
            "visibility": null,
            "width": null
          }
        },
        "28d6a0d8b96d4325aff774affd814f31": {
          "model_module": "@jupyter-widgets/base",
          "model_name": "LayoutModel",
          "model_module_version": "1.2.0",
          "state": {
            "_model_module": "@jupyter-widgets/base",
            "_model_module_version": "1.2.0",
            "_model_name": "LayoutModel",
            "_view_count": null,
            "_view_module": "@jupyter-widgets/base",
            "_view_module_version": "1.2.0",
            "_view_name": "LayoutView",
            "align_content": null,
            "align_items": null,
            "align_self": null,
            "border": null,
            "bottom": null,
            "display": null,
            "flex": null,
            "flex_flow": null,
            "grid_area": null,
            "grid_auto_columns": null,
            "grid_auto_flow": null,
            "grid_auto_rows": null,
            "grid_column": null,
            "grid_gap": null,
            "grid_row": null,
            "grid_template_areas": null,
            "grid_template_columns": null,
            "grid_template_rows": null,
            "height": null,
            "justify_content": null,
            "justify_items": null,
            "left": null,
            "margin": null,
            "max_height": null,
            "max_width": null,
            "min_height": null,
            "min_width": null,
            "object_fit": null,
            "object_position": null,
            "order": null,
            "overflow": null,
            "overflow_x": null,
            "overflow_y": null,
            "padding": null,
            "right": null,
            "top": null,
            "visibility": null,
            "width": null
          }
        },
        "747ba4b0afa647e7b726363c484fa8e3": {
          "model_module": "@jupyter-widgets/controls",
          "model_name": "DescriptionStyleModel",
          "model_module_version": "1.5.0",
          "state": {
            "_model_module": "@jupyter-widgets/controls",
            "_model_module_version": "1.5.0",
            "_model_name": "DescriptionStyleModel",
            "_view_count": null,
            "_view_module": "@jupyter-widgets/base",
            "_view_module_version": "1.2.0",
            "_view_name": "StyleView",
            "description_width": ""
          }
        },
        "b49a00a3956e46f799293165cc077f4c": {
          "model_module": "@jupyter-widgets/base",
          "model_name": "LayoutModel",
          "model_module_version": "1.2.0",
          "state": {
            "_model_module": "@jupyter-widgets/base",
            "_model_module_version": "1.2.0",
            "_model_name": "LayoutModel",
            "_view_count": null,
            "_view_module": "@jupyter-widgets/base",
            "_view_module_version": "1.2.0",
            "_view_name": "LayoutView",
            "align_content": null,
            "align_items": null,
            "align_self": null,
            "border": null,
            "bottom": null,
            "display": null,
            "flex": null,
            "flex_flow": null,
            "grid_area": null,
            "grid_auto_columns": null,
            "grid_auto_flow": null,
            "grid_auto_rows": null,
            "grid_column": null,
            "grid_gap": null,
            "grid_row": null,
            "grid_template_areas": null,
            "grid_template_columns": null,
            "grid_template_rows": null,
            "height": null,
            "justify_content": null,
            "justify_items": null,
            "left": null,
            "margin": null,
            "max_height": null,
            "max_width": null,
            "min_height": null,
            "min_width": null,
            "object_fit": null,
            "object_position": null,
            "order": null,
            "overflow": null,
            "overflow_x": null,
            "overflow_y": null,
            "padding": null,
            "right": null,
            "top": null,
            "visibility": null,
            "width": null
          }
        },
        "9be534bc4a1c433fa8decc3dcd46c1c2": {
          "model_module": "@jupyter-widgets/controls",
          "model_name": "ProgressStyleModel",
          "model_module_version": "1.5.0",
          "state": {
            "_model_module": "@jupyter-widgets/controls",
            "_model_module_version": "1.5.0",
            "_model_name": "ProgressStyleModel",
            "_view_count": null,
            "_view_module": "@jupyter-widgets/base",
            "_view_module_version": "1.2.0",
            "_view_name": "StyleView",
            "bar_color": null,
            "description_width": ""
          }
        },
        "791fd0fac4f745fe8dae4753a9fec9a4": {
          "model_module": "@jupyter-widgets/base",
          "model_name": "LayoutModel",
          "model_module_version": "1.2.0",
          "state": {
            "_model_module": "@jupyter-widgets/base",
            "_model_module_version": "1.2.0",
            "_model_name": "LayoutModel",
            "_view_count": null,
            "_view_module": "@jupyter-widgets/base",
            "_view_module_version": "1.2.0",
            "_view_name": "LayoutView",
            "align_content": null,
            "align_items": null,
            "align_self": null,
            "border": null,
            "bottom": null,
            "display": null,
            "flex": null,
            "flex_flow": null,
            "grid_area": null,
            "grid_auto_columns": null,
            "grid_auto_flow": null,
            "grid_auto_rows": null,
            "grid_column": null,
            "grid_gap": null,
            "grid_row": null,
            "grid_template_areas": null,
            "grid_template_columns": null,
            "grid_template_rows": null,
            "height": null,
            "justify_content": null,
            "justify_items": null,
            "left": null,
            "margin": null,
            "max_height": null,
            "max_width": null,
            "min_height": null,
            "min_width": null,
            "object_fit": null,
            "object_position": null,
            "order": null,
            "overflow": null,
            "overflow_x": null,
            "overflow_y": null,
            "padding": null,
            "right": null,
            "top": null,
            "visibility": null,
            "width": null
          }
        },
        "92b44e54f7364eb9a2cd3161a42716f7": {
          "model_module": "@jupyter-widgets/controls",
          "model_name": "DescriptionStyleModel",
          "model_module_version": "1.5.0",
          "state": {
            "_model_module": "@jupyter-widgets/controls",
            "_model_module_version": "1.5.0",
            "_model_name": "DescriptionStyleModel",
            "_view_count": null,
            "_view_module": "@jupyter-widgets/base",
            "_view_module_version": "1.2.0",
            "_view_name": "StyleView",
            "description_width": ""
          }
        },
        "b3b294d2a13545a8a3fef593add98d1a": {
          "model_module": "@jupyter-widgets/output",
          "model_name": "OutputModel",
          "model_module_version": "1.0.0",
          "state": {
            "_dom_classes": [],
            "_model_module": "@jupyter-widgets/output",
            "_model_module_version": "1.0.0",
            "_model_name": "OutputModel",
            "_view_count": null,
            "_view_module": "@jupyter-widgets/output",
            "_view_module_version": "1.0.0",
            "_view_name": "OutputView",
            "layout": "IPY_MODEL_e18110018d3645269478e19bca8ccb11",
            "msg_id": "",
            "outputs": [
              {
                "output_type": "display_data",
                "data": {
                  "text/plain": "✨ You're running DeepEval's latest \u001b[38;2;106;0;255mLanguage (GEval) Metric\u001b[0m! \u001b[38;2;55;65;81m(using meta-llama/Meta-Llama-3.1-8B-Instruct, strict=…\u001b[0m\n",
                  "text/html": "<pre style=\"white-space:pre;overflow-x:auto;line-height:normal;font-family:Menlo,'DejaVu Sans Mono',consolas,'Courier New',monospace\">✨ You're running DeepEval's latest <span style=\"color: #6a00ff; text-decoration-color: #6a00ff\">Language (GEval) Metric</span>! <span style=\"color: #374151; text-decoration-color: #374151\">(using meta-llama/Meta-Llama-3.1-8B-Instruct, strict=…</span>\n</pre>\n"
                },
                "metadata": {}
              }
            ]
          }
        },
        "e18110018d3645269478e19bca8ccb11": {
          "model_module": "@jupyter-widgets/base",
          "model_name": "LayoutModel",
          "model_module_version": "1.2.0",
          "state": {
            "_model_module": "@jupyter-widgets/base",
            "_model_module_version": "1.2.0",
            "_model_name": "LayoutModel",
            "_view_count": null,
            "_view_module": "@jupyter-widgets/base",
            "_view_module_version": "1.2.0",
            "_view_name": "LayoutView",
            "align_content": null,
            "align_items": null,
            "align_self": null,
            "border": null,
            "bottom": null,
            "display": null,
            "flex": null,
            "flex_flow": null,
            "grid_area": null,
            "grid_auto_columns": null,
            "grid_auto_flow": null,
            "grid_auto_rows": null,
            "grid_column": null,
            "grid_gap": null,
            "grid_row": null,
            "grid_template_areas": null,
            "grid_template_columns": null,
            "grid_template_rows": null,
            "height": null,
            "justify_content": null,
            "justify_items": null,
            "left": null,
            "margin": null,
            "max_height": null,
            "max_width": null,
            "min_height": null,
            "min_width": null,
            "object_fit": null,
            "object_position": null,
            "order": null,
            "overflow": null,
            "overflow_x": null,
            "overflow_y": null,
            "padding": null,
            "right": null,
            "top": null,
            "visibility": null,
            "width": null
          }
        },
        "b41ee0f45e6949dd8920bd3d2b9aa31c": {
          "model_module": "@jupyter-widgets/output",
          "model_name": "OutputModel",
          "model_module_version": "1.0.0",
          "state": {
            "_dom_classes": [],
            "_model_module": "@jupyter-widgets/output",
            "_model_module_version": "1.0.0",
            "_model_name": "OutputModel",
            "_view_count": null,
            "_view_module": "@jupyter-widgets/output",
            "_view_module_version": "1.0.0",
            "_view_name": "OutputView",
            "layout": "IPY_MODEL_2018a19f73f549c18948dd14f67f423e",
            "msg_id": "",
            "outputs": [
              {
                "output_type": "display_data",
                "data": {
                  "text/plain": "✨ You're running DeepEval's latest \u001b[38;2;106;0;255mConciseness (GEval) Metric\u001b[0m! \u001b[38;2;55;65;81m(using meta-llama/Meta-Llama-3.1-8B-Instruct, stri…\u001b[0m\n",
                  "text/html": "<pre style=\"white-space:pre;overflow-x:auto;line-height:normal;font-family:Menlo,'DejaVu Sans Mono',consolas,'Courier New',monospace\">✨ You're running DeepEval's latest <span style=\"color: #6a00ff; text-decoration-color: #6a00ff\">Conciseness (GEval) Metric</span>! <span style=\"color: #374151; text-decoration-color: #374151\">(using meta-llama/Meta-Llama-3.1-8B-Instruct, stri…</span>\n</pre>\n"
                },
                "metadata": {}
              }
            ]
          }
        },
        "2018a19f73f549c18948dd14f67f423e": {
          "model_module": "@jupyter-widgets/base",
          "model_name": "LayoutModel",
          "model_module_version": "1.2.0",
          "state": {
            "_model_module": "@jupyter-widgets/base",
            "_model_module_version": "1.2.0",
            "_model_name": "LayoutModel",
            "_view_count": null,
            "_view_module": "@jupyter-widgets/base",
            "_view_module_version": "1.2.0",
            "_view_name": "LayoutView",
            "align_content": null,
            "align_items": null,
            "align_self": null,
            "border": null,
            "bottom": null,
            "display": null,
            "flex": null,
            "flex_flow": null,
            "grid_area": null,
            "grid_auto_columns": null,
            "grid_auto_flow": null,
            "grid_auto_rows": null,
            "grid_column": null,
            "grid_gap": null,
            "grid_row": null,
            "grid_template_areas": null,
            "grid_template_columns": null,
            "grid_template_rows": null,
            "height": null,
            "justify_content": null,
            "justify_items": null,
            "left": null,
            "margin": null,
            "max_height": null,
            "max_width": null,
            "min_height": null,
            "min_width": null,
            "object_fit": null,
            "object_position": null,
            "order": null,
            "overflow": null,
            "overflow_x": null,
            "overflow_y": null,
            "padding": null,
            "right": null,
            "top": null,
            "visibility": null,
            "width": null
          }
        },
        "0754b17c3f8842208bd29fb90b0cd7d8": {
          "model_module": "@jupyter-widgets/output",
          "model_name": "OutputModel",
          "model_module_version": "1.0.0",
          "state": {
            "_dom_classes": [],
            "_model_module": "@jupyter-widgets/output",
            "_model_module_version": "1.0.0",
            "_model_name": "OutputModel",
            "_view_count": null,
            "_view_module": "@jupyter-widgets/output",
            "_view_module_version": "1.0.0",
            "_view_name": "OutputView",
            "layout": "IPY_MODEL_0036afe2b2a14e07ae09f60c1adc0b43",
            "msg_id": "",
            "outputs": [
              {
                "output_type": "display_data",
                "data": {
                  "text/plain": "✨ You're running DeepEval's latest \u001b[38;2;106;0;255mLanguage (GEval) Metric\u001b[0m! \u001b[38;2;55;65;81m(using meta-llama/Meta-Llama-3.1-8B-Instruct, strict=…\u001b[0m\n✨ You're running DeepEval's latest \u001b[38;2;106;0;255mAnswer Relevancy Metric\u001b[0m! \u001b[38;2;55;65;81m(using meta-llama/Meta-Llama-3.1-8B-Instruct, strict=…\u001b[0m\n",
                  "text/html": "<pre style=\"white-space:pre;overflow-x:auto;line-height:normal;font-family:Menlo,'DejaVu Sans Mono',consolas,'Courier New',monospace\">✨ You're running DeepEval's latest <span style=\"color: #6a00ff; text-decoration-color: #6a00ff\">Language (GEval) Metric</span>! <span style=\"color: #374151; text-decoration-color: #374151\">(using meta-llama/Meta-Llama-3.1-8B-Instruct, strict=…</span>\n✨ You're running DeepEval's latest <span style=\"color: #6a00ff; text-decoration-color: #6a00ff\">Answer Relevancy Metric</span>! <span style=\"color: #374151; text-decoration-color: #374151\">(using meta-llama/Meta-Llama-3.1-8B-Instruct, strict=…</span>\n</pre>\n"
                },
                "metadata": {}
              }
            ]
          }
        },
        "0036afe2b2a14e07ae09f60c1adc0b43": {
          "model_module": "@jupyter-widgets/base",
          "model_name": "LayoutModel",
          "model_module_version": "1.2.0",
          "state": {
            "_model_module": "@jupyter-widgets/base",
            "_model_module_version": "1.2.0",
            "_model_name": "LayoutModel",
            "_view_count": null,
            "_view_module": "@jupyter-widgets/base",
            "_view_module_version": "1.2.0",
            "_view_name": "LayoutView",
            "align_content": null,
            "align_items": null,
            "align_self": null,
            "border": null,
            "bottom": null,
            "display": null,
            "flex": null,
            "flex_flow": null,
            "grid_area": null,
            "grid_auto_columns": null,
            "grid_auto_flow": null,
            "grid_auto_rows": null,
            "grid_column": null,
            "grid_gap": null,
            "grid_row": null,
            "grid_template_areas": null,
            "grid_template_columns": null,
            "grid_template_rows": null,
            "height": null,
            "justify_content": null,
            "justify_items": null,
            "left": null,
            "margin": null,
            "max_height": null,
            "max_width": null,
            "min_height": null,
            "min_width": null,
            "object_fit": null,
            "object_position": null,
            "order": null,
            "overflow": null,
            "overflow_x": null,
            "overflow_y": null,
            "padding": null,
            "right": null,
            "top": null,
            "visibility": null,
            "width": null
          }
        },
        "cddb5ebe098543f1adac28cc27b2d98e": {
          "model_module": "@jupyter-widgets/output",
          "model_name": "OutputModel",
          "model_module_version": "1.0.0",
          "state": {
            "_dom_classes": [],
            "_model_module": "@jupyter-widgets/output",
            "_model_module_version": "1.0.0",
            "_model_name": "OutputModel",
            "_view_count": null,
            "_view_module": "@jupyter-widgets/output",
            "_view_module_version": "1.0.0",
            "_view_name": "OutputView",
            "layout": "IPY_MODEL_a2b85ab52378437c8ed5767dd5be92f4",
            "msg_id": "",
            "outputs": [
              {
                "output_type": "display_data",
                "data": {
                  "text/plain": "✨ You're running DeepEval's latest \u001b[38;2;106;0;255mLanguage (GEval) Metric\u001b[0m! \u001b[38;2;55;65;81m(using meta-llama/Meta-Llama-3.1-8B-Instruct, strict=…\u001b[0m\n✨ You're running DeepEval's latest \u001b[38;2;106;0;255mAnswer Relevancy Metric\u001b[0m! \u001b[38;2;55;65;81m(using meta-llama/Meta-Llama-3.1-8B-Instruct, strict=…\u001b[0m\n",
                  "text/html": "<pre style=\"white-space:pre;overflow-x:auto;line-height:normal;font-family:Menlo,'DejaVu Sans Mono',consolas,'Courier New',monospace\">✨ You're running DeepEval's latest <span style=\"color: #6a00ff; text-decoration-color: #6a00ff\">Language (GEval) Metric</span>! <span style=\"color: #374151; text-decoration-color: #374151\">(using meta-llama/Meta-Llama-3.1-8B-Instruct, strict=…</span>\n✨ You're running DeepEval's latest <span style=\"color: #6a00ff; text-decoration-color: #6a00ff\">Answer Relevancy Metric</span>! <span style=\"color: #374151; text-decoration-color: #374151\">(using meta-llama/Meta-Llama-3.1-8B-Instruct, strict=…</span>\n</pre>\n"
                },
                "metadata": {}
              }
            ]
          }
        },
        "a2b85ab52378437c8ed5767dd5be92f4": {
          "model_module": "@jupyter-widgets/base",
          "model_name": "LayoutModel",
          "model_module_version": "1.2.0",
          "state": {
            "_model_module": "@jupyter-widgets/base",
            "_model_module_version": "1.2.0",
            "_model_name": "LayoutModel",
            "_view_count": null,
            "_view_module": "@jupyter-widgets/base",
            "_view_module_version": "1.2.0",
            "_view_name": "LayoutView",
            "align_content": null,
            "align_items": null,
            "align_self": null,
            "border": null,
            "bottom": null,
            "display": null,
            "flex": null,
            "flex_flow": null,
            "grid_area": null,
            "grid_auto_columns": null,
            "grid_auto_flow": null,
            "grid_auto_rows": null,
            "grid_column": null,
            "grid_gap": null,
            "grid_row": null,
            "grid_template_areas": null,
            "grid_template_columns": null,
            "grid_template_rows": null,
            "height": null,
            "justify_content": null,
            "justify_items": null,
            "left": null,
            "margin": null,
            "max_height": null,
            "max_width": null,
            "min_height": null,
            "min_width": null,
            "object_fit": null,
            "object_position": null,
            "order": null,
            "overflow": null,
            "overflow_x": null,
            "overflow_y": null,
            "padding": null,
            "right": null,
            "top": null,
            "visibility": null,
            "width": null
          }
        },
        "4586456ccc8f4f03b6dd8f759beb6173": {
          "model_module": "@jupyter-widgets/output",
          "model_name": "OutputModel",
          "model_module_version": "1.0.0",
          "state": {
            "_dom_classes": [],
            "_model_module": "@jupyter-widgets/output",
            "_model_module_version": "1.0.0",
            "_model_name": "OutputModel",
            "_view_count": null,
            "_view_module": "@jupyter-widgets/output",
            "_view_module_version": "1.0.0",
            "_view_name": "OutputView",
            "layout": "IPY_MODEL_9f4ab8fe7f814248932dee6b67a87b6b",
            "msg_id": "",
            "outputs": [
              {
                "output_type": "display_data",
                "data": {
                  "text/plain": "✨ You're running DeepEval's latest \u001b[38;2;106;0;255mLanguage (GEval) Metric\u001b[0m! \u001b[38;2;55;65;81m(using gpt-4o, strict=False, async_mode=True)...\u001b[0m \u001b[38;2;25;227;160mDone…\u001b[0m\n✨ You're running DeepEval's latest \u001b[38;2;106;0;255mAnswer Relevancy Metric\u001b[0m! \u001b[38;2;55;65;81m(using gpt-4o, strict=False, async_mode=True)...\u001b[0m      \n",
                  "text/html": "<pre style=\"white-space:pre;overflow-x:auto;line-height:normal;font-family:Menlo,'DejaVu Sans Mono',consolas,'Courier New',monospace\">✨ You're running DeepEval's latest <span style=\"color: #6a00ff; text-decoration-color: #6a00ff\">Language (GEval) Metric</span>! <span style=\"color: #374151; text-decoration-color: #374151\">(using gpt-4o, strict=False, async_mode=True)...</span> <span style=\"color: #19e3a0; text-decoration-color: #19e3a0\">Done…</span>\n✨ You're running DeepEval's latest <span style=\"color: #6a00ff; text-decoration-color: #6a00ff\">Answer Relevancy Metric</span>! <span style=\"color: #374151; text-decoration-color: #374151\">(using gpt-4o, strict=False, async_mode=True)...</span>      \n</pre>\n"
                },
                "metadata": {}
              }
            ]
          }
        },
        "9f4ab8fe7f814248932dee6b67a87b6b": {
          "model_module": "@jupyter-widgets/base",
          "model_name": "LayoutModel",
          "model_module_version": "1.2.0",
          "state": {
            "_model_module": "@jupyter-widgets/base",
            "_model_module_version": "1.2.0",
            "_model_name": "LayoutModel",
            "_view_count": null,
            "_view_module": "@jupyter-widgets/base",
            "_view_module_version": "1.2.0",
            "_view_name": "LayoutView",
            "align_content": null,
            "align_items": null,
            "align_self": null,
            "border": null,
            "bottom": null,
            "display": null,
            "flex": null,
            "flex_flow": null,
            "grid_area": null,
            "grid_auto_columns": null,
            "grid_auto_flow": null,
            "grid_auto_rows": null,
            "grid_column": null,
            "grid_gap": null,
            "grid_row": null,
            "grid_template_areas": null,
            "grid_template_columns": null,
            "grid_template_rows": null,
            "height": null,
            "justify_content": null,
            "justify_items": null,
            "left": null,
            "margin": null,
            "max_height": null,
            "max_width": null,
            "min_height": null,
            "min_width": null,
            "object_fit": null,
            "object_position": null,
            "order": null,
            "overflow": null,
            "overflow_x": null,
            "overflow_y": null,
            "padding": null,
            "right": null,
            "top": null,
            "visibility": null,
            "width": null
          }
        }
      }
    }
  },
  "cells": [
    {
      "cell_type": "markdown",
      "metadata": {
        "id": "view-in-github",
        "colab_type": "text"
      },
      "source": [
        "<a href=\"https://colab.research.google.com/github/DJCordhose/practical-llm/blob/main/Eval4pptx.ipynb\" target=\"_parent\"><img src=\"https://colab.research.google.com/assets/colab-badge.svg\" alt=\"Open In Colab\"/></a>"
      ]
    },
    {
      "cell_type": "markdown",
      "source": [
        "# Hands on: Eval - small LLM as a judge\n",
        "\n",
        "Goal\n",
        "* see how llm-as-a-judge works in principle\n",
        "* introduction to the G-Eval algorithm ([G-Eval on arxive ](https://arxiv.org/abs/2303.16634))\n",
        "* see how the algorithm uses prompts to generate the actual eval prompt\n",
        "* try out the [DeepEval library](https://docs.confident-ai.com/docs/guides-using-custom-llms)\n",
        "* see the limitations of small llms as a judge\n",
        "* optional: compare to Gpt-4o"
      ],
      "metadata": {
        "id": "vFF4TwdXQdeB"
      }
    },
    {
      "cell_type": "markdown",
      "source": [
        "# SetUp : create an *llm_run* method using a small LLM\n",
        "\n",
        "* load & quantize a small model from huggingface\n",
        "* define a simple **llm_run** method, that calls the loaded model\n",
        "* try out llm_run\n",
        "\n",
        "=> same setup as in Assement notebook"
      ],
      "metadata": {
        "id": "HUWl-0x-524k"
      }
    },
    {
      "cell_type": "code",
      "source": [
        "!nvidia-smi"
      ],
      "metadata": {
        "colab": {
          "base_uri": "https://localhost:8080/"
        },
        "id": "VC0CYqfnOg_j",
        "outputId": "c261d0fb-bde2-4da5-c190-61576a85e131"
      },
      "execution_count": 1,
      "outputs": [
        {
          "output_type": "stream",
          "name": "stdout",
          "text": [
            "Fri Aug 30 18:38:06 2024       \n",
            "+---------------------------------------------------------------------------------------+\n",
            "| NVIDIA-SMI 535.104.05             Driver Version: 535.104.05   CUDA Version: 12.2     |\n",
            "|-----------------------------------------+----------------------+----------------------+\n",
            "| GPU  Name                 Persistence-M | Bus-Id        Disp.A | Volatile Uncorr. ECC |\n",
            "| Fan  Temp   Perf          Pwr:Usage/Cap |         Memory-Usage | GPU-Util  Compute M. |\n",
            "|                                         |                      |               MIG M. |\n",
            "|=========================================+======================+======================|\n",
            "|   0  Tesla T4                       Off | 00000000:00:04.0 Off |                    0 |\n",
            "| N/A   41C    P8               9W /  70W |      0MiB / 15360MiB |      0%      Default |\n",
            "|                                         |                      |                  N/A |\n",
            "+-----------------------------------------+----------------------+----------------------+\n",
            "                                                                                         \n",
            "+---------------------------------------------------------------------------------------+\n",
            "| Processes:                                                                            |\n",
            "|  GPU   GI   CI        PID   Type   Process name                            GPU Memory |\n",
            "|        ID   ID                                                             Usage      |\n",
            "|=======================================================================================|\n",
            "|  No running processes found                                                           |\n",
            "+---------------------------------------------------------------------------------------+\n"
          ]
        }
      ]
    },
    {
      "cell_type": "markdown",
      "source": [
        "### **Important:**\n",
        "Ensure that no GPU memory is allocated yet (in the case of a T4 look for \"0MiB / 15360MiB\").\n",
        "If GPU memory is already allocated use Runtime/Manage Sessions to delete all active sessions."
      ],
      "metadata": {
        "id": "waEtPWk5MjyS"
      }
    },
    {
      "cell_type": "code",
      "source": [
        "import warnings\n",
        "warnings.filterwarnings(\"ignore\")"
      ],
      "metadata": {
        "id": "wnUuUSG68wlB"
      },
      "execution_count": 2,
      "outputs": []
    },
    {
      "cell_type": "code",
      "source": [
        "%%time\n",
        "\n",
        "!pip install --upgrade -q transformers accelerate flash_attn torch bitsandbytes\n",
        "!pip install lm-format-enforcer -q\n",
        "!pip install deepeval==1.1.1 -q"
      ],
      "metadata": {
        "colab": {
          "base_uri": "https://localhost:8080/"
        },
        "id": "liz4MUJleWLI",
        "outputId": "e26f56d1-b057-4691-ec73-01238f7863cd"
      },
      "execution_count": 3,
      "outputs": [
        {
          "output_type": "stream",
          "name": "stdout",
          "text": [
            "\u001b[2K     \u001b[90m━━━━━━━━━━━━━━━━━━━━━━━━━━━━━━━━━━━━━━━━\u001b[0m \u001b[32m43.7/43.7 kB\u001b[0m \u001b[31m2.8 MB/s\u001b[0m eta \u001b[36m0:00:00\u001b[0m\n",
            "\u001b[2K     \u001b[90m━━━━━━━━━━━━━━━━━━━━━━━━━━━━━━━━━━━━━━━━\u001b[0m \u001b[32m2.6/2.6 MB\u001b[0m \u001b[31m61.6 MB/s\u001b[0m eta \u001b[36m0:00:00\u001b[0m\n",
            "\u001b[?25h  Preparing metadata (setup.py) ... \u001b[?25l\u001b[?25hdone\n",
            "\u001b[2K   \u001b[90m━━━━━━━━━━━━━━━━━━━━━━━━━━━━━━━━━━━━━━━━\u001b[0m \u001b[32m9.5/9.5 MB\u001b[0m \u001b[31m72.3 MB/s\u001b[0m eta \u001b[36m0:00:00\u001b[0m\n",
            "\u001b[2K   \u001b[90m━━━━━━━━━━━━━━━━━━━━━━━━━━━━━━━━━━━━━━━━\u001b[0m \u001b[32m315.1/315.1 kB\u001b[0m \u001b[31m20.1 MB/s\u001b[0m eta \u001b[36m0:00:00\u001b[0m\n",
            "\u001b[2K   \u001b[90m━━━━━━━━━━━━━━━━━━━━━━━━━━━━━━━━━━━━━━━━\u001b[0m \u001b[32m137.5/137.5 MB\u001b[0m \u001b[31m7.0 MB/s\u001b[0m eta \u001b[36m0:00:00\u001b[0m\n",
            "\u001b[?25h  Building wheel for flash_attn (setup.py) ... \u001b[?25l\u001b[?25hdone\n",
            "\u001b[2K   \u001b[90m━━━━━━━━━━━━━━━━━━━━━━━━━━━━━━━━━━━━━━━━\u001b[0m \u001b[32m43.7/43.7 kB\u001b[0m \u001b[31m3.1 MB/s\u001b[0m eta \u001b[36m0:00:00\u001b[0m\n",
            "\u001b[?25h  Preparing metadata (setup.py) ... \u001b[?25l\u001b[?25hdone\n",
            "\u001b[2K     \u001b[90m━━━━━━━━━━━━━━━━━━━━━━━━━━━━━━━━━━━━━━━━\u001b[0m \u001b[32m50.4/50.4 kB\u001b[0m \u001b[31m4.2 MB/s\u001b[0m eta \u001b[36m0:00:00\u001b[0m\n",
            "\u001b[2K   \u001b[90m━━━━━━━━━━━━━━━━━━━━━━━━━━━━━━━━━━━━━━━━\u001b[0m \u001b[32m365.9/365.9 kB\u001b[0m \u001b[31m27.5 MB/s\u001b[0m eta \u001b[36m0:00:00\u001b[0m\n",
            "\u001b[2K   \u001b[90m━━━━━━━━━━━━━━━━━━━━━━━━━━━━━━━━━━━━━━━━\u001b[0m \u001b[32m5.6/5.6 MB\u001b[0m \u001b[31m111.3 MB/s\u001b[0m eta \u001b[36m0:00:00\u001b[0m\n",
            "\u001b[2K   \u001b[90m━━━━━━━━━━━━━━━━━━━━━━━━━━━━━━━━━━━━━━━━\u001b[0m \u001b[32m59.9/59.9 kB\u001b[0m \u001b[31m6.1 MB/s\u001b[0m eta \u001b[36m0:00:00\u001b[0m\n",
            "\u001b[2K   \u001b[90m━━━━━━━━━━━━━━━━━━━━━━━━━━━━━━━━━━━━━━━━\u001b[0m \u001b[32m107.0/107.0 kB\u001b[0m \u001b[31m9.6 MB/s\u001b[0m eta \u001b[36m0:00:00\u001b[0m\n",
            "\u001b[2K   \u001b[90m━━━━━━━━━━━━━━━━━━━━━━━━━━━━━━━━━━━━━━━━\u001b[0m \u001b[32m294.6/294.6 kB\u001b[0m \u001b[31m24.3 MB/s\u001b[0m eta \u001b[36m0:00:00\u001b[0m\n",
            "\u001b[2K   \u001b[90m━━━━━━━━━━━━━━━━━━━━━━━━━━━━━━━━━━━━━━━━\u001b[0m \u001b[32m52.5/52.5 kB\u001b[0m \u001b[31m4.4 MB/s\u001b[0m eta \u001b[36m0:00:00\u001b[0m\n",
            "\u001b[2K   \u001b[90m━━━━━━━━━━━━━━━━━━━━━━━━━━━━━━━━━━━━━━━━\u001b[0m \u001b[32m130.5/130.5 kB\u001b[0m \u001b[31m11.8 MB/s\u001b[0m eta \u001b[36m0:00:00\u001b[0m\n",
            "\u001b[2K   \u001b[90m━━━━━━━━━━━━━━━━━━━━━━━━━━━━━━━━━━━━━━━━\u001b[0m \u001b[32m1.0/1.0 MB\u001b[0m \u001b[31m53.6 MB/s\u001b[0m eta \u001b[36m0:00:00\u001b[0m\n",
            "\u001b[2K   \u001b[90m━━━━━━━━━━━━━━━━━━━━━━━━━━━━━━━━━━━━━━━━\u001b[0m \u001b[32m395.9/395.9 kB\u001b[0m \u001b[31m24.3 MB/s\u001b[0m eta \u001b[36m0:00:00\u001b[0m\n",
            "\u001b[2K   \u001b[90m━━━━━━━━━━━━━━━━━━━━━━━━━━━━━━━━━━━━━━━━\u001b[0m \u001b[32m52.0/52.0 kB\u001b[0m \u001b[31m4.8 MB/s\u001b[0m eta \u001b[36m0:00:00\u001b[0m\n",
            "\u001b[2K   \u001b[90m━━━━━━━━━━━━━━━━━━━━━━━━━━━━━━━━━━━━━━━━\u001b[0m \u001b[32m46.1/46.1 kB\u001b[0m \u001b[31m3.9 MB/s\u001b[0m eta \u001b[36m0:00:00\u001b[0m\n",
            "\u001b[2K   \u001b[90m━━━━━━━━━━━━━━━━━━━━━━━━━━━━━━━━━━━━━━━━\u001b[0m \u001b[32m168.5/168.5 kB\u001b[0m \u001b[31m11.2 MB/s\u001b[0m eta \u001b[36m0:00:00\u001b[0m\n",
            "\u001b[2K   \u001b[90m━━━━━━━━━━━━━━━━━━━━━━━━━━━━━━━━━━━━━━━━\u001b[0m \u001b[32m309.1/309.1 kB\u001b[0m \u001b[31m25.7 MB/s\u001b[0m eta \u001b[36m0:00:00\u001b[0m\n",
            "\u001b[2K   \u001b[90m━━━━━━━━━━━━━━━━━━━━━━━━━━━━━━━━━━━━━━━━\u001b[0m \u001b[32m40.6/40.6 kB\u001b[0m \u001b[31m2.9 MB/s\u001b[0m eta \u001b[36m0:00:00\u001b[0m\n",
            "\u001b[2K   \u001b[90m━━━━━━━━━━━━━━━━━━━━━━━━━━━━━━━━━━━━━━━━\u001b[0m \u001b[32m150.7/150.7 kB\u001b[0m \u001b[31m14.7 MB/s\u001b[0m eta \u001b[36m0:00:00\u001b[0m\n",
            "\u001b[2K   \u001b[90m━━━━━━━━━━━━━━━━━━━━━━━━━━━━━━━━━━━━━━━━\u001b[0m \u001b[32m365.7/365.7 kB\u001b[0m \u001b[31m29.6 MB/s\u001b[0m eta \u001b[36m0:00:00\u001b[0m\n",
            "\u001b[2K   \u001b[90m━━━━━━━━━━━━━━━━━━━━━━━━━━━━━━━━━━━━━━━━\u001b[0m \u001b[32m71.1/71.1 kB\u001b[0m \u001b[31m6.6 MB/s\u001b[0m eta \u001b[36m0:00:00\u001b[0m\n",
            "\u001b[2K   \u001b[90m━━━━━━━━━━━━━━━━━━━━━━━━━━━━━━━━━━━━━━━━\u001b[0m \u001b[32m1.1/1.1 MB\u001b[0m \u001b[31m51.2 MB/s\u001b[0m eta \u001b[36m0:00:00\u001b[0m\n",
            "\u001b[2K   \u001b[90m━━━━━━━━━━━━━━━━━━━━━━━━━━━━━━━━━━━━━━━━\u001b[0m \u001b[32m527.3/527.3 kB\u001b[0m \u001b[31m38.0 MB/s\u001b[0m eta \u001b[36m0:00:00\u001b[0m\n",
            "\u001b[2K   \u001b[90m━━━━━━━━━━━━━━━━━━━━━━━━━━━━━━━━━━━━━━━━\u001b[0m \u001b[32m2.3/2.3 MB\u001b[0m \u001b[31m79.7 MB/s\u001b[0m eta \u001b[36m0:00:00\u001b[0m\n",
            "\u001b[2K   \u001b[90m━━━━━━━━━━━━━━━━━━━━━━━━━━━━━━━━━━━━━━━━\u001b[0m \u001b[32m116.3/116.3 kB\u001b[0m \u001b[31m11.3 MB/s\u001b[0m eta \u001b[36m0:00:00\u001b[0m\n",
            "\u001b[2K   \u001b[90m━━━━━━━━━━━━━━━━━━━━━━━━━━━━━━━━━━━━━━━━\u001b[0m \u001b[32m76.4/76.4 kB\u001b[0m \u001b[31m7.4 MB/s\u001b[0m eta \u001b[36m0:00:00\u001b[0m\n",
            "\u001b[2K   \u001b[90m━━━━━━━━━━━━━━━━━━━━━━━━━━━━━━━━━━━━━━━━\u001b[0m \u001b[32m77.9/77.9 kB\u001b[0m \u001b[31m8.1 MB/s\u001b[0m eta \u001b[36m0:00:00\u001b[0m\n",
            "\u001b[2K   \u001b[90m━━━━━━━━━━━━━━━━━━━━━━━━━━━━━━━━━━━━━━━━\u001b[0m \u001b[32m318.9/318.9 kB\u001b[0m \u001b[31m27.6 MB/s\u001b[0m eta \u001b[36m0:00:00\u001b[0m\n",
            "\u001b[2K   \u001b[90m━━━━━━━━━━━━━━━━━━━━━━━━━━━━━━━━━━━━━━━━\u001b[0m \u001b[32m141.9/141.9 kB\u001b[0m \u001b[31m13.8 MB/s\u001b[0m eta \u001b[36m0:00:00\u001b[0m\n",
            "\u001b[2K   \u001b[90m━━━━━━━━━━━━━━━━━━━━━━━━━━━━━━━━━━━━━━━━\u001b[0m \u001b[32m39.9/39.9 MB\u001b[0m \u001b[31m20.2 MB/s\u001b[0m eta \u001b[36m0:00:00\u001b[0m\n",
            "\u001b[2K   \u001b[90m━━━━━━━━━━━━━━━━━━━━━━━━━━━━━━━━━━━━━━━━\u001b[0m \u001b[32m134.8/134.8 kB\u001b[0m \u001b[31m12.2 MB/s\u001b[0m eta \u001b[36m0:00:00\u001b[0m\n",
            "\u001b[2K   \u001b[90m━━━━━━━━━━━━━━━━━━━━━━━━━━━━━━━━━━━━━━━━\u001b[0m \u001b[32m194.1/194.1 kB\u001b[0m \u001b[31m18.9 MB/s\u001b[0m eta \u001b[36m0:00:00\u001b[0m\n",
            "\u001b[2K   \u001b[90m━━━━━━━━━━━━━━━━━━━━━━━━━━━━━━━━━━━━━━━━\u001b[0m \u001b[32m49.3/49.3 kB\u001b[0m \u001b[31m3.9 MB/s\u001b[0m eta \u001b[36m0:00:00\u001b[0m\n",
            "\u001b[2K   \u001b[90m━━━━━━━━━━━━━━━━━━━━━━━━━━━━━━━━━━━━━━━━\u001b[0m \u001b[32m58.3/58.3 kB\u001b[0m \u001b[31m4.5 MB/s\u001b[0m eta \u001b[36m0:00:00\u001b[0m\n",
            "\u001b[?25h  Building wheel for docx2txt (setup.py) ... \u001b[?25l\u001b[?25hdone\n",
            "\u001b[31mERROR: pip's dependency resolver does not currently take into account all the packages that are installed. This behaviour is the source of the following dependency conflicts.\n",
            "cudf-cu12 24.4.1 requires pyarrow<15.0.0a0,>=14.0.1, but you have pyarrow 17.0.0 which is incompatible.\n",
            "ibis-framework 8.0.0 requires pyarrow<16,>=2, but you have pyarrow 17.0.0 which is incompatible.\n",
            "tensorflow-metadata 1.15.0 requires protobuf<4.21,>=3.20.3; python_version < \"3.11\", but you have protobuf 4.25.1 which is incompatible.\u001b[0m\u001b[31m\n",
            "\u001b[0mCPU times: user 526 ms, sys: 74.5 ms, total: 600 ms\n",
            "Wall time: 1min 21s\n"
          ]
        }
      ]
    },
    {
      "cell_type": "markdown",
      "source": [
        "#### => you may need to restart the session"
      ],
      "metadata": {
        "id": "zdHUEIcDBdw3"
      }
    },
    {
      "cell_type": "code",
      "source": [
        "from google.colab import userdata\n",
        "\n",
        "# Configure HuggingFace token as a Colab Secret, use key symbol on the left panel\n",
        "!huggingface-cli login --token {userdata.get('HF_TOKEN')}"
      ],
      "metadata": {
        "id": "ispdJ2ZpmbVk",
        "colab": {
          "base_uri": "https://localhost:8080/"
        },
        "outputId": "0ea6bc41-269c-4673-d426-fd14a133a216"
      },
      "execution_count": 4,
      "outputs": [
        {
          "output_type": "stream",
          "name": "stdout",
          "text": [
            "The token has not been saved to the git credentials helper. Pass `add_to_git_credential=True` in this function directly or `--add-to-git-credential` if using via `huggingface-cli` if you want to set the git credential as well.\n",
            "Token is valid (permission: fineGrained).\n",
            "Your token has been saved to /root/.cache/huggingface/token\n",
            "Login successful\n"
          ]
        }
      ]
    },
    {
      "cell_type": "markdown",
      "source": [
        "### Load & quantize Model (yielding: model_id, model, tokenizer)"
      ],
      "metadata": {
        "id": "PL_RxgOy58BG"
      }
    },
    {
      "cell_type": "code",
      "source": [
        "# kind = 'Lllama_3.1_8B_4bit'\n",
        "kind = 'Lllama_3.1_8B_8bit'\n",
        "# kind = 'Lllama_3.1_8B_16bit'  # too large for T4\n",
        "# kind = 'Phi-3.5-MoE_4bit'     # No module named 'triton' ???\n",
        "# kind = \"Phi-3.5-mini_16bit\"   # not \"strong\" enough\n",
        "\n",
        "if \"Lllama_3.1_8B\" in kind:\n",
        "  model_id = \"meta-llama/Meta-Llama-3.1-8B-Instruct\"\n",
        "elif \"Phi-3.5-MoE\" in kind:\n",
        "  model_id = \"microsoft/Phi-3.5-MoE-instruct\"\n",
        "else:\n",
        "  model_id = \"microsoft/Phi-3.5-mini-instruct\"\n",
        "\n",
        "print(kind)\n",
        "print(model_id)"
      ],
      "metadata": {
        "colab": {
          "base_uri": "https://localhost:8080/"
        },
        "id": "xyH5zHti6A-S",
        "outputId": "744fa278-b29f-4052-ca19-c9cc88ba5efe"
      },
      "execution_count": 5,
      "outputs": [
        {
          "output_type": "stream",
          "name": "stdout",
          "text": [
            "Lllama_3.1_8B_8bit\n",
            "meta-llama/Meta-Llama-3.1-8B-Instruct\n"
          ]
        }
      ]
    },
    {
      "cell_type": "markdown",
      "source": [
        "***note:*** execute in a terminal 'watch -n 0.5 nvidia-smi' to see the GPU usage and when the model is loaded onto it"
      ],
      "metadata": {
        "id": "-7yP74Cl6Omy"
      }
    },
    {
      "cell_type": "code",
      "source": [
        "%%time\n",
        "\n",
        "from transformers import AutoModelForCausalLM, BitsAndBytesConfig\n",
        "import torch\n",
        "\n",
        "torch_dtype = None\n",
        "quantization_config = None\n",
        "\n",
        "if \"8bit\" in kind:\n",
        "  print(\"Using 8Bit quantization\")\n",
        "  quantization_config = BitsAndBytesConfig(load_in_8bit=True)\n",
        "elif \"4bit\" in kind:\n",
        "  print(\"Using 4Bit quantization\")\n",
        "  quantization_config = BitsAndBytesConfig(load_in_4bit=True)\n",
        "else:\n",
        "  print(\"Using Full Resolution\")\n",
        "  torch_dtype = torch.bfloat16\n",
        "\n",
        "model = AutoModelForCausalLM.from_pretrained(\n",
        "    model_id,\n",
        "    quantization_config=quantization_config,\n",
        "    torch_dtype=torch_dtype,\n",
        "    device_map=\"cuda\",\n",
        "    trust_remote_code=True\n",
        ")"
      ],
      "metadata": {
        "colab": {
          "base_uri": "https://localhost:8080/",
          "height": 0,
          "referenced_widgets": [
            "6ae5b467c84e45278410cce45b6e2d18",
            "e2fa43b32fa64c3580771c0e11d0a696",
            "2d3fa74dd7d54f09becb637eaa273382",
            "7b07c083b9f841b29d330c79933051a5",
            "133448298eb14b47addbe4dc9ed04045",
            "30bbe612ff834d038a46f9477724164f",
            "d2dc27b048824c369f4ee9fad1354b1e",
            "96909cdb0b294d44ab846dee8c137858",
            "bed5bb82171f402bb33c0ef0d7778606",
            "4da7260072f543798481a215a01febeb",
            "648caa4afb2c4232bcfc8c5b80da6a92",
            "c63a316fde6e46f49a30e5200ff87ea5",
            "9b2fdb0b4eab46cfbfeb2f96543290af",
            "ebd674afc1ae43d6b3ed90ab1a35eee9",
            "d044dfa90c5a4388a0a2ff683f873b17",
            "3ebf55b7f95d43ceb6e400389d40a2d9",
            "913ae274fd51458aba13d7bd1a77e36e",
            "3b8ea466efce47beb2b0bc46bc695735",
            "249cf557eb7449e0a67382dafc1092ca",
            "ed4d8c4d2c6d4053a860e000f9efefe1",
            "d83792d1a1a0477ba85507705ee45527",
            "f551362e821f4f2984cf6f7ea88128fd",
            "e18d40d65e2c4f338496f7d2120280c8",
            "c6550b50579747419f43f61fcb544380",
            "1a85d5e974994cc7aea73d459f60e38a",
            "d57f082070834360815ab7ebefe51fd9",
            "bb22b5ad0c7e4bafbe134cefe3a636a1",
            "f257d53148664722951b47c8c6972305",
            "ad6e7ad067fe42c9a48dc47bf5f7c5e7",
            "e183cf806c4942929c5f7c87fa48c6be",
            "8b98617a46844ec9b00ad27708862414",
            "62590533c0194c16b3b33850baff909a",
            "982d8a529ec840748a240e84707461d2",
            "483755f6e4eb455e8ec53d5404db9c6a",
            "8e4cf9611994407c8749efbd74ec43e8",
            "1fbb5cf826c142288cafb4e667df2bcd",
            "d2e547209b5b4232ae7b1db08bc00c69",
            "5ce335560f854691aa9f692aaf169330",
            "70dbac02d9c545cbb6cf7979943ef19c",
            "8a2eb179f0a2450894697f7ffd835287",
            "6da018330b94440d946e1899630453c5",
            "f73a24a9bac0446fb988b6d3d633a45e",
            "abc74c89de6a43ad857393a34fb71000",
            "3bb7c2b3c2a24d54bfb0381d8198a2af",
            "822257a8887e428cadfd914ec6e7b7bb",
            "4cbc8590b1684e7f9287b1681da580a3",
            "491ef6a4f80e48e481d274e1605ea2af",
            "07d65c50f32e4fa898d0104d77092e89",
            "89d0af2c60a7434e9b54a6bc60ea97d2",
            "2b4b67218f4c4e0aa16487f98069b1e9",
            "9a6f27804d164957bdb1508b0f2088e5",
            "d9d184ed56554f03b955971978cea546",
            "e8ba7888abfe4071a8f02902e5f3abf1",
            "5d3e9bb7e60c49b392e23a5735f29c56",
            "31e6f6af49254bebb9982a2ad377c3ae",
            "8d6db85ec86e4a6cb42c54c25b648326",
            "3239988ad4414dfbaf6024891c2b838d",
            "ad0853a8752e4a11a10a6e1f829510d9",
            "3aee4c9dda2a4c12a3f2e11480fa8d65",
            "f8668a48bd324b95868b97cd854bf720",
            "2d1307f99c5b44dd8fcca0c0425bc449",
            "69f1eb4695044c8cb07db58cf3cba5ba",
            "a16c84a2496e4d78a172096902cfbd80",
            "61e292ea55e2427ca5d3a532ecbbc4c3",
            "fb21507e741c4c23bc538adcaa0b647b",
            "d3320f0d80ee4e72a35a6ef27a0acc71",
            "f91a36cd36d34187b25cbbdacf1d20bc",
            "6dc53ec5b74348599e01f7119cb53d05",
            "7d311daf2e984377b0b4df0bb90c1ece",
            "bcfab5b68c59410d809203b055e9438c",
            "e719be98955141ec8a40bf973e3987eb",
            "7a94ee095a7141fb84b8f9d8605de0ff",
            "948e86a5ccda4488b975ed27e76fb0ea",
            "b655b95b1e454c3083077e4e6fd4d883",
            "3ecea2053d9844ea82a8eceede8a94aa",
            "a1ba10fba16e4b918aff3b37ad4f7f9b",
            "f492ca94ad3a422baed81cdd87d3b629",
            "85a1bc5e3f904cd18cf6f2f05451b493",
            "79f3a175dd2946fd89af0da1a60f1b1e",
            "25bfd7fe94d74a4eb20fe4f4339247c0",
            "0b6fae5ffdfb4426990436967dfff63f",
            "915697dfe03a41e3974d3969351bbb46",
            "167cd7ea3ec64e6195ab64f3d3739bc3",
            "a0053a2498424ac5b9b75f03d0275895",
            "c5b84a03034346678fb004c9ce681d96",
            "321d1dc191a043478f5d026636393b7d",
            "e93278df8a3a4f3f9a07feba9bf8c875",
            "861c0b7b09c84e21bb8060c76ad054b6",
            "ae3a377884e8440e9c6bf61c36ecb692",
            "2f5f3fbe9cf446c686c960bd59031689",
            "b08092be647f4eaba623810fb6378597",
            "fdb7eae2cd654d40be00a0eee9f5c6d2",
            "77113ae8fad145acae4b99bb96eaebb0",
            "f3b681b0f8b4484c8cc8df267a2a312b",
            "178b6b473ada4dd28a3022f84c9eb2f3",
            "25cca43f6c5645ee9aa79f35ff0c1a48",
            "486df437bb22462380928546d92e7522",
            "819876daa07449b0962d7d1cda425c01",
            "e6a80529ddf24d1b9a9cfe893af520c4"
          ]
        },
        "id": "-YgmOdKMszpZ",
        "outputId": "f8909b33-0da4-4b71-9444-85a5f01e003d"
      },
      "execution_count": 6,
      "outputs": [
        {
          "output_type": "stream",
          "name": "stdout",
          "text": [
            "Using 8Bit quantization\n"
          ]
        },
        {
          "output_type": "display_data",
          "data": {
            "text/plain": [
              "config.json:   0%|          | 0.00/855 [00:00<?, ?B/s]"
            ],
            "application/vnd.jupyter.widget-view+json": {
              "version_major": 2,
              "version_minor": 0,
              "model_id": "6ae5b467c84e45278410cce45b6e2d18"
            }
          },
          "metadata": {}
        },
        {
          "output_type": "display_data",
          "data": {
            "text/plain": [
              "model.safetensors.index.json:   0%|          | 0.00/23.9k [00:00<?, ?B/s]"
            ],
            "application/vnd.jupyter.widget-view+json": {
              "version_major": 2,
              "version_minor": 0,
              "model_id": "c63a316fde6e46f49a30e5200ff87ea5"
            }
          },
          "metadata": {}
        },
        {
          "output_type": "display_data",
          "data": {
            "text/plain": [
              "Downloading shards:   0%|          | 0/4 [00:00<?, ?it/s]"
            ],
            "application/vnd.jupyter.widget-view+json": {
              "version_major": 2,
              "version_minor": 0,
              "model_id": "e18d40d65e2c4f338496f7d2120280c8"
            }
          },
          "metadata": {}
        },
        {
          "output_type": "display_data",
          "data": {
            "text/plain": [
              "model-00001-of-00004.safetensors:   0%|          | 0.00/4.98G [00:00<?, ?B/s]"
            ],
            "application/vnd.jupyter.widget-view+json": {
              "version_major": 2,
              "version_minor": 0,
              "model_id": "483755f6e4eb455e8ec53d5404db9c6a"
            }
          },
          "metadata": {}
        },
        {
          "output_type": "display_data",
          "data": {
            "text/plain": [
              "model-00002-of-00004.safetensors:   0%|          | 0.00/5.00G [00:00<?, ?B/s]"
            ],
            "application/vnd.jupyter.widget-view+json": {
              "version_major": 2,
              "version_minor": 0,
              "model_id": "822257a8887e428cadfd914ec6e7b7bb"
            }
          },
          "metadata": {}
        },
        {
          "output_type": "display_data",
          "data": {
            "text/plain": [
              "model-00003-of-00004.safetensors:   0%|          | 0.00/4.92G [00:00<?, ?B/s]"
            ],
            "application/vnd.jupyter.widget-view+json": {
              "version_major": 2,
              "version_minor": 0,
              "model_id": "8d6db85ec86e4a6cb42c54c25b648326"
            }
          },
          "metadata": {}
        },
        {
          "output_type": "display_data",
          "data": {
            "text/plain": [
              "model-00004-of-00004.safetensors:   0%|          | 0.00/1.17G [00:00<?, ?B/s]"
            ],
            "application/vnd.jupyter.widget-view+json": {
              "version_major": 2,
              "version_minor": 0,
              "model_id": "f91a36cd36d34187b25cbbdacf1d20bc"
            }
          },
          "metadata": {}
        },
        {
          "output_type": "display_data",
          "data": {
            "text/plain": [
              "Loading checkpoint shards:   0%|          | 0/4 [00:00<?, ?it/s]"
            ],
            "application/vnd.jupyter.widget-view+json": {
              "version_major": 2,
              "version_minor": 0,
              "model_id": "85a1bc5e3f904cd18cf6f2f05451b493"
            }
          },
          "metadata": {}
        },
        {
          "output_type": "display_data",
          "data": {
            "text/plain": [
              "generation_config.json:   0%|          | 0.00/184 [00:00<?, ?B/s]"
            ],
            "application/vnd.jupyter.widget-view+json": {
              "version_major": 2,
              "version_minor": 0,
              "model_id": "ae3a377884e8440e9c6bf61c36ecb692"
            }
          },
          "metadata": {}
        },
        {
          "output_type": "stream",
          "name": "stdout",
          "text": [
            "CPU times: user 37.8 s, sys: 44.5 s, total: 1min 22s\n",
            "Wall time: 3min 2s\n"
          ]
        }
      ]
    },
    {
      "cell_type": "code",
      "source": [
        "!nvidia-smi"
      ],
      "metadata": {
        "id": "NX2pljoSlfbR",
        "colab": {
          "base_uri": "https://localhost:8080/"
        },
        "outputId": "01156891-af3f-40fe-8024-ac7c4080f24d"
      },
      "execution_count": 7,
      "outputs": [
        {
          "output_type": "stream",
          "name": "stdout",
          "text": [
            "Fri Aug 30 18:42:34 2024       \n",
            "+---------------------------------------------------------------------------------------+\n",
            "| NVIDIA-SMI 535.104.05             Driver Version: 535.104.05   CUDA Version: 12.2     |\n",
            "|-----------------------------------------+----------------------+----------------------+\n",
            "| GPU  Name                 Persistence-M | Bus-Id        Disp.A | Volatile Uncorr. ECC |\n",
            "| Fan  Temp   Perf          Pwr:Usage/Cap |         Memory-Usage | GPU-Util  Compute M. |\n",
            "|                                         |                      |               MIG M. |\n",
            "|=========================================+======================+======================|\n",
            "|   0  Tesla T4                       Off | 00000000:00:04.0 Off |                    0 |\n",
            "| N/A   50C    P0              27W /  70W |   8825MiB / 15360MiB |      0%      Default |\n",
            "|                                         |                      |                  N/A |\n",
            "+-----------------------------------------+----------------------+----------------------+\n",
            "                                                                                         \n",
            "+---------------------------------------------------------------------------------------+\n",
            "| Processes:                                                                            |\n",
            "|  GPU   GI   CI        PID   Type   Process name                            GPU Memory |\n",
            "|        ID   ID                                                             Usage      |\n",
            "|=======================================================================================|\n",
            "+---------------------------------------------------------------------------------------+\n"
          ]
        }
      ]
    },
    {
      "cell_type": "code",
      "source": [
        "from transformers import AutoTokenizer\n",
        "\n",
        "def llm_run(messages):\n",
        "  if type(messages) == str:\n",
        "    messages = [{\"role\": \"user\", \"content\": messages}]\n",
        "  tokenizer = AutoTokenizer.from_pretrained(model_id)\n",
        "  terminators = [\n",
        "      tokenizer.eos_token_id,\n",
        "      tokenizer.convert_tokens_to_ids(\"<|eot_id|>\")\n",
        "  ]\n",
        "\n",
        "  input_token_ids = tokenizer.apply_chat_template(\n",
        "    messages,\n",
        "    add_generation_prompt=True,\n",
        "    return_tensors=\"pt\"\n",
        "  ).to(model.device)\n",
        "\n",
        "  outputs = model.generate(\n",
        "      input_token_ids,\n",
        "      max_new_tokens=512,\n",
        "      eos_token_id=terminators,\n",
        "      pad_token_id=tokenizer.eos_token_id,\n",
        "      do_sample=False\n",
        "  )\n",
        "  output_token_ids = outputs[0][input_token_ids.shape[-1]:]\n",
        "  result = tokenizer.decode(output_token_ids, skip_special_tokens=True)\n",
        "  return result"
      ],
      "metadata": {
        "id": "jlJxNTGs6xM3"
      },
      "execution_count": 8,
      "outputs": []
    },
    {
      "cell_type": "markdown",
      "source": [
        "Try out our model:"
      ],
      "metadata": {
        "id": "8b-8riV2Vf_W"
      }
    },
    {
      "cell_type": "code",
      "source": [
        "%%time\n",
        "print(model_id)\n",
        "llm_run(\"who are you ?\")"
      ],
      "metadata": {
        "colab": {
          "base_uri": "https://localhost:8080/",
          "height": 0,
          "referenced_widgets": [
            "562e934e184e46a696d6f596e8af775c",
            "010495900add442ca27c7f39723c18e7",
            "70ab98bc9ca14d24960dd81555c6fe84",
            "3310e779cbd14e3a8b218dcc51c387b3",
            "6836cdf219ba45239017f7ee53056899",
            "f9c693b3dee44b7e8d8bbc04091f49eb",
            "35c120549c5c41d9931923452d020c14",
            "a0d29f1b359b4817a1f283bd3d18bfba",
            "d708e8eeac8441e1802ee420a3b5e9f8",
            "dc3220469ca34122a1787d756e383f34",
            "8d7e783f433a4dfa9144deeac1df19f5",
            "6134519934ea48dda3c76cffb21f0d72",
            "940c2ff0cad5495ba70f2b6c92b6c04b",
            "2397eaf1873244e4b1857bc0a5f912fb",
            "f3bd5d6efec241eb88c0bf0770d3abc5",
            "276ceea4b76d472c9fe5b1ffadf735cd",
            "d3a640dc484f45abbbaa3cda03e37f12",
            "99c4aeb5d0f3434f9d0e6a2c6845d8d0",
            "cb92c41813464f0d9bd022767e3a1754",
            "74f281f457b84583a948378ba3a3a3ba",
            "7417e40fa40c4b6dbe8cea55cb1cc77e",
            "49a1bb4d1a974f47b17391cfae34d654",
            "472231be6b574e61b88f26abf509e2a3",
            "b3ce6de0f45c411a839061b570441910",
            "4df06191bbfd46b8a00a1689a3cbd9d6",
            "1647a06ab7014eee8b65f1c48bb5fbc5",
            "f23f7effb2d9466f9139d94d5486d181",
            "28d6a0d8b96d4325aff774affd814f31",
            "747ba4b0afa647e7b726363c484fa8e3",
            "b49a00a3956e46f799293165cc077f4c",
            "9be534bc4a1c433fa8decc3dcd46c1c2",
            "791fd0fac4f745fe8dae4753a9fec9a4",
            "92b44e54f7364eb9a2cd3161a42716f7"
          ]
        },
        "id": "nf93aT-JVPol",
        "outputId": "802d24cd-3288-4335-b6c3-c1a47c6f39d9"
      },
      "execution_count": 9,
      "outputs": [
        {
          "output_type": "stream",
          "name": "stdout",
          "text": [
            "meta-llama/Meta-Llama-3.1-8B-Instruct\n"
          ]
        },
        {
          "output_type": "display_data",
          "data": {
            "text/plain": [
              "tokenizer_config.json:   0%|          | 0.00/55.4k [00:00<?, ?B/s]"
            ],
            "application/vnd.jupyter.widget-view+json": {
              "version_major": 2,
              "version_minor": 0,
              "model_id": "562e934e184e46a696d6f596e8af775c"
            }
          },
          "metadata": {}
        },
        {
          "output_type": "display_data",
          "data": {
            "text/plain": [
              "tokenizer.json:   0%|          | 0.00/9.09M [00:00<?, ?B/s]"
            ],
            "application/vnd.jupyter.widget-view+json": {
              "version_major": 2,
              "version_minor": 0,
              "model_id": "6134519934ea48dda3c76cffb21f0d72"
            }
          },
          "metadata": {}
        },
        {
          "output_type": "display_data",
          "data": {
            "text/plain": [
              "special_tokens_map.json:   0%|          | 0.00/296 [00:00<?, ?B/s]"
            ],
            "application/vnd.jupyter.widget-view+json": {
              "version_major": 2,
              "version_minor": 0,
              "model_id": "472231be6b574e61b88f26abf509e2a3"
            }
          },
          "metadata": {}
        },
        {
          "output_type": "stream",
          "name": "stderr",
          "text": [
            "The attention mask is not set and cannot be inferred from input because pad token is same as eos token. As a consequence, you may observe unexpected behavior. Please pass your input's `attention_mask` to obtain reliable results.\n"
          ]
        },
        {
          "output_type": "stream",
          "name": "stdout",
          "text": [
            "CPU times: user 10.2 s, sys: 734 ms, total: 11 s\n",
            "Wall time: 19.1 s\n"
          ]
        },
        {
          "output_type": "execute_result",
          "data": {
            "text/plain": [
              "'I\\'m an artificial intelligence model known as Llama. Llama stands for \"Large Language Model Meta AI.\"'"
            ],
            "application/vnd.google.colaboratory.intrinsic+json": {
              "type": "string"
            }
          },
          "metadata": {},
          "execution_count": 9
        }
      ]
    },
    {
      "cell_type": "code",
      "source": [
        "from IPython.display import Markdown\n",
        "\n",
        "messages = [\n",
        "    {\"role\": \"system\", \"content\": \"You are an English-speaking, competent expert in the field of sanitary piping systems..\"},\n",
        "    {\"role\": \"user\", \"content\": f'''What are waste-water pipes made out of ?'''}\n",
        "  ]\n",
        "\n",
        "#answer = llm_run(messages)\n",
        "#Markdown(answer)"
      ],
      "metadata": {
        "id": "hGxdDNNY6e8H"
      },
      "execution_count": 10,
      "outputs": []
    },
    {
      "cell_type": "markdown",
      "source": [
        "# LLM-as-a-judge: in principle"
      ],
      "metadata": {
        "id": "z0jYXr3F9pem"
      }
    },
    {
      "cell_type": "code",
      "source": [
        "llm_output=\"Witing texts is painful, caus im making mitakes.\""
      ],
      "metadata": {
        "id": "Zh74JhHgQOMl"
      },
      "execution_count": 11,
      "outputs": []
    },
    {
      "cell_type": "code",
      "source": [
        "simple_eval_prompt = f'''\n",
        "You are an expert on english language, grading a students text with scores between 0 and 10.\n",
        "A text written in proper english, in a fluent style, containing no grammatical or syntax errors is graded 10.\n",
        "A text written in a different language or with spelling errors gets a low score.\n",
        "Also give a detailed explanation why the score was chosen.\n",
        "Do not repeat the students text in your explanation.\n",
        "\n",
        "Always answer in the following json format:\n",
        "{{\n",
        "    \"score\": 8,\n",
        "    \"reason\": \"some reason\"\n",
        "}}\n",
        "\n",
        "Examples\n",
        "1. Student Text: Pipes are cylindrical conduits used to transport fluids or gases, typically made of materials like metal, plastic, or concrete.\n",
        "   Answer:\n",
        "   {{\n",
        "    \"score\": 8,\n",
        "    \"reason\": \"The text is written in english and does not contain any syntactical or grammatical erros\"\n",
        "  }}\n",
        "2. Student Text: Zwischen Neonlichtern und Straßenlärm träum ich leise von Freiheit.\n",
        "   Answer:\n",
        "   {{\n",
        "    \"score\": 2,\n",
        "    \"reason\": \"The text is written in german and not in english.\"\n",
        "  }}\n",
        "\n",
        "Student Text: {llm_output}\n",
        "Answer:\n",
        "'''"
      ],
      "metadata": {
        "id": "1fUQwWQd8W2D"
      },
      "execution_count": 12,
      "outputs": []
    },
    {
      "cell_type": "code",
      "source": [
        "%%time\n",
        "\n",
        "print(\"***** Prompt         :\")\n",
        "print(simple_eval_prompt)\n",
        "\n",
        "answer = llm_run(simple_eval_prompt)\n",
        "\n",
        "print(\"***** Answer         :\")\n",
        "print(answer)"
      ],
      "metadata": {
        "id": "90PhBKcH8Wu4",
        "colab": {
          "base_uri": "https://localhost:8080/"
        },
        "outputId": "e4150951-fab3-4450-adfe-e933ea2e6143"
      },
      "execution_count": 13,
      "outputs": [
        {
          "output_type": "stream",
          "name": "stdout",
          "text": [
            "***** Prompt         :\n",
            "\n",
            "You are an expert on english language, grading a students text with scores between 0 and 10.\n",
            "A text written in proper english, in a fluent style, containing no grammatical or syntax errors is graded 10.\n",
            "A text written in a different language or with spelling errors gets a low score.\n",
            "Also give a detailed explanation why the score was chosen.\n",
            "Do not repeat the students text in your explanation.\n",
            "\n",
            "Always answer in the following json format:\n",
            "{\n",
            "    \"score\": 8,\n",
            "    \"reason\": \"some reason\"\n",
            "}\n",
            "\n",
            "Examples\n",
            "1. Student Text: Pipes are cylindrical conduits used to transport fluids or gases, typically made of materials like metal, plastic, or concrete.\n",
            "   Answer:\n",
            "   {\n",
            "    \"score\": 8,\n",
            "    \"reason\": \"The text is written in english and does not contain any syntactical or grammatical erros\"\n",
            "  }\n",
            "2. Student Text: Zwischen Neonlichtern und Straßenlärm träum ich leise von Freiheit.\n",
            "   Answer:\n",
            "   {\n",
            "    \"score\": 2,\n",
            "    \"reason\": \"The text is written in german and not in english.\"\n",
            "  }\n",
            "\n",
            "Student Text: Witing texts is painful, caus im making mitakes.\n",
            "Answer:\n",
            "\n",
            "***** Answer         :\n",
            "{\n",
            "    \"score\": 1,\n",
            "    \"reason\": \"The text contains multiple spelling errors, such as 'Witing' instead of 'Writing', 'caus' instead of 'because', and'mitakes' instead of'mistakes'. Additionally, the text is written in a non-standard dialect of English, which affects its clarity and coherence.\"\n",
            "}\n",
            "CPU times: user 15.3 s, sys: 51.4 ms, total: 15.4 s\n",
            "Wall time: 15.7 s\n"
          ]
        }
      ]
    },
    {
      "cell_type": "markdown",
      "source": [
        "# Llm-as-a-judge: G-Eval in principal"
      ],
      "metadata": {
        "id": "xtY98fXd6gl2"
      }
    },
    {
      "cell_type": "markdown",
      "source": [
        "### G-Eval Step 1: generate evaluation steps based on the criteria"
      ],
      "metadata": {
        "id": "p4swZQuDG5GF"
      }
    },
    {
      "cell_type": "code",
      "source": [
        "llm_input=\"Why do you dislike writing texts ?\"\n",
        "llm_output=\"Witing texts is painful, caus im making mitakes.\""
      ],
      "metadata": {
        "id": "fjD209UWH0Kw"
      },
      "execution_count": 14,
      "outputs": []
    },
    {
      "cell_type": "code",
      "source": [
        "%%time\n",
        "criteria=\"Grade the english grammar and syntax\"\n",
        "\n",
        "geval_step1_prompt = f'''Given an evaluation criteria which outlines how you should judge the Actual Output, generate\n",
        "3-4 concise evaluation steps based on the criteria below. You MUST make it clear how to evaluate Actual Output in\n",
        "relation to one another.\n",
        "\n",
        "Evaluation Criteria:\n",
        "{criteria}\n",
        "\n",
        "**\n",
        "IMPORTANT: Please make sure to only return in JSON format, with the \"steps\" key as a list of strings. No words or\n",
        "explanation is needed.\n",
        "Example JSON:\n",
        "{{\n",
        "    \"steps\": <list_of_strings>\n",
        "}}\n",
        "**\n",
        "\n",
        "JSON:\n",
        "'''\n",
        "\n",
        "print(\"***** Prompt         :\")\n",
        "print(geval_step1_prompt)\n",
        "\n",
        "answer_step1 = llm_run(geval_step1_prompt)\n",
        "\n",
        "print(\"***** Answer         :\")\n",
        "print(answer_step1)\n"
      ],
      "metadata": {
        "id": "fo-nE5KcAVXP",
        "outputId": "99ffd8d3-4997-46fd-f2b2-b6a36f2a8ecc",
        "colab": {
          "base_uri": "https://localhost:8080/"
        }
      },
      "execution_count": 15,
      "outputs": [
        {
          "output_type": "stream",
          "name": "stdout",
          "text": [
            "***** Prompt         :\n",
            "Given an evaluation criteria which outlines how you should judge the Actual Output, generate\n",
            "3-4 concise evaluation steps based on the criteria below. You MUST make it clear how to evaluate Actual Output in\n",
            "relation to one another.\n",
            "\n",
            "Evaluation Criteria:\n",
            "Grade the english grammar and syntax\n",
            "\n",
            "**\n",
            "IMPORTANT: Please make sure to only return in JSON format, with the \"steps\" key as a list of strings. No words or\n",
            "explanation is needed.\n",
            "Example JSON:\n",
            "{\n",
            "    \"steps\": <list_of_strings>\n",
            "}\n",
            "**\n",
            "\n",
            "JSON:\n",
            "\n",
            "***** Answer         :\n",
            "{\n",
            "  \"steps\": [\n",
            "    \"Compare the subject-verb agreement in the Actual Output with the expected output.\",\n",
            "    \"Evaluate the tense consistency and correct use of verb forms in the Actual Output.\",\n",
            "    \"Check for correct use of pronouns, articles, and prepositions in the Actual Output.\",\n",
            "    \"Assess the overall sentence structure and flow of the Actual Output for grammatical correctness.\"\n",
            "  ]\n",
            "}\n",
            "CPU times: user 18.3 s, sys: 0 ns, total: 18.3 s\n",
            "Wall time: 18.7 s\n"
          ]
        }
      ]
    },
    {
      "cell_type": "code",
      "source": [
        "import json\n",
        "\n",
        "json_answer_step1=json.loads(answer_step1)\n",
        "steps=\"\\n\".join(f\"{index+1}. {step}\" for index, step in enumerate(json_answer_step1['steps']))\n",
        "print(steps)"
      ],
      "metadata": {
        "colab": {
          "base_uri": "https://localhost:8080/"
        },
        "id": "GIwct7DYOdQp",
        "outputId": "a9d4071d-d8fd-4a92-963f-e0abf8c34a34"
      },
      "execution_count": 16,
      "outputs": [
        {
          "output_type": "stream",
          "name": "stdout",
          "text": [
            "1. Compare the subject-verb agreement in the Actual Output with the expected output.\n",
            "2. Evaluate the tense consistency and correct use of verb forms in the Actual Output.\n",
            "3. Check for correct use of pronouns, articles, and prepositions in the Actual Output.\n",
            "4. Assess the overall sentence structure and flow of the Actual Output for grammatical correctness.\n"
          ]
        }
      ]
    },
    {
      "cell_type": "markdown",
      "source": [
        "### G-Eval Step 2: evaluate the llm_output using the generated steps"
      ],
      "metadata": {
        "id": "WuObfnA4HNF6"
      }
    },
    {
      "cell_type": "code",
      "source": [
        "geval_step2_prompt = f'''\n",
        "Given the evaluation steps, return a JSON with two keys:\n",
        "1) a `score` key ranging from 0 - 10, with 10 being that it follows the criteria outlined in the steps and 0 being that it does not, and\n",
        "2) a `reason` key, a reason for the given score, but DO NOT QUOTE THE SCORE in your reason.\n",
        "Please mention specific information from Actual Output and Input in your reason, but be very concise with it!\n",
        "\n",
        "Evaluation Steps:\n",
        "{steps}\n",
        "\n",
        "Actual Output:\n",
        "{llm_output}\n",
        "\n",
        "Input:\n",
        "{llm_input}\n",
        "\n",
        "\n",
        "\n",
        "**\n",
        "IMPORTANT: Please make sure to only return in JSON format, with the \"score\" and \"reason\" key. No words or explanation is needed.\n",
        "\n",
        "Example JSON:\n",
        "{{\n",
        "    \"score\": 0,\n",
        "    \"reason\": \"The text does not follow the evaluation steps provided.\"\n",
        "}}\n",
        "**\n",
        "\n",
        "JSON:\n",
        "\n",
        "'''\n"
      ],
      "metadata": {
        "id": "QjYjN-9oH6VG"
      },
      "execution_count": 17,
      "outputs": []
    },
    {
      "cell_type": "code",
      "source": [
        "print(\"***** Prompt         :\")\n",
        "print(geval_step2_prompt)\n",
        "\n",
        "answer_step2=llm_run(geval_step2_prompt)\n",
        "print(\"***** Answer         :\")\n",
        "print(answer_step2)"
      ],
      "metadata": {
        "colab": {
          "base_uri": "https://localhost:8080/"
        },
        "id": "pla-jaYNPxgt",
        "outputId": "6c60062f-6d84-4262-b24a-9b0195c6fae7"
      },
      "execution_count": 18,
      "outputs": [
        {
          "output_type": "stream",
          "name": "stdout",
          "text": [
            "***** Prompt         :\n",
            "\n",
            "Given the evaluation steps, return a JSON with two keys:\n",
            "1) a `score` key ranging from 0 - 10, with 10 being that it follows the criteria outlined in the steps and 0 being that it does not, and\n",
            "2) a `reason` key, a reason for the given score, but DO NOT QUOTE THE SCORE in your reason.\n",
            "Please mention specific information from Actual Output and Input in your reason, but be very concise with it!\n",
            "\n",
            "Evaluation Steps:\n",
            "1. Compare the subject-verb agreement in the Actual Output with the expected output.\n",
            "2. Evaluate the tense consistency and correct use of verb forms in the Actual Output.\n",
            "3. Check for correct use of pronouns, articles, and prepositions in the Actual Output.\n",
            "4. Assess the overall sentence structure and flow of the Actual Output for grammatical correctness.\n",
            "\n",
            "Actual Output:\n",
            "Witing texts is painful, caus im making mitakes.\n",
            "\n",
            "Input:\n",
            "Why do you dislike writing texts ?\n",
            "\n",
            "\n",
            "\n",
            "**\n",
            "IMPORTANT: Please make sure to only return in JSON format, with the \"score\" and \"reason\" key. No words or explanation is needed.\n",
            "\n",
            "Example JSON:\n",
            "{\n",
            "    \"score\": 0,\n",
            "    \"reason\": \"The text does not follow the evaluation steps provided.\"\n",
            "}\n",
            "**\n",
            "\n",
            "JSON:\n",
            "\n",
            "\n",
            "***** Answer         :\n",
            "{\n",
            "    \"score\": 0,\n",
            "    \"reason\": \"Subject-verb agreement is incorrect, tense is inconsistent, and there are spelling mistakes in the Actual Output.\"\n",
            "}\n"
          ]
        }
      ]
    },
    {
      "cell_type": "markdown",
      "source": [
        "# G-Eval Implementation by DeepEval"
      ],
      "metadata": {
        "id": "cu3nSLWzG_JG"
      }
    },
    {
      "cell_type": "markdown",
      "source": [
        "A little adapter to connect our **llm_run** function with the deepEval library (and do some logging)\n",
        "\n",
        "see: https://docs.confident-ai.com/docs/guides-using-custom-llms"
      ],
      "metadata": {
        "id": "Z9fEWGsY6v18"
      }
    },
    {
      "cell_type": "code",
      "source": [
        "from deepeval.models import DeepEvalBaseLLM\n",
        "\n",
        "log_output=\"\"\n",
        "llm_log = True\n",
        "\n",
        "def log(log_message):\n",
        "    global log_output\n",
        "\n",
        "    if llm_log:\n",
        "          log_output += log_message + \"\\n\"\n",
        "\n",
        "# wrapper calling llm_run using the global members model_id, model\n",
        "class CustomDeepEvalLlm(DeepEvalBaseLLM):\n",
        "    def __init__(self):\n",
        "        super().__init__()\n",
        "        self.generate_count = 0\n",
        "\n",
        "    def load_model(self):\n",
        "        return model\n",
        "\n",
        "    def generate(self, prompt: str) -> str:\n",
        "        self.generate_count += 1\n",
        "        count = self.generate_count\n",
        "        log(f'[{count}] ********************** deepEval LLM Generate BEGIN ********************************************')\n",
        "        log(f'[{count}] ***** Prompt         : ' + prompt)\n",
        "\n",
        "        result = llm_run(prompt)\n",
        "\n",
        "        log(f'[{count}] ***** Answer         : ' + result)\n",
        "        log(f'[{count}] ********************** deepEval LLM Generate END   ')\n",
        "        log(f'[{count}] ')\n",
        "        return result\n",
        "\n",
        "    async def a_generate(self, prompt: str) -> str:\n",
        "        return self.generate(prompt)\n",
        "\n",
        "    def get_model_name(self):\n",
        "        return model_id\n",
        "\n",
        "deepeval_custom_model = CustomDeepEvalLlm()"
      ],
      "metadata": {
        "id": "pRgPt2He6fEO"
      },
      "execution_count": 19,
      "outputs": []
    },
    {
      "cell_type": "markdown",
      "source": [
        "try out the wrapper and check log output"
      ],
      "metadata": {
        "id": "mdaSg0H8WDp-"
      }
    },
    {
      "cell_type": "code",
      "source": [
        "deepeval_custom_model.generate('who are you ?')"
      ],
      "metadata": {
        "id": "B5Dq6gWrEU-5",
        "colab": {
          "base_uri": "https://localhost:8080/",
          "height": 0
        },
        "outputId": "45d32fd2-f6d6-4323-caf4-c7a91f927da8"
      },
      "execution_count": 20,
      "outputs": [
        {
          "output_type": "execute_result",
          "data": {
            "text/plain": [
              "'I\\'m an artificial intelligence model known as Llama. Llama stands for \"Large Language Model Meta AI.\"'"
            ],
            "application/vnd.google.colaboratory.intrinsic+json": {
              "type": "string"
            }
          },
          "metadata": {},
          "execution_count": 20
        }
      ]
    },
    {
      "cell_type": "code",
      "source": [
        "print(log_output)"
      ],
      "metadata": {
        "id": "5yvgkOIkLkzU",
        "colab": {
          "base_uri": "https://localhost:8080/"
        },
        "outputId": "07122dc9-45a7-4185-9c18-b092904a5d69"
      },
      "execution_count": 21,
      "outputs": [
        {
          "output_type": "stream",
          "name": "stdout",
          "text": [
            "[1] ********************** deepEval LLM Generate BEGIN ********************************************\n",
            "[1] ***** Prompt         : who are you ?\n",
            "[1] ***** Answer         : I'm an artificial intelligence model known as Llama. Llama stands for \"Large Language Model Meta AI.\"\n",
            "[1] ********************** deepEval LLM Generate END   \n",
            "[1] \n",
            "\n"
          ]
        }
      ]
    },
    {
      "cell_type": "markdown",
      "source": [
        "**geval_run** given calls the deepEval's geval implementation passing our criteria, llm_input and llm_output"
      ],
      "metadata": {
        "id": "8hLIk5Zzp7jc"
      }
    },
    {
      "cell_type": "code",
      "source": [
        "import deepeval\n",
        "import deepeval.metrics\n",
        "import deepeval.test_case\n",
        "from deepeval.models.base_model import DeepEvalBaseLLM\n",
        "from deepeval.metrics import GEval\n",
        "from deepeval.test_case import LLMTestCaseParams\n",
        "\n",
        "def geval_run(name, criteria, input, output):\n",
        "    test_case = deepeval.test_case.LLMTestCase(\n",
        "        input=input,\n",
        "        actual_output=output\n",
        "      )\n",
        "\n",
        "    metric = GEval(\n",
        "        name=name,\n",
        "        criteria=criteria,\n",
        "        evaluation_params=[\n",
        "            LLMTestCaseParams.ACTUAL_OUTPUT,\n",
        "            LLMTestCaseParams.INPUT],\n",
        "        model=deepeval_custom_model\n",
        "    )\n",
        "\n",
        "    eval_result = deepeval.evaluate(\n",
        "        test_cases=[test_case],\n",
        "        metrics=[metric]\n",
        "    )\n",
        "    return eval_result"
      ],
      "metadata": {
        "id": "2x3hftSQaea-"
      },
      "execution_count": 22,
      "outputs": []
    },
    {
      "cell_type": "code",
      "source": [
        "%%time\n",
        "log_output=\"\"\n",
        "r = geval_run(\"Language\", \"Grade the english grammar and syntax.\", llm_input, llm_output )"
      ],
      "metadata": {
        "id": "s-eQQ9sYcCKq",
        "colab": {
          "base_uri": "https://localhost:8080/",
          "height": 0,
          "referenced_widgets": [
            "b3b294d2a13545a8a3fef593add98d1a",
            "e18110018d3645269478e19bca8ccb11"
          ]
        },
        "outputId": "43d7e621-46df-4a91-e83e-44ff0fe7192f"
      },
      "execution_count": 23,
      "outputs": [
        {
          "output_type": "display_data",
          "data": {
            "text/plain": [
              "Output()"
            ],
            "application/vnd.jupyter.widget-view+json": {
              "version_major": 2,
              "version_minor": 0,
              "model_id": "b3b294d2a13545a8a3fef593add98d1a"
            }
          },
          "metadata": {}
        },
        {
          "output_type": "stream",
          "name": "stdout",
          "text": [
            "Evaluating test cases...\n",
            "Event loop is already running. Applying nest_asyncio patch to allow async execution...\n"
          ]
        },
        {
          "output_type": "display_data",
          "data": {
            "text/plain": [],
            "text/html": [
              "<pre style=\"white-space:pre;overflow-x:auto;line-height:normal;font-family:Menlo,'DejaVu Sans Mono',consolas,'Courier New',monospace\"></pre>\n"
            ]
          },
          "metadata": {}
        },
        {
          "output_type": "stream",
          "name": "stdout",
          "text": [
            "\n",
            "======================================================================\n",
            "\n",
            "Metrics Summary\n",
            "\n",
            "  - ❌ Language (GEval) (score: 0.0, threshold: 0.5, strict: False, evaluation model: meta-llama/Meta-Llama-3.1-8B-Instruct, reason: The text contains grammatical errors, such as 'Witing' instead of 'Writing', 'caus' instead of 'because', and'mitakes' instead of'mistakes'. The sentence structure and punctuation also deviate from the Input., error: None)\n",
            "\n",
            "For test case:\n",
            "\n",
            "  - input: Why do you dislike writing texts ?\n",
            "  - actual output: Witing texts is painful, caus im making mitakes.\n",
            "  - expected output: None\n",
            "  - context: None\n",
            "  - retrieval context: None\n",
            "\n",
            "======================================================================\n",
            "\n",
            "Overall Metric Pass Rates\n",
            "\n",
            "Language (GEval): 0.00% pass rate\n",
            "\n",
            "======================================================================\n",
            "\n"
          ]
        },
        {
          "output_type": "display_data",
          "data": {
            "text/plain": [
              "🎉 Tests finished ✅! Run \u001b[32m'deepeval login'\u001b[0m to view evaluation results on Confident AI. ‼️ NOTE: You can also run \n",
              "evaluations on ALL of deepeval's metrics directly on Confident AI instead.\n"
            ],
            "text/html": [
              "<pre style=\"white-space:pre;overflow-x:auto;line-height:normal;font-family:Menlo,'DejaVu Sans Mono',consolas,'Courier New',monospace\">🎉 Tests finished ✅! Run <span style=\"color: #008000; text-decoration-color: #008000\">'deepeval login'</span> to view evaluation results on Confident AI. ‼️ NOTE: You can also run \n",
              "evaluations on ALL of deepeval's metrics directly on Confident AI instead.\n",
              "</pre>\n"
            ]
          },
          "metadata": {}
        },
        {
          "output_type": "stream",
          "name": "stdout",
          "text": [
            "CPU times: user 40.2 s, sys: 346 ms, total: 40.5 s\n",
            "Wall time: 42.2 s\n"
          ]
        }
      ]
    },
    {
      "cell_type": "code",
      "source": [
        "def print_metrics_data(deep_eval_result):\n",
        "    for testcase in deep_eval_result:\n",
        "      print(\"input        :\", testcase.input)\n",
        "      print(\"actual_output:\", testcase.actual_output)\n",
        "      print()\n",
        "      for metric in testcase.metrics_data:\n",
        "        print(\"name         :\",metric.name)\n",
        "        print(\"score        :\",metric.score)\n",
        "        print(\"reason       :\",metric.reason)\n",
        "        print(\"model        :\",metric.evaluation_model)\n",
        "        print()\n",
        "      print(\"-----------\")"
      ],
      "metadata": {
        "id": "r-xjg5guXVmK"
      },
      "execution_count": 24,
      "outputs": []
    },
    {
      "cell_type": "code",
      "source": [
        "print_metrics_data(r)\n",
        "r"
      ],
      "metadata": {
        "id": "D7R_yZbFtx7w",
        "colab": {
          "base_uri": "https://localhost:8080/"
        },
        "outputId": "8d10c11f-b84e-41a0-8cc5-0be7b3976906"
      },
      "execution_count": 25,
      "outputs": [
        {
          "output_type": "stream",
          "name": "stdout",
          "text": [
            "input        : Why do you dislike writing texts ?\n",
            "actual_output: Witing texts is painful, caus im making mitakes.\n",
            "\n",
            "name         : Language (GEval)\n",
            "score        : 0.0\n",
            "reason       : The text contains grammatical errors, such as 'Witing' instead of 'Writing', 'caus' instead of 'because', and'mitakes' instead of'mistakes'. The sentence structure and punctuation also deviate from the Input.\n",
            "model        : meta-llama/Meta-Llama-3.1-8B-Instruct\n",
            "\n",
            "-----------\n"
          ]
        },
        {
          "output_type": "execute_result",
          "data": {
            "text/plain": [
              "[TestResult(success=False, metrics_data=[MetricData(name='Language (GEval)', threshold=0.5, success=False, score=0.0, reason=\"The text contains grammatical errors, such as 'Witing' instead of 'Writing', 'caus' instead of 'because', and'mitakes' instead of'mistakes'. The sentence structure and punctuation also deviate from the Input.\", strict_mode=False, evaluation_model='meta-llama/Meta-Llama-3.1-8B-Instruct', error=None, evaluation_cost=None, verbose_logs='Criteria:\\nGrade the english grammar and syntax. \\n \\nEvaluation Steps:\\n[\\n    \"Compare the Actual Output to the Input to identify any grammatical errors or inconsistencies.\",\\n    \"Evaluate the Actual Output\\'s sentence structure, verb tense, and subject-verb agreement in relation to the Input.\",\\n    \"Assess the Actual Output\\'s punctuation, capitalization, and spelling accuracy in comparison to the Input.\",\\n    \"Determine the overall grammatical correctness of the Actual Output by considering its alignment with the Input\\'s intended meaning and structure.\"\\n]')], input='Why do you dislike writing texts ?', actual_output='Witing texts is painful, caus im making mitakes.', expected_output=None, context=None, retrieval_context=None)]"
            ]
          },
          "metadata": {},
          "execution_count": 25
        }
      ]
    },
    {
      "cell_type": "code",
      "source": [
        "print(log_output)"
      ],
      "metadata": {
        "id": "u-sF6C_oM4cs",
        "colab": {
          "base_uri": "https://localhost:8080/"
        },
        "outputId": "92134440-2c3d-420d-adb0-53430eebc1df"
      },
      "execution_count": 26,
      "outputs": [
        {
          "output_type": "stream",
          "name": "stdout",
          "text": [
            "[2] ********************** deepEval LLM Generate BEGIN ********************************************\n",
            "[2] ***** Prompt         : Given an evaluation criteria which outlines how you should judge the Actual Output and Input, generate 3-4 concise evaluation steps based on the criteria below. You MUST make it clear how to evaluate Actual Output and Input in relation to one another.\n",
            "\n",
            "Evaluation Criteria:\n",
            "Grade the english grammar and syntax.\n",
            "\n",
            "**\n",
            "IMPORTANT: Please make sure to only return in JSON format, with the \"steps\" key as a list of strings. No words or explanation is needed.\n",
            "Example JSON:\n",
            "{\n",
            "    \"steps\": <list_of_strings>\n",
            "}\n",
            "**\n",
            "\n",
            "JSON:\n",
            "\n",
            "[2] ***** Answer         : {\n",
            "  \"steps\": [\n",
            "    \"Compare the Actual Output to the Input to identify any grammatical errors or inconsistencies.\",\n",
            "    \"Evaluate the Actual Output's sentence structure, verb tense, and subject-verb agreement in relation to the Input.\",\n",
            "    \"Assess the Actual Output's punctuation, capitalization, and spelling accuracy in comparison to the Input.\",\n",
            "    \"Determine the overall grammatical correctness of the Actual Output by considering its alignment with the Input's intended meaning and structure.\"\n",
            "  ]\n",
            "}\n",
            "[2] ********************** deepEval LLM Generate END   \n",
            "[2] \n",
            "[3] ********************** deepEval LLM Generate BEGIN ********************************************\n",
            "[3] ***** Prompt         : Given the evaluation steps, return a JSON with two keys: 1) a `score` key ranging from 0 - 10, with 10 being that it follows the criteria outlined in the steps and 0 being that it does not, and 2) a `reason` key, a reason for the given score, but DO NOT QUOTE THE SCORE in your reason. Please mention specific information from Actual Output and Input in your reason, but be very concise with it!\n",
            "\n",
            "Evaluation Steps:\n",
            "1. Compare the Actual Output to the Input to identify any grammatical errors or inconsistencies.\n",
            "2. Evaluate the Actual Output's sentence structure, verb tense, and subject-verb agreement in relation to the Input.\n",
            "3. Assess the Actual Output's punctuation, capitalization, and spelling accuracy in comparison to the Input.\n",
            "4. Determine the overall grammatical correctness of the Actual Output by considering its alignment with the Input's intended meaning and structure.\n",
            "\n",
            "\n",
            "Actual Output:\n",
            "Witing texts is painful, caus im making mitakes. \n",
            "\n",
            "Input:\n",
            "Why do you dislike writing texts ? \n",
            "\n",
            "\n",
            "\n",
            "**\n",
            "IMPORTANT: Please make sure to only return in JSON format, with the \"score\" and \"reason\" key. No words or explanation is needed.\n",
            "\n",
            "Example JSON:\n",
            "{\n",
            "    \"score\": 0,\n",
            "    \"reason\": \"The text does not follow the evaluation steps provided.\"\n",
            "}\n",
            "**\n",
            "\n",
            "JSON:\n",
            "\n",
            "[3] ***** Answer         : {\n",
            "    \"score\": 0,\n",
            "    \"reason\": \"The text contains grammatical errors, such as 'Witing' instead of 'Writing', 'caus' instead of 'because', and'mitakes' instead of'mistakes'. The sentence structure and punctuation also deviate from the Input.\"\n",
            "}\n",
            "[3] ********************** deepEval LLM Generate END   \n",
            "[3] \n",
            "\n"
          ]
        }
      ]
    },
    {
      "cell_type": "code",
      "source": [
        "log_output=\"\"\n",
        "r = geval_run(\"Conciseness\", \"Determine how concise the actual output is\", llm_input, llm_output )"
      ],
      "metadata": {
        "colab": {
          "base_uri": "https://localhost:8080/",
          "height": 0,
          "referenced_widgets": [
            "b41ee0f45e6949dd8920bd3d2b9aa31c",
            "2018a19f73f549c18948dd14f67f423e"
          ]
        },
        "id": "YAuHV_PfAArp",
        "outputId": "3a6b5288-1744-4ab7-a00c-c8fbf0b61e58"
      },
      "execution_count": 27,
      "outputs": [
        {
          "output_type": "display_data",
          "data": {
            "text/plain": [
              "Output()"
            ],
            "application/vnd.jupyter.widget-view+json": {
              "version_major": 2,
              "version_minor": 0,
              "model_id": "b41ee0f45e6949dd8920bd3d2b9aa31c"
            }
          },
          "metadata": {}
        },
        {
          "output_type": "display_data",
          "data": {
            "text/plain": [],
            "text/html": [
              "<pre style=\"white-space:pre;overflow-x:auto;line-height:normal;font-family:Menlo,'DejaVu Sans Mono',consolas,'Courier New',monospace\"></pre>\n"
            ]
          },
          "metadata": {}
        },
        {
          "output_type": "stream",
          "name": "stdout",
          "text": [
            "\n",
            "======================================================================\n",
            "\n",
            "Metrics Summary\n",
            "\n",
            "  - ❌ Conciseness (GEval) (score: 0.0, threshold: 0.5, strict: False, evaluation model: meta-llama/Meta-Llama-3.1-8B-Instruct, reason: The actual output contains unnecessary information and grammatical errors, and is not proportional to the complexity of the input., error: None)\n",
            "\n",
            "For test case:\n",
            "\n",
            "  - input: Why do you dislike writing texts ?\n",
            "  - actual output: Witing texts is painful, caus im making mitakes.\n",
            "  - expected output: None\n",
            "  - context: None\n",
            "  - retrieval context: None\n",
            "\n",
            "======================================================================\n",
            "\n",
            "Overall Metric Pass Rates\n",
            "\n",
            "Conciseness (GEval): 0.00% pass rate\n",
            "\n",
            "======================================================================\n",
            "\n"
          ]
        },
        {
          "output_type": "display_data",
          "data": {
            "text/plain": [
              "🎉 Tests finished ✅! Run \u001b[32m'deepeval login'\u001b[0m to view evaluation results on Confident AI. ‼️ NOTE: You can also run \n",
              "evaluations on ALL of deepeval's metrics directly on Confident AI instead.\n"
            ],
            "text/html": [
              "<pre style=\"white-space:pre;overflow-x:auto;line-height:normal;font-family:Menlo,'DejaVu Sans Mono',consolas,'Courier New',monospace\">🎉 Tests finished ✅! Run <span style=\"color: #008000; text-decoration-color: #008000\">'deepeval login'</span> to view evaluation results on Confident AI. ‼️ NOTE: You can also run \n",
              "evaluations on ALL of deepeval's metrics directly on Confident AI instead.\n",
              "</pre>\n"
            ]
          },
          "metadata": {}
        }
      ]
    },
    {
      "cell_type": "markdown",
      "source": [
        "# Evaluating multiple metrics: \"Conciseness\", AnswerRelevance, Toxicity,..."
      ],
      "metadata": {
        "id": "u91oPU40-0sw"
      }
    },
    {
      "cell_type": "markdown",
      "source": [
        "check out some other metrics [https://docs.confident-ai.com/docs/metrics-introduction](https://docs.confident-ai.com/docs/metrics-introduction)"
      ],
      "metadata": {
        "id": "o8TGFB0gWPjC"
      }
    },
    {
      "cell_type": "code",
      "source": [
        "deepeval_custom_model = CustomDeepEvalLlm()"
      ],
      "metadata": {
        "id": "K9V2JQKRc84b"
      },
      "execution_count": 28,
      "outputs": []
    },
    {
      "cell_type": "code",
      "source": [
        "from deepeval.metrics import AnswerRelevancyMetric, ToxicityMetric\n",
        "\n",
        "def metrics_run(input, output):\n",
        "    test_case = deepeval.test_case.LLMTestCase(\n",
        "        input=input,\n",
        "        actual_output=output\n",
        "      )\n",
        "\n",
        "    conciseness_metric = GEval(\n",
        "        name=\"Conciseness\",\n",
        "        criteria=\"Determine how concise the actual output is\",\n",
        "        evaluation_params=[\n",
        "            LLMTestCaseParams.ACTUAL_OUTPUT,\n",
        "            LLMTestCaseParams.INPUT],\n",
        "        model=deepeval_custom_model\n",
        "    )\n",
        "\n",
        "    language_metric = GEval(\n",
        "        name=\"Language\",\n",
        "        criteria=\"Determine how well the actual output respects the english grammar and syntax\",\n",
        "        evaluation_params=[\n",
        "            LLMTestCaseParams.ACTUAL_OUTPUT,\n",
        "            LLMTestCaseParams.INPUT],\n",
        "        model=deepeval_custom_model\n",
        "    )\n",
        "\n",
        "    metrics = [\n",
        "        # conciseness_metric,\n",
        "        language_metric,\n",
        "        AnswerRelevancyMetric(model=deepeval_custom_model),\n",
        "        # ToxicityMetric(model=deepeval_custom_model) # Lllama_3.1_8B_8bit not \"strong\" enough\n",
        "    ]\n",
        "\n",
        "    eval_result = deepeval.evaluate(\n",
        "        test_cases=[test_case],\n",
        "        metrics=metrics,\n",
        "    )\n",
        "    return eval_result"
      ],
      "metadata": {
        "id": "4zCdsHgawTNW"
      },
      "execution_count": 29,
      "outputs": []
    },
    {
      "cell_type": "code",
      "source": [
        "log_output=\"\"\n",
        "metrics_run(llm_input, llm_output)"
      ],
      "metadata": {
        "id": "PMob0zOvAQjD",
        "colab": {
          "base_uri": "https://localhost:8080/",
          "height": 762,
          "referenced_widgets": [
            "0754b17c3f8842208bd29fb90b0cd7d8",
            "0036afe2b2a14e07ae09f60c1adc0b43"
          ]
        },
        "outputId": "115c7f84-7c67-41dc-f0ca-c6049a1a7ecd"
      },
      "execution_count": 30,
      "outputs": [
        {
          "output_type": "display_data",
          "data": {
            "text/plain": [
              "Output()"
            ],
            "application/vnd.jupyter.widget-view+json": {
              "version_major": 2,
              "version_minor": 0,
              "model_id": "0754b17c3f8842208bd29fb90b0cd7d8"
            }
          },
          "metadata": {}
        },
        {
          "output_type": "stream",
          "name": "stdout",
          "text": [
            "Evaluating test cases...\n",
            "Event loop is already running. Applying nest_asyncio patch to allow async execution...\n"
          ]
        },
        {
          "output_type": "display_data",
          "data": {
            "text/plain": [],
            "text/html": [
              "<pre style=\"white-space:pre;overflow-x:auto;line-height:normal;font-family:Menlo,'DejaVu Sans Mono',consolas,'Courier New',monospace\"></pre>\n"
            ]
          },
          "metadata": {}
        },
        {
          "output_type": "stream",
          "name": "stdout",
          "text": [
            "\n",
            "======================================================================\n",
            "\n",
            "Metrics Summary\n",
            "\n",
            "  - ❌ Language (GEval) (score: 0.0, threshold: 0.5, strict: False, evaluation model: meta-llama/Meta-Llama-3.1-8B-Instruct, reason: The actual output contains syntax errors and grammatical mistakes, such as 'Witing' instead of 'Writing', 'caus' instead of 'because', and'mitakes' instead of'mistakes'., error: None)\n",
            "  - ❌ Answer Relevancy (score: 0.0, threshold: 0.5, strict: False, evaluation model: meta-llama/Meta-Llama-3.1-8B-Instruct, reason: The score is 0.00 because the actual output contains irrelevant statements such as 'Witing texts is painful' and 'caus im making mitakes', which are unrelated to the reason for disliking writing texts, making the answer completely irrelevant to the input., error: None)\n",
            "\n",
            "For test case:\n",
            "\n",
            "  - input: Why do you dislike writing texts ?\n",
            "  - actual output: Witing texts is painful, caus im making mitakes.\n",
            "  - expected output: None\n",
            "  - context: None\n",
            "  - retrieval context: None\n",
            "\n",
            "======================================================================\n",
            "\n",
            "Overall Metric Pass Rates\n",
            "\n",
            "Language (GEval): 0.00% pass rate\n",
            "Answer Relevancy: 0.00% pass rate\n",
            "\n",
            "======================================================================\n",
            "\n"
          ]
        },
        {
          "output_type": "display_data",
          "data": {
            "text/plain": [
              "🎉 Tests finished ✅! Run \u001b[32m'deepeval login'\u001b[0m to view evaluation results on Confident AI. ‼️ NOTE: You can also run \n",
              "evaluations on ALL of deepeval's metrics directly on Confident AI instead.\n"
            ],
            "text/html": [
              "<pre style=\"white-space:pre;overflow-x:auto;line-height:normal;font-family:Menlo,'DejaVu Sans Mono',consolas,'Courier New',monospace\">🎉 Tests finished ✅! Run <span style=\"color: #008000; text-decoration-color: #008000\">'deepeval login'</span> to view evaluation results on Confident AI. ‼️ NOTE: You can also run \n",
              "evaluations on ALL of deepeval's metrics directly on Confident AI instead.\n",
              "</pre>\n"
            ]
          },
          "metadata": {}
        },
        {
          "output_type": "execute_result",
          "data": {
            "text/plain": [
              "[TestResult(success=False, metrics_data=[MetricData(name='Language (GEval)', threshold=0.5, success=False, score=0.0, reason=\"The actual output contains syntax errors and grammatical mistakes, such as 'Witing' instead of 'Writing', 'caus' instead of 'because', and'mitakes' instead of'mistakes'.\", strict_mode=False, evaluation_model='meta-llama/Meta-Llama-3.1-8B-Instruct', error=None, evaluation_cost=None, verbose_logs='Criteria:\\nDetermine how well the actual output respects the english grammar and syntax \\n \\nEvaluation Steps:\\n[\\n    \"Check if the actual output is grammatically correct and free of syntax errors.\",\\n    \"Compare the actual output to the expected output in terms of sentence structure and punctuation.\",\\n    \"Evaluate if the actual output maintains subject-verb agreement and correct use of tenses.\",\\n    \"Assess if the actual output is clear and concise, with proper use of articles, prepositions, and conjunctions.\"\\n]'), MetricData(name='Answer Relevancy', threshold=0.5, success=False, score=0.0, reason=\"The score is 0.00 because the actual output contains irrelevant statements such as 'Witing texts is painful' and 'caus im making mitakes', which are unrelated to the reason for disliking writing texts, making the answer completely irrelevant to the input.\", strict_mode=False, evaluation_model='meta-llama/Meta-Llama-3.1-8B-Instruct', error=None, evaluation_cost=None, verbose_logs='Statements:\\n[\\n    \"Witing texts is painful\",\\n    \"caus im making mitakes\"\\n] \\n \\nVerdicts:\\n[\\n    {\\n        \"verdict\": \"no\",\\n        \"reason\": \"The \\'Witing texts is painful\\' statement made in the actual output is irrelevant to the input, which asks about the reason for disliking writing texts.\"\\n    },\\n    {\\n        \"verdict\": \"no\",\\n        \"reason\": \"The \\'caus im making mitakes\\' statement made in the actual output is irrelevant to the input, which asks about the reason for disliking writing texts.\"\\n    }\\n]')], input='Why do you dislike writing texts ?', actual_output='Witing texts is painful, caus im making mitakes.', expected_output=None, context=None, retrieval_context=None)]"
            ]
          },
          "metadata": {},
          "execution_count": 30
        }
      ]
    },
    {
      "cell_type": "code",
      "source": [
        "print(log_output)"
      ],
      "metadata": {
        "id": "hESBGDRiBQ9u",
        "colab": {
          "base_uri": "https://localhost:8080/"
        },
        "outputId": "74b2d017-957f-44ce-d7b8-4363cf7fd434"
      },
      "execution_count": 31,
      "outputs": [
        {
          "output_type": "stream",
          "name": "stdout",
          "text": [
            "[1] ********************** deepEval LLM Generate BEGIN ********************************************\n",
            "[1] ***** Prompt         : Given an evaluation criteria which outlines how you should judge the Actual Output and Input, generate 3-4 concise evaluation steps based on the criteria below. You MUST make it clear how to evaluate Actual Output and Input in relation to one another.\n",
            "\n",
            "Evaluation Criteria:\n",
            "Determine how well the actual output respects the english grammar and syntax\n",
            "\n",
            "**\n",
            "IMPORTANT: Please make sure to only return in JSON format, with the \"steps\" key as a list of strings. No words or explanation is needed.\n",
            "Example JSON:\n",
            "{\n",
            "    \"steps\": <list_of_strings>\n",
            "}\n",
            "**\n",
            "\n",
            "JSON:\n",
            "\n",
            "[1] ***** Answer         : {\n",
            "  \"steps\": [\n",
            "    \"Check if the actual output is grammatically correct and free of syntax errors.\",\n",
            "    \"Compare the actual output to the expected output in terms of sentence structure and punctuation.\",\n",
            "    \"Evaluate if the actual output maintains subject-verb agreement and correct use of tenses.\",\n",
            "    \"Assess if the actual output is clear and concise, with proper use of articles, prepositions, and conjunctions.\"\n",
            "  ]\n",
            "}\n",
            "[1] ********************** deepEval LLM Generate END   \n",
            "[1] \n",
            "[2] ********************** deepEval LLM Generate BEGIN ********************************************\n",
            "[2] ***** Prompt         : Given the evaluation steps, return a JSON with two keys: 1) a `score` key ranging from 0 - 10, with 10 being that it follows the criteria outlined in the steps and 0 being that it does not, and 2) a `reason` key, a reason for the given score, but DO NOT QUOTE THE SCORE in your reason. Please mention specific information from Actual Output and Input in your reason, but be very concise with it!\n",
            "\n",
            "Evaluation Steps:\n",
            "1. Check if the actual output is grammatically correct and free of syntax errors.\n",
            "2. Compare the actual output to the expected output in terms of sentence structure and punctuation.\n",
            "3. Evaluate if the actual output maintains subject-verb agreement and correct use of tenses.\n",
            "4. Assess if the actual output is clear and concise, with proper use of articles, prepositions, and conjunctions.\n",
            "\n",
            "\n",
            "Actual Output:\n",
            "Witing texts is painful, caus im making mitakes. \n",
            "\n",
            "Input:\n",
            "Why do you dislike writing texts ? \n",
            "\n",
            "\n",
            "\n",
            "**\n",
            "IMPORTANT: Please make sure to only return in JSON format, with the \"score\" and \"reason\" key. No words or explanation is needed.\n",
            "\n",
            "Example JSON:\n",
            "{\n",
            "    \"score\": 0,\n",
            "    \"reason\": \"The text does not follow the evaluation steps provided.\"\n",
            "}\n",
            "**\n",
            "\n",
            "JSON:\n",
            "\n",
            "[2] ***** Answer         : {\n",
            "    \"score\": 0,\n",
            "    \"reason\": \"The actual output contains syntax errors and grammatical mistakes, such as 'Witing' instead of 'Writing', 'caus' instead of 'because', and'mitakes' instead of'mistakes'.\"\n",
            "}\n",
            "[2] ********************** deepEval LLM Generate END   \n",
            "[2] \n",
            "[3] ********************** deepEval LLM Generate BEGIN ********************************************\n",
            "[3] ***** Prompt         : Given the text, breakdown and generate a list of statements presented. Ambiguous statements and single words can also be considered as statements.\n",
            "\n",
            "Example:\n",
            "Example text: Shoes. The shoes can be refunded at no extra cost. Thanks for asking the question!\n",
            "\n",
            "{\n",
            "    \"statements\": [\"Shoes.\", \"Shoes can be refunded at no extra cost\", \"Thanks for asking the question!\"]\n",
            "}\n",
            "===== END OF EXAMPLE ======\n",
            "        \n",
            "**\n",
            "IMPORTANT: Please make sure to only return in JSON format, with the \"statements\" key mapping to a list of strings. No words or explanation is needed.\n",
            "**\n",
            "\n",
            "Text:\n",
            "Witing texts is painful, caus im making mitakes.\n",
            "\n",
            "JSON:\n",
            "\n",
            "[3] ***** Answer         : {\n",
            "  \"statements\": [\"Witing texts is painful\", \"caus im making mitakes\"]\n",
            "}\n",
            "[3] ********************** deepEval LLM Generate END   \n",
            "[3] \n",
            "[4] ********************** deepEval LLM Generate BEGIN ********************************************\n",
            "[4] ***** Prompt         : For the provided list of statements, determine whether each statement is relevant to address the input.\n",
            "Please generate a list of JSON with two keys: `verdict` and `reason`.\n",
            "The 'verdict' key should STRICTLY be either a 'yes', 'idk' or 'no'. Answer 'yes' if the statement is relevant to addressing the original input, 'no' if the statement is irrelevant, and 'idk' if it is ambiguous (eg., not directly relevant but could be used as a supporting point to address the input).\n",
            "The 'reason' is the reason for the verdict.\n",
            "Provide a 'reason' ONLY if the answer is 'no'. \n",
            "The provided statements are statements made in the actual output.\n",
            "\n",
            "**\n",
            "IMPORTANT: Please make sure to only return in JSON format, with the 'verdicts' key mapping to a list of JSON objects.\n",
            "Example input: What should I do if there is an earthquake?\n",
            "Example statements: [\"Shoes.\", \"Thanks for asking the question!\", \"Is there anything else I can help you with?\", \"Duck and hide\"]\n",
            "Example JSON:\n",
            "{\n",
            "    \"verdicts\": [\n",
            "        {\n",
            "            \"verdict\": \"no\",\n",
            "            \"reason\": \"The 'Shoes.' statement made in the actual output is completely irrelevant to the input, which asks about what to do in the event of an earthquake.\"\n",
            "        },\n",
            "        {\n",
            "            \"verdict\": \"idk\"\n",
            "        },\n",
            "        {\n",
            "            \"verdict\": \"idk\"\n",
            "        },\n",
            "        {\n",
            "            \"verdict\": \"yes\"\n",
            "        }\n",
            "    ]  \n",
            "}\n",
            "\n",
            "Since you are going to generate a verdict for each statement, the number of 'verdicts' SHOULD BE STRICTLY EQUAL to the number of `statements`.\n",
            "**          \n",
            "\n",
            "Input:\n",
            "Why do you dislike writing texts ?\n",
            "\n",
            "Statements:\n",
            "['Witing texts is painful', 'caus im making mitakes']\n",
            "\n",
            "JSON:\n",
            "\n",
            "[4] ***** Answer         : {\n",
            "  \"verdicts\": [\n",
            "    {\n",
            "      \"verdict\": \"no\",\n",
            "      \"reason\": \"The 'Witing texts is painful' statement made in the actual output is irrelevant to the input, which asks about the reason for disliking writing texts.\"\n",
            "    },\n",
            "    {\n",
            "      \"verdict\": \"no\",\n",
            "      \"reason\": \"The 'caus im making mitakes' statement made in the actual output is irrelevant to the input, which asks about the reason for disliking writing texts.\"\n",
            "    }\n",
            "  ]\n",
            "}\n",
            "[4] ********************** deepEval LLM Generate END   \n",
            "[4] \n",
            "[5] ********************** deepEval LLM Generate BEGIN ********************************************\n",
            "[5] ***** Prompt         : Given the answer relevancy score, the list of reasons of irrelevant statements made in the actual output, and the input, provide a CONCISE reason for the score. Explain why it is not higher, but also why it is at its current score.\n",
            "The irrelevant statements represent things in the actual output that is irrelevant to addressing whatever is asked/talked about in the input.\n",
            "If there is nothing irrelevant, just say something positive with an upbeat encouraging tone (but don't overdo it otherwise it gets annoying).\n",
            "\n",
            "\n",
            "**\n",
            "IMPORTANT: Please make sure to only return in JSON format, with the 'reason' key providing the reason.\n",
            "Example JSON:\n",
            "{\n",
            "    \"reason\": \"The score is <answer_relevancy_score> because <your_reason>.\"\n",
            "}\n",
            "**\n",
            "\n",
            "Answer Relevancy Score:\n",
            "0.00\n",
            "\n",
            "Reasons why the score can't be higher based on irrelevant statements in the actual output:\n",
            "[\"The 'Witing texts is painful' statement made in the actual output is irrelevant to the input, which asks about the reason for disliking writing texts.\", \"The 'caus im making mitakes' statement made in the actual output is irrelevant to the input, which asks about the reason for disliking writing texts.\"]\n",
            "\n",
            "Input:\n",
            "Why do you dislike writing texts ?\n",
            "\n",
            "JSON:\n",
            "\n",
            "[5] ***** Answer         : {\n",
            "    \"reason\": \"The score is 0.00 because the actual output contains irrelevant statements such as 'Witing texts is painful' and 'caus im making mitakes', which are unrelated to the reason for disliking writing texts, making the answer completely irrelevant to the input.\"\n",
            "}\n",
            "[5] ********************** deepEval LLM Generate END   \n",
            "[5] \n",
            "\n"
          ]
        }
      ]
    },
    {
      "cell_type": "code",
      "source": [
        "llm_input=\"What is a pipe ?\"\n",
        "llm_output_concise=\"A pipe is a tubular conduit used to transport fluids or sometimes solids. A pipe is typically made of materials like metal, plastic, or concrete.\"\n",
        "llm_output_inconcise=\"Pipes are beautiful, black and round. Because they are round they are very convenient and don't have any edges.\""
      ],
      "metadata": {
        "id": "RXbZChu78adp"
      },
      "execution_count": 32,
      "outputs": []
    },
    {
      "cell_type": "code",
      "source": [
        "log_output=\"\"\n",
        "r=metrics_run(llm_input, llm_output_concise)\n",
        "print_metrics_data(r)\n",
        "print(r)"
      ],
      "metadata": {
        "colab": {
          "base_uri": "https://localhost:8080/",
          "height": 871,
          "referenced_widgets": [
            "cddb5ebe098543f1adac28cc27b2d98e",
            "a2b85ab52378437c8ed5767dd5be92f4"
          ]
        },
        "id": "5u-IvdmpCKBI",
        "outputId": "2a5accf4-1f56-427c-e6d4-8f42ebcebad9"
      },
      "execution_count": 33,
      "outputs": [
        {
          "output_type": "display_data",
          "data": {
            "text/plain": [
              "Output()"
            ],
            "application/vnd.jupyter.widget-view+json": {
              "version_major": 2,
              "version_minor": 0,
              "model_id": "cddb5ebe098543f1adac28cc27b2d98e"
            }
          },
          "metadata": {}
        },
        {
          "output_type": "stream",
          "name": "stdout",
          "text": [
            "Evaluating test cases...\n",
            "Event loop is already running. Applying nest_asyncio patch to allow async execution...\n"
          ]
        },
        {
          "output_type": "display_data",
          "data": {
            "text/plain": [],
            "text/html": [
              "<pre style=\"white-space:pre;overflow-x:auto;line-height:normal;font-family:Menlo,'DejaVu Sans Mono',consolas,'Courier New',monospace\"></pre>\n"
            ]
          },
          "metadata": {}
        },
        {
          "output_type": "stream",
          "name": "stdout",
          "text": [
            "\n",
            "======================================================================\n",
            "\n",
            "Metrics Summary\n",
            "\n",
            "  - ✅ Language (GEval) (score: 0.8, threshold: 0.5, strict: False, evaluation model: meta-llama/Meta-Llama-3.1-8B-Instruct, reason: The actual output is grammatically correct, but the sentence structure and punctuation are not compared to the expected output, and the use of articles is not assessed., error: None)\n",
            "  - ✅ Answer Relevancy (score: 1.0, threshold: 0.5, strict: False, evaluation model: meta-llama/Meta-Llama-3.1-8B-Instruct, reason: The score is 1.00 because the actual output directly and accurately answers the question about the definition of a pipe, making it highly relevant to the input., error: None)\n",
            "\n",
            "For test case:\n",
            "\n",
            "  - input: What is a pipe ?\n",
            "  - actual output: A pipe is a tubular conduit used to transport fluids or sometimes solids. A pipe is typically made of materials like metal, plastic, or concrete.\n",
            "  - expected output: None\n",
            "  - context: None\n",
            "  - retrieval context: None\n",
            "\n",
            "======================================================================\n",
            "\n",
            "Overall Metric Pass Rates\n",
            "\n",
            "Language (GEval): 100.00% pass rate\n",
            "Answer Relevancy: 100.00% pass rate\n",
            "\n",
            "======================================================================\n",
            "\n"
          ]
        },
        {
          "output_type": "display_data",
          "data": {
            "text/plain": [
              "🎉 Tests finished ✅! Run \u001b[32m'deepeval login'\u001b[0m to view evaluation results on Confident AI. ‼️ NOTE: You can also run \n",
              "evaluations on ALL of deepeval's metrics directly on Confident AI instead.\n"
            ],
            "text/html": [
              "<pre style=\"white-space:pre;overflow-x:auto;line-height:normal;font-family:Menlo,'DejaVu Sans Mono',consolas,'Courier New',monospace\">🎉 Tests finished ✅! Run <span style=\"color: #008000; text-decoration-color: #008000\">'deepeval login'</span> to view evaluation results on Confident AI. ‼️ NOTE: You can also run \n",
              "evaluations on ALL of deepeval's metrics directly on Confident AI instead.\n",
              "</pre>\n"
            ]
          },
          "metadata": {}
        },
        {
          "output_type": "stream",
          "name": "stdout",
          "text": [
            "input        : What is a pipe ?\n",
            "actual_output: A pipe is a tubular conduit used to transport fluids or sometimes solids. A pipe is typically made of materials like metal, plastic, or concrete.\n",
            "\n",
            "name         : Language (GEval)\n",
            "score        : 0.8\n",
            "reason       : The actual output is grammatically correct, but the sentence structure and punctuation are not compared to the expected output, and the use of articles is not assessed.\n",
            "model        : meta-llama/Meta-Llama-3.1-8B-Instruct\n",
            "\n",
            "name         : Answer Relevancy\n",
            "score        : 1.0\n",
            "reason       : The score is 1.00 because the actual output directly and accurately answers the question about the definition of a pipe, making it highly relevant to the input.\n",
            "model        : meta-llama/Meta-Llama-3.1-8B-Instruct\n",
            "\n",
            "-----------\n",
            "[TestResult(success=True, metrics_data=[MetricData(name='Language (GEval)', threshold=0.5, success=True, score=0.8, reason='The actual output is grammatically correct, but the sentence structure and punctuation are not compared to the expected output, and the use of articles is not assessed.', strict_mode=False, evaluation_model='meta-llama/Meta-Llama-3.1-8B-Instruct', error=None, evaluation_cost=None, verbose_logs='Criteria:\\nDetermine how well the actual output respects the english grammar and syntax \\n \\nEvaluation Steps:\\n[\\n    \"Check if the actual output is grammatically correct and free of syntax errors.\",\\n    \"Compare the actual output to the expected output in terms of sentence structure and punctuation.\",\\n    \"Evaluate if the actual output maintains subject-verb agreement and correct use of tenses.\",\\n    \"Assess if the actual output is clear and concise, with proper use of articles, prepositions, and conjunctions.\"\\n]'), MetricData(name='Answer Relevancy', threshold=0.5, success=True, score=1.0, reason='The score is 1.00 because the actual output directly and accurately answers the question about the definition of a pipe, making it highly relevant to the input.', strict_mode=False, evaluation_model='meta-llama/Meta-Llama-3.1-8B-Instruct', error=None, evaluation_cost=None, verbose_logs='Statements:\\n[\\n    \"A pipe is a tubular conduit used to transport fluids or sometimes solids.\",\\n    \"A pipe is typically made of materials like metal, plastic, or concrete.\"\\n] \\n \\nVerdicts:\\n[\\n    {\\n        \"verdict\": \"yes\",\\n        \"reason\": \"\"\\n    },\\n    {\\n        \"verdict\": \"yes\",\\n        \"reason\": \"\"\\n    }\\n]')], input='What is a pipe ?', actual_output='A pipe is a tubular conduit used to transport fluids or sometimes solids. A pipe is typically made of materials like metal, plastic, or concrete.', expected_output=None, context=None, retrieval_context=None)]\n"
          ]
        }
      ]
    },
    {
      "cell_type": "markdown",
      "source": [
        "# Optional: Compare with OpenAI gpt-4o"
      ],
      "metadata": {
        "id": "6PfOrRkBWsUd"
      }
    },
    {
      "cell_type": "markdown",
      "source": [
        "To use OpenAI you need an Api key. deepEval defaults to openAI if no model is set."
      ],
      "metadata": {
        "id": "92s6WNhzW6Ci"
      }
    },
    {
      "cell_type": "code",
      "source": [
        "import os\n",
        "\n",
        "os.environ[\"OPENAI_API_KEY\"] = userdata.get('OPENAI_API_KEY')\n",
        "deepeval_custom_model = None"
      ],
      "metadata": {
        "id": "yKab89QzWrW8"
      },
      "execution_count": 37,
      "outputs": []
    },
    {
      "cell_type": "code",
      "source": [
        "log_output=\"\"\n",
        "r=metrics_run(llm_input, llm_output_concise)"
      ],
      "metadata": {
        "id": "cPMRaclPVwyt",
        "colab": {
          "base_uri": "https://localhost:8080/",
          "height": 598,
          "referenced_widgets": [
            "4586456ccc8f4f03b6dd8f759beb6173",
            "9f4ab8fe7f814248932dee6b67a87b6b"
          ]
        },
        "outputId": "c07b4cac-f010-4dbb-9523-43049bade5a2"
      },
      "execution_count": 38,
      "outputs": [
        {
          "output_type": "display_data",
          "data": {
            "text/plain": [
              "Output()"
            ],
            "application/vnd.jupyter.widget-view+json": {
              "version_major": 2,
              "version_minor": 0,
              "model_id": "4586456ccc8f4f03b6dd8f759beb6173"
            }
          },
          "metadata": {}
        },
        {
          "output_type": "stream",
          "name": "stdout",
          "text": [
            "Evaluating test cases...\n",
            "Event loop is already running. Applying nest_asyncio patch to allow async execution...\n"
          ]
        },
        {
          "output_type": "display_data",
          "data": {
            "text/plain": [],
            "text/html": [
              "<pre style=\"white-space:pre;overflow-x:auto;line-height:normal;font-family:Menlo,'DejaVu Sans Mono',consolas,'Courier New',monospace\"></pre>\n"
            ]
          },
          "metadata": {}
        },
        {
          "output_type": "stream",
          "name": "stdout",
          "text": [
            "\n",
            "======================================================================\n",
            "\n",
            "Metrics Summary\n",
            "\n",
            "  - ✅ Language (GEval) (score: 0.9032257855646714, threshold: 0.5, strict: False, evaluation model: gpt-4o, reason: The Actual Output has correct subject-verb agreement, proper punctuation, and capitalization. The tense is consistent and the sentence structure is coherent and logical. However, the second sentence slightly deviates from directly answering the question., error: None)\n",
            "  - ✅ Answer Relevancy (score: 1.0, threshold: 0.5, strict: False, evaluation model: gpt-4o, reason: The score is 1.00 because the response was entirely relevant and addressed the question directly. Great job!, error: None)\n",
            "\n",
            "For test case:\n",
            "\n",
            "  - input: What is a pipe ?\n",
            "  - actual output: A pipe is a tubular conduit used to transport fluids or sometimes solids. A pipe is typically made of materials like metal, plastic, or concrete.\n",
            "  - expected output: None\n",
            "  - context: None\n",
            "  - retrieval context: None\n",
            "\n",
            "======================================================================\n",
            "\n",
            "Overall Metric Pass Rates\n",
            "\n",
            "Language (GEval): 100.00% pass rate\n",
            "Answer Relevancy: 100.00% pass rate\n",
            "\n",
            "======================================================================\n",
            "\n"
          ]
        },
        {
          "output_type": "display_data",
          "data": {
            "text/plain": [
              "🎉 Tests finished ✅! Run \u001b[32m'deepeval login'\u001b[0m to view evaluation results on Confident AI. ‼️ NOTE: You can also run \n",
              "evaluations on ALL of deepeval's metrics directly on Confident AI instead.\n"
            ],
            "text/html": [
              "<pre style=\"white-space:pre;overflow-x:auto;line-height:normal;font-family:Menlo,'DejaVu Sans Mono',consolas,'Courier New',monospace\">🎉 Tests finished ✅! Run <span style=\"color: #008000; text-decoration-color: #008000\">'deepeval login'</span> to view evaluation results on Confident AI. ‼️ NOTE: You can also run \n",
              "evaluations on ALL of deepeval's metrics directly on Confident AI instead.\n",
              "</pre>\n"
            ]
          },
          "metadata": {}
        }
      ]
    },
    {
      "cell_type": "code",
      "source": [
        "print_metrics_data(r)"
      ],
      "metadata": {
        "id": "GoLiN6iXXKLC",
        "colab": {
          "base_uri": "https://localhost:8080/"
        },
        "outputId": "94c07516-0e82-4c6b-f018-596fa9291f5a"
      },
      "execution_count": 39,
      "outputs": [
        {
          "output_type": "stream",
          "name": "stdout",
          "text": [
            "input        : What is a pipe ?\n",
            "actual_output: A pipe is a tubular conduit used to transport fluids or sometimes solids. A pipe is typically made of materials like metal, plastic, or concrete.\n",
            "\n",
            "name         : Language (GEval)\n",
            "score        : 0.9032257855646714\n",
            "reason       : The Actual Output has correct subject-verb agreement, proper punctuation, and capitalization. The tense is consistent and the sentence structure is coherent and logical. However, the second sentence slightly deviates from directly answering the question.\n",
            "model        : gpt-4o\n",
            "\n",
            "name         : Answer Relevancy\n",
            "score        : 1.0\n",
            "reason       : The score is 1.00 because the response was entirely relevant and addressed the question directly. Great job!\n",
            "model        : gpt-4o\n",
            "\n",
            "-----------\n"
          ]
        }
      ]
    }
  ]
}