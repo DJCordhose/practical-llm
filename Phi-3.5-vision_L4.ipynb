{
  "nbformat": 4,
  "nbformat_minor": 0,
  "metadata": {
    "colab": {
      "provenance": [],
      "gpuType": "L4",
      "machine_shape": "hm",
      "authorship_tag": "ABX9TyPAYRzUPSGuMjjBBOhheJ19",
      "include_colab_link": true
    },
    "kernelspec": {
      "name": "python3",
      "display_name": "Python 3"
    },
    "language_info": {
      "name": "python"
    },
    "accelerator": "GPU",
    "widgets": {
      "application/vnd.jupyter.widget-state+json": {
        "054fde34d55641f1a826ed02256eee25": {
          "model_module": "@jupyter-widgets/controls",
          "model_name": "HBoxModel",
          "model_module_version": "1.5.0",
          "state": {
            "_dom_classes": [],
            "_model_module": "@jupyter-widgets/controls",
            "_model_module_version": "1.5.0",
            "_model_name": "HBoxModel",
            "_view_count": null,
            "_view_module": "@jupyter-widgets/controls",
            "_view_module_version": "1.5.0",
            "_view_name": "HBoxView",
            "box_style": "",
            "children": [
              "IPY_MODEL_09f2f4e04fb64a528176265f6a4f2d5c",
              "IPY_MODEL_7ff1adc9ddc74f0ea7857dc674a5fc3b",
              "IPY_MODEL_3468ed7cf3ae4e328f126c68ea9a8056"
            ],
            "layout": "IPY_MODEL_ed200b1cb9a84a3fbeded98a10fe0ee7"
          }
        },
        "09f2f4e04fb64a528176265f6a4f2d5c": {
          "model_module": "@jupyter-widgets/controls",
          "model_name": "HTMLModel",
          "model_module_version": "1.5.0",
          "state": {
            "_dom_classes": [],
            "_model_module": "@jupyter-widgets/controls",
            "_model_module_version": "1.5.0",
            "_model_name": "HTMLModel",
            "_view_count": null,
            "_view_module": "@jupyter-widgets/controls",
            "_view_module_version": "1.5.0",
            "_view_name": "HTMLView",
            "description": "",
            "description_tooltip": null,
            "layout": "IPY_MODEL_30576a3723db426ab3c427f6b8601f04",
            "placeholder": "​",
            "style": "IPY_MODEL_00e009edca6e4db6bbec282da1fde350",
            "value": "Loading checkpoint shards: 100%"
          }
        },
        "7ff1adc9ddc74f0ea7857dc674a5fc3b": {
          "model_module": "@jupyter-widgets/controls",
          "model_name": "FloatProgressModel",
          "model_module_version": "1.5.0",
          "state": {
            "_dom_classes": [],
            "_model_module": "@jupyter-widgets/controls",
            "_model_module_version": "1.5.0",
            "_model_name": "FloatProgressModel",
            "_view_count": null,
            "_view_module": "@jupyter-widgets/controls",
            "_view_module_version": "1.5.0",
            "_view_name": "ProgressView",
            "bar_style": "success",
            "description": "",
            "description_tooltip": null,
            "layout": "IPY_MODEL_3213787638284edcbc7b714bfc12c4fc",
            "max": 2,
            "min": 0,
            "orientation": "horizontal",
            "style": "IPY_MODEL_2cd0a92e715044c4adfe63c61512dbc8",
            "value": 2
          }
        },
        "3468ed7cf3ae4e328f126c68ea9a8056": {
          "model_module": "@jupyter-widgets/controls",
          "model_name": "HTMLModel",
          "model_module_version": "1.5.0",
          "state": {
            "_dom_classes": [],
            "_model_module": "@jupyter-widgets/controls",
            "_model_module_version": "1.5.0",
            "_model_name": "HTMLModel",
            "_view_count": null,
            "_view_module": "@jupyter-widgets/controls",
            "_view_module_version": "1.5.0",
            "_view_name": "HTMLView",
            "description": "",
            "description_tooltip": null,
            "layout": "IPY_MODEL_53cb0ad321bd4aeea7ba82f887dddfb2",
            "placeholder": "​",
            "style": "IPY_MODEL_40c7eed7e52242cca9d921b711ec07d2",
            "value": " 2/2 [00:03&lt;00:00,  1.55s/it]"
          }
        },
        "ed200b1cb9a84a3fbeded98a10fe0ee7": {
          "model_module": "@jupyter-widgets/base",
          "model_name": "LayoutModel",
          "model_module_version": "1.2.0",
          "state": {
            "_model_module": "@jupyter-widgets/base",
            "_model_module_version": "1.2.0",
            "_model_name": "LayoutModel",
            "_view_count": null,
            "_view_module": "@jupyter-widgets/base",
            "_view_module_version": "1.2.0",
            "_view_name": "LayoutView",
            "align_content": null,
            "align_items": null,
            "align_self": null,
            "border": null,
            "bottom": null,
            "display": null,
            "flex": null,
            "flex_flow": null,
            "grid_area": null,
            "grid_auto_columns": null,
            "grid_auto_flow": null,
            "grid_auto_rows": null,
            "grid_column": null,
            "grid_gap": null,
            "grid_row": null,
            "grid_template_areas": null,
            "grid_template_columns": null,
            "grid_template_rows": null,
            "height": null,
            "justify_content": null,
            "justify_items": null,
            "left": null,
            "margin": null,
            "max_height": null,
            "max_width": null,
            "min_height": null,
            "min_width": null,
            "object_fit": null,
            "object_position": null,
            "order": null,
            "overflow": null,
            "overflow_x": null,
            "overflow_y": null,
            "padding": null,
            "right": null,
            "top": null,
            "visibility": null,
            "width": null
          }
        },
        "30576a3723db426ab3c427f6b8601f04": {
          "model_module": "@jupyter-widgets/base",
          "model_name": "LayoutModel",
          "model_module_version": "1.2.0",
          "state": {
            "_model_module": "@jupyter-widgets/base",
            "_model_module_version": "1.2.0",
            "_model_name": "LayoutModel",
            "_view_count": null,
            "_view_module": "@jupyter-widgets/base",
            "_view_module_version": "1.2.0",
            "_view_name": "LayoutView",
            "align_content": null,
            "align_items": null,
            "align_self": null,
            "border": null,
            "bottom": null,
            "display": null,
            "flex": null,
            "flex_flow": null,
            "grid_area": null,
            "grid_auto_columns": null,
            "grid_auto_flow": null,
            "grid_auto_rows": null,
            "grid_column": null,
            "grid_gap": null,
            "grid_row": null,
            "grid_template_areas": null,
            "grid_template_columns": null,
            "grid_template_rows": null,
            "height": null,
            "justify_content": null,
            "justify_items": null,
            "left": null,
            "margin": null,
            "max_height": null,
            "max_width": null,
            "min_height": null,
            "min_width": null,
            "object_fit": null,
            "object_position": null,
            "order": null,
            "overflow": null,
            "overflow_x": null,
            "overflow_y": null,
            "padding": null,
            "right": null,
            "top": null,
            "visibility": null,
            "width": null
          }
        },
        "00e009edca6e4db6bbec282da1fde350": {
          "model_module": "@jupyter-widgets/controls",
          "model_name": "DescriptionStyleModel",
          "model_module_version": "1.5.0",
          "state": {
            "_model_module": "@jupyter-widgets/controls",
            "_model_module_version": "1.5.0",
            "_model_name": "DescriptionStyleModel",
            "_view_count": null,
            "_view_module": "@jupyter-widgets/base",
            "_view_module_version": "1.2.0",
            "_view_name": "StyleView",
            "description_width": ""
          }
        },
        "3213787638284edcbc7b714bfc12c4fc": {
          "model_module": "@jupyter-widgets/base",
          "model_name": "LayoutModel",
          "model_module_version": "1.2.0",
          "state": {
            "_model_module": "@jupyter-widgets/base",
            "_model_module_version": "1.2.0",
            "_model_name": "LayoutModel",
            "_view_count": null,
            "_view_module": "@jupyter-widgets/base",
            "_view_module_version": "1.2.0",
            "_view_name": "LayoutView",
            "align_content": null,
            "align_items": null,
            "align_self": null,
            "border": null,
            "bottom": null,
            "display": null,
            "flex": null,
            "flex_flow": null,
            "grid_area": null,
            "grid_auto_columns": null,
            "grid_auto_flow": null,
            "grid_auto_rows": null,
            "grid_column": null,
            "grid_gap": null,
            "grid_row": null,
            "grid_template_areas": null,
            "grid_template_columns": null,
            "grid_template_rows": null,
            "height": null,
            "justify_content": null,
            "justify_items": null,
            "left": null,
            "margin": null,
            "max_height": null,
            "max_width": null,
            "min_height": null,
            "min_width": null,
            "object_fit": null,
            "object_position": null,
            "order": null,
            "overflow": null,
            "overflow_x": null,
            "overflow_y": null,
            "padding": null,
            "right": null,
            "top": null,
            "visibility": null,
            "width": null
          }
        },
        "2cd0a92e715044c4adfe63c61512dbc8": {
          "model_module": "@jupyter-widgets/controls",
          "model_name": "ProgressStyleModel",
          "model_module_version": "1.5.0",
          "state": {
            "_model_module": "@jupyter-widgets/controls",
            "_model_module_version": "1.5.0",
            "_model_name": "ProgressStyleModel",
            "_view_count": null,
            "_view_module": "@jupyter-widgets/base",
            "_view_module_version": "1.2.0",
            "_view_name": "StyleView",
            "bar_color": null,
            "description_width": ""
          }
        },
        "53cb0ad321bd4aeea7ba82f887dddfb2": {
          "model_module": "@jupyter-widgets/base",
          "model_name": "LayoutModel",
          "model_module_version": "1.2.0",
          "state": {
            "_model_module": "@jupyter-widgets/base",
            "_model_module_version": "1.2.0",
            "_model_name": "LayoutModel",
            "_view_count": null,
            "_view_module": "@jupyter-widgets/base",
            "_view_module_version": "1.2.0",
            "_view_name": "LayoutView",
            "align_content": null,
            "align_items": null,
            "align_self": null,
            "border": null,
            "bottom": null,
            "display": null,
            "flex": null,
            "flex_flow": null,
            "grid_area": null,
            "grid_auto_columns": null,
            "grid_auto_flow": null,
            "grid_auto_rows": null,
            "grid_column": null,
            "grid_gap": null,
            "grid_row": null,
            "grid_template_areas": null,
            "grid_template_columns": null,
            "grid_template_rows": null,
            "height": null,
            "justify_content": null,
            "justify_items": null,
            "left": null,
            "margin": null,
            "max_height": null,
            "max_width": null,
            "min_height": null,
            "min_width": null,
            "object_fit": null,
            "object_position": null,
            "order": null,
            "overflow": null,
            "overflow_x": null,
            "overflow_y": null,
            "padding": null,
            "right": null,
            "top": null,
            "visibility": null,
            "width": null
          }
        },
        "40c7eed7e52242cca9d921b711ec07d2": {
          "model_module": "@jupyter-widgets/controls",
          "model_name": "DescriptionStyleModel",
          "model_module_version": "1.5.0",
          "state": {
            "_model_module": "@jupyter-widgets/controls",
            "_model_module_version": "1.5.0",
            "_model_name": "DescriptionStyleModel",
            "_view_count": null,
            "_view_module": "@jupyter-widgets/base",
            "_view_module_version": "1.2.0",
            "_view_name": "StyleView",
            "description_width": ""
          }
        }
      }
    }
  },
  "cells": [
    {
      "cell_type": "markdown",
      "metadata": {
        "id": "view-in-github",
        "colab_type": "text"
      },
      "source": [
        "<a href=\"https://colab.research.google.com/github/DJCordhose/practical-llm/blob/main/Phi-3.5-vision_L4.ipynb\" target=\"_parent\"><img src=\"https://colab.research.google.com/assets/colab-badge.svg\" alt=\"Open In Colab\"/></a>"
      ]
    },
    {
      "cell_type": "markdown",
      "source": [
        "# Maßblatt auf Phi-3.5-vision\n",
        "\n",
        "* https://www.medi.de/fachhandel/wissen/produktwissen/phlebologie-lymphologie/vorlagen-vermessung/\n",
        "* https://huggingface.co/microsoft/Phi-3.5-vision-instruct\n",
        "* https://techcommunity.microsoft.com/t5/ai-azure-ai-services-blog/discover-the-new-multi-lingual-high-quality-phi-3-5-slms/ba-p/4225280\n"
      ],
      "metadata": {
        "id": "iR6_IfMp4Pvv"
      }
    },
    {
      "cell_type": "code",
      "source": [
        "%%time\n",
        "\n",
        "!pip install --upgrade -q transformers accelerate flash_attn torch bitsandbytes"
      ],
      "metadata": {
        "id": "g2EJQSHYFIjq",
        "outputId": "0b264dcf-2d6a-438a-e28f-f0c819054c0c",
        "colab": {
          "base_uri": "https://localhost:8080/"
        }
      },
      "execution_count": 1,
      "outputs": [
        {
          "output_type": "stream",
          "name": "stdout",
          "text": [
            "\u001b[2K     \u001b[90m━━━━━━━━━━━━━━━━━━━━━━━━━━━━━━━━━━━━━━━━\u001b[0m \u001b[32m43.7/43.7 kB\u001b[0m \u001b[31m2.6 MB/s\u001b[0m eta \u001b[36m0:00:00\u001b[0m\n",
            "\u001b[2K     \u001b[90m━━━━━━━━━━━━━━━━━━━━━━━━━━━━━━━━━━━━━━━━\u001b[0m \u001b[32m2.6/2.6 MB\u001b[0m \u001b[31m69.1 MB/s\u001b[0m eta \u001b[36m0:00:00\u001b[0m\n",
            "\u001b[?25h  Preparing metadata (setup.py) ... \u001b[?25l\u001b[?25hdone\n",
            "\u001b[2K   \u001b[90m━━━━━━━━━━━━━━━━━━━━━━━━━━━━━━━━━━━━━━━━\u001b[0m \u001b[32m9.5/9.5 MB\u001b[0m \u001b[31m112.0 MB/s\u001b[0m eta \u001b[36m0:00:00\u001b[0m\n",
            "\u001b[2K   \u001b[90m━━━━━━━━━━━━━━━━━━━━━━━━━━━━━━━━━━━━━━━━\u001b[0m \u001b[32m315.1/315.1 kB\u001b[0m \u001b[31m25.7 MB/s\u001b[0m eta \u001b[36m0:00:00\u001b[0m\n",
            "\u001b[2K   \u001b[90m━━━━━━━━━━━━━━━━━━━━━━━━━━━━━━━━━━━━━━━━\u001b[0m \u001b[32m797.2/797.2 MB\u001b[0m \u001b[31m1.8 MB/s\u001b[0m eta \u001b[36m0:00:00\u001b[0m\n",
            "\u001b[2K   \u001b[90m━━━━━━━━━━━━━━━━━━━━━━━━━━━━━━━━━━━━━━━━\u001b[0m \u001b[32m664.8/664.8 MB\u001b[0m \u001b[31m2.1 MB/s\u001b[0m eta \u001b[36m0:00:00\u001b[0m\n",
            "\u001b[2K   \u001b[90m━━━━━━━━━━━━━━━━━━━━━━━━━━━━━━━━━━━━━━━━\u001b[0m \u001b[32m209.4/209.4 MB\u001b[0m \u001b[31m8.3 MB/s\u001b[0m eta \u001b[36m0:00:00\u001b[0m\n",
            "\u001b[2K   \u001b[90m━━━━━━━━━━━━━━━━━━━━━━━━━━━━━━━━━━━━━━━━\u001b[0m \u001b[32m137.5/137.5 MB\u001b[0m \u001b[31m5.7 MB/s\u001b[0m eta \u001b[36m0:00:00\u001b[0m\n",
            "\u001b[?25h  Building wheel for flash_attn (setup.py) ... \u001b[?25l\u001b[?25hdone\n",
            "\u001b[31mERROR: pip's dependency resolver does not currently take into account all the packages that are installed. This behaviour is the source of the following dependency conflicts.\n",
            "torchaudio 2.3.1+cu121 requires torch==2.3.1, but you have torch 2.4.0 which is incompatible.\n",
            "torchvision 0.18.1+cu121 requires torch==2.3.1, but you have torch 2.4.0 which is incompatible.\u001b[0m\u001b[31m\n",
            "\u001b[0mCPU times: user 729 ms, sys: 144 ms, total: 873 ms\n",
            "Wall time: 2min 19s\n"
          ]
        }
      ]
    },
    {
      "cell_type": "code",
      "source": [
        "!pip install Pillow torchvision Requests -q --upgrade"
      ],
      "metadata": {
        "id": "AizoEa3KSs3C",
        "outputId": "17eb9f60-5e33-45fd-e367-b2a18f16ac8d",
        "colab": {
          "base_uri": "https://localhost:8080/"
        }
      },
      "execution_count": 2,
      "outputs": [
        {
          "output_type": "stream",
          "name": "stdout",
          "text": [
            "\u001b[?25l   \u001b[90m━━━━━━━━━━━━━━━━━━━━━━━━━━━━━━━━━━━━━━━━\u001b[0m \u001b[32m0.0/4.5 MB\u001b[0m \u001b[31m?\u001b[0m eta \u001b[36m-:--:--\u001b[0m\r\u001b[2K   \u001b[91m━━━━━━━━━━━━━━━━━━━━━━━━━━━━━━━━━━━━━━━\u001b[0m\u001b[91m╸\u001b[0m \u001b[32m4.5/4.5 MB\u001b[0m \u001b[31m198.7 MB/s\u001b[0m eta \u001b[36m0:00:01\u001b[0m\r\u001b[2K   \u001b[90m━━━━━━━━━━━━━━━━━━━━━━━━━━━━━━━━━━━━━━━━\u001b[0m \u001b[32m4.5/4.5 MB\u001b[0m \u001b[31m99.4 MB/s\u001b[0m eta \u001b[36m0:00:00\u001b[0m\n",
            "\u001b[?25h\u001b[?25l   \u001b[90m━━━━━━━━━━━━━━━━━━━━━━━━━━━━━━━━━━━━━━━━\u001b[0m \u001b[32m0.0/7.0 MB\u001b[0m \u001b[31m?\u001b[0m eta \u001b[36m-:--:--\u001b[0m\r\u001b[2K   \u001b[91m━━━━━━━━━━━━━━━━━━━━━━━━━━━━━━━━━━━━━\u001b[0m\u001b[91m╸\u001b[0m\u001b[90m━━\u001b[0m \u001b[32m6.7/7.0 MB\u001b[0m \u001b[31m206.8 MB/s\u001b[0m eta \u001b[36m0:00:01\u001b[0m\r\u001b[2K   \u001b[91m━━━━━━━━━━━━━━━━━━━━━━━━━━━━━━━━━━━━━━━\u001b[0m\u001b[91m╸\u001b[0m \u001b[32m7.0/7.0 MB\u001b[0m \u001b[31m183.5 MB/s\u001b[0m eta \u001b[36m0:00:01\u001b[0m\r\u001b[2K   \u001b[90m━━━━━━━━━━━━━━━━━━━━━━━━━━━━━━━━━━━━━━━━\u001b[0m \u001b[32m7.0/7.0 MB\u001b[0m \u001b[31m99.9 MB/s\u001b[0m eta \u001b[36m0:00:00\u001b[0m\n",
            "\u001b[?25h"
          ]
        }
      ]
    },
    {
      "cell_type": "code",
      "source": [
        "import transformers\n",
        "transformers.__version__\n"
      ],
      "metadata": {
        "id": "xrP1Ao7OEy4A",
        "outputId": "50db7a14-27bc-4527-9f4b-0e43f1900a8e",
        "colab": {
          "base_uri": "https://localhost:8080/",
          "height": 35
        }
      },
      "execution_count": 3,
      "outputs": [
        {
          "output_type": "execute_result",
          "data": {
            "text/plain": [
              "'4.44.2'"
            ],
            "application/vnd.google.colaboratory.intrinsic+json": {
              "type": "string"
            }
          },
          "metadata": {},
          "execution_count": 3
        }
      ]
    },
    {
      "cell_type": "code",
      "source": [
        "import accelerate\n",
        "accelerate.__version__"
      ],
      "metadata": {
        "id": "xnzuv8xmBRH0",
        "outputId": "b3b8746d-35c9-40cd-d3a8-d5a929c326d3",
        "colab": {
          "base_uri": "https://localhost:8080/",
          "height": 35
        }
      },
      "execution_count": 4,
      "outputs": [
        {
          "output_type": "execute_result",
          "data": {
            "text/plain": [
              "'0.33.0'"
            ],
            "application/vnd.google.colaboratory.intrinsic+json": {
              "type": "string"
            }
          },
          "metadata": {},
          "execution_count": 4
        }
      ]
    },
    {
      "cell_type": "code",
      "source": [
        "import flash_attn\n",
        "flash_attn.__version__"
      ],
      "metadata": {
        "id": "-G77RjhtBzbt",
        "outputId": "dbbb9083-bf84-4704-eeab-d283b96d7cd5",
        "colab": {
          "base_uri": "https://localhost:8080/",
          "height": 35
        }
      },
      "execution_count": 5,
      "outputs": [
        {
          "output_type": "execute_result",
          "data": {
            "text/plain": [
              "'2.6.3'"
            ],
            "application/vnd.google.colaboratory.intrinsic+json": {
              "type": "string"
            }
          },
          "metadata": {},
          "execution_count": 5
        }
      ]
    },
    {
      "cell_type": "code",
      "source": [
        "import torch\n",
        "torch.__version__"
      ],
      "metadata": {
        "id": "8YEl4nW0B2zj",
        "outputId": "b4c7ff6c-5dbf-4507-b051-13fcd30d96cb",
        "colab": {
          "base_uri": "https://localhost:8080/",
          "height": 35
        }
      },
      "execution_count": 6,
      "outputs": [
        {
          "output_type": "execute_result",
          "data": {
            "text/plain": [
              "'2.4.0+cu121'"
            ],
            "application/vnd.google.colaboratory.intrinsic+json": {
              "type": "string"
            }
          },
          "metadata": {},
          "execution_count": 6
        }
      ]
    },
    {
      "cell_type": "code",
      "source": [
        "import bitsandbytes\n",
        "bitsandbytes.__version__"
      ],
      "metadata": {
        "id": "fjFGIXZ0B6S3",
        "outputId": "c31afbe8-b18c-4069-c454-267b2a9df3aa",
        "colab": {
          "base_uri": "https://localhost:8080/",
          "height": 35
        }
      },
      "execution_count": 7,
      "outputs": [
        {
          "output_type": "execute_result",
          "data": {
            "text/plain": [
              "'0.43.3'"
            ],
            "application/vnd.google.colaboratory.intrinsic+json": {
              "type": "string"
            }
          },
          "metadata": {},
          "execution_count": 7
        }
      ]
    },
    {
      "cell_type": "code",
      "source": [
        "import warnings\n",
        "warnings.filterwarnings(\"ignore\")"
      ],
      "metadata": {
        "id": "y-SYiDVt4Oxd"
      },
      "execution_count": 8,
      "outputs": []
    },
    {
      "cell_type": "code",
      "source": [
        "from IPython.display import Markdown"
      ],
      "metadata": {
        "id": "pBA0hHok7bmG"
      },
      "execution_count": 9,
      "outputs": []
    },
    {
      "cell_type": "code",
      "source": [
        "!nvidia-smi"
      ],
      "metadata": {
        "colab": {
          "base_uri": "https://localhost:8080/"
        },
        "id": "9pEQyik-rrhL",
        "outputId": "df26c213-7a9c-4e0d-cc08-a59bcdd2b472"
      },
      "execution_count": 13,
      "outputs": [
        {
          "output_type": "stream",
          "name": "stdout",
          "text": [
            "Fri Aug 23 08:15:18 2024       \n",
            "+---------------------------------------------------------------------------------------+\n",
            "| NVIDIA-SMI 535.104.05             Driver Version: 535.104.05   CUDA Version: 12.2     |\n",
            "|-----------------------------------------+----------------------+----------------------+\n",
            "| GPU  Name                 Persistence-M | Bus-Id        Disp.A | Volatile Uncorr. ECC |\n",
            "| Fan  Temp   Perf          Pwr:Usage/Cap |         Memory-Usage | GPU-Util  Compute M. |\n",
            "|                                         |                      |               MIG M. |\n",
            "|=========================================+======================+======================|\n",
            "|   0  NVIDIA L4                      Off | 00000000:00:03.0 Off |                    0 |\n",
            "| N/A   45C    P8              16W /  72W |      4MiB / 23034MiB |      0%      Default |\n",
            "|                                         |                      |                  N/A |\n",
            "+-----------------------------------------+----------------------+----------------------+\n",
            "                                                                                         \n",
            "+---------------------------------------------------------------------------------------+\n",
            "| Processes:                                                                            |\n",
            "|  GPU   GI   CI        PID   Type   Process name                            GPU Memory |\n",
            "|        ID   ID                                                             Usage      |\n",
            "|=======================================================================================|\n",
            "|  No running processes found                                                           |\n",
            "+---------------------------------------------------------------------------------------+\n"
          ]
        }
      ]
    },
    {
      "cell_type": "code",
      "source": [
        "from PIL import Image\n",
        "import requests\n",
        "from transformers import AutoModelForCausalLM\n",
        "from transformers import AutoProcessor\n",
        "\n",
        "model_id = \"microsoft/Phi-3.5-vision-instruct\"\n",
        "\n",
        "# Note: set _attn_implementation='eager' if you don't have flash_attn installed\n",
        "model = AutoModelForCausalLM.from_pretrained(\n",
        "  model_id,\n",
        "  device_map=\"cuda\",\n",
        "  trust_remote_code=True,\n",
        "  torch_dtype=\"auto\",\n",
        "  _attn_implementation='flash_attention_2'\n",
        ")\n",
        "\n",
        "# for best performance, use num_crops=4 for multi-frame, num_crops=16 for single-frame.\n",
        "processor = AutoProcessor.from_pretrained(model_id,\n",
        "  trust_remote_code=True,\n",
        "  num_crops=16\n",
        ")"
      ],
      "metadata": {
        "id": "JPk25GxwTeT7",
        "outputId": "752b9b09-950b-47fe-b0fa-c742a78d4dea",
        "colab": {
          "base_uri": "https://localhost:8080/",
          "height": 49,
          "referenced_widgets": [
            "054fde34d55641f1a826ed02256eee25",
            "09f2f4e04fb64a528176265f6a4f2d5c",
            "7ff1adc9ddc74f0ea7857dc674a5fc3b",
            "3468ed7cf3ae4e328f126c68ea9a8056",
            "ed200b1cb9a84a3fbeded98a10fe0ee7",
            "30576a3723db426ab3c427f6b8601f04",
            "00e009edca6e4db6bbec282da1fde350",
            "3213787638284edcbc7b714bfc12c4fc",
            "2cd0a92e715044c4adfe63c61512dbc8",
            "53cb0ad321bd4aeea7ba82f887dddfb2",
            "40c7eed7e52242cca9d921b711ec07d2"
          ]
        }
      },
      "execution_count": 29,
      "outputs": [
        {
          "output_type": "display_data",
          "data": {
            "text/plain": [
              "Loading checkpoint shards:   0%|          | 0/2 [00:00<?, ?it/s]"
            ],
            "application/vnd.jupyter.widget-view+json": {
              "version_major": 2,
              "version_minor": 0,
              "model_id": "054fde34d55641f1a826ed02256eee25"
            }
          },
          "metadata": {}
        }
      ]
    },
    {
      "cell_type": "code",
      "source": [
        "ocr = '''\n",
        "60 cG 66\n",
        "49 CF 57\n",
        "42 cE stehend 46\n",
        "41 CE 44\n",
        "36,5 CD 38\n",
        "35 37 cC 42\n",
        "29 CB1 33\n",
        "21 CB 24\n",
        "34 CY\n",
        "23,5 cA 24,5\n",
        "'''"
      ],
      "metadata": {
        "id": "WFNLsfkzd68w"
      },
      "execution_count": 61,
      "outputs": []
    },
    {
      "cell_type": "code",
      "source": [
        "# image = Image.open(\"/content/Anmerkung 2024-08-23 102153.png\")\n",
        "# image = Image.open(\"/content/Anmerkung 2024-08-23 103947.png\")\n",
        "image = Image.open(\"/content/Umfangmaße_rechts.png\")"
      ],
      "metadata": {
        "id": "w6tvze-dVPu6"
      },
      "execution_count": 42,
      "outputs": []
    },
    {
      "cell_type": "code",
      "source": [
        "images = [image]\n",
        "# mass = \"cE\"\n",
        "mass = \"cY\"\n",
        "# zug_haut = \"Zugmaß\"\n",
        "zug_haut = \"Hautmaß\"\n",
        "messages = [\n",
        "#     {\"role\": \"system\", \"content\": '''\n",
        "# Es geht um ein Maßblatt für Kompressionsstrümpfe.\n",
        "# In diesem Blatt stehen unterschiedliche Maße mit durchgezogenen Linien getrennt.\n",
        "# Oben steht welche Spalte das Zugmaß und welche Spalte das Hautmaß sind.\n",
        "# Suche ein Maß aus dem Blatt heraus. Gib nur dieses Maß und eine Erklärung wo das Maß auf dem Blatt ist zurück.\n",
        "# '''},\n",
        "    # {\"role\": \"user\", \"content\": \"<|image_1|>\\n. Was ist das Hautmaß für cT? Wo findest du den Wert auf dem Maßblatt?\"},\n",
        "    # {\"role\": \"user\", \"content\": \"<|image_1|>\\n. Was ist das Zugmaß für cE für das rechte Bein? Wo findest du den Wert auf dem Maßblatt?\"},\n",
        "    {\"role\": \"user\", \"content\":\n",
        "# '''\n",
        "# <|image_1|>\n",
        "# Was ist das Zugmaß für cG?\n",
        "# '''\n",
        "# '''\n",
        "# <|image_1|>\n",
        "# Was ist das Hautmaß für cE (nicht stehend)?\n",
        "# '''\n",
        "# '''\n",
        "# <|image_1|>\n",
        "# Was ist das Zugmaß für cE (nicht stehend)?\n",
        "# '''\n",
        "# '''\n",
        "# <|image_1|>\n",
        "# Lies alle Maße aus dem Maßblatt aus und gib sie als ein JSON mit Name/Wert zurück.\n",
        "# Der Name für ein Maß steht zwischen den beiden Werten für Zugmaß und Hautmaß.\n",
        "# '''\n",
        "f'''\n",
        "Es geht um ein Maßblatt für Kompressionsstrümpfe.\n",
        "In diesem Blatt stehen unterschiedliche Maße mit durchgezogenen horizontalen Linien getrennt.\n",
        "Der Name für ein Maß steht zwischen den beiden Werten für Zugmaß und Hautmaß.\n",
        "Das Zugmaß steht links, das Hautmaß rechts vom Namen.\n",
        "\n",
        "Suche ein Maß aus dem Blatt heraus. Gib dieses Maß und wo das Maß auf dem Blatt ist.\n",
        "Wenn es innerhalb horizontalen Linien mehr als einen Wert gibt, liefere alle Werte zurück.\n",
        "\n",
        "<|image_1|>\n",
        "Was ist das {zug_haut} für {mass}?\n",
        "\n",
        "Zur Ergänzung hier der OCRte Text aus dem Maßblatt:\n",
        "{ocr}\n",
        "'''\n",
        "\n",
        "},\n",
        "]\n",
        "\n",
        "prompt = processor.tokenizer.apply_chat_template(\n",
        "  messages,\n",
        "  tokenize=False,\n",
        "  add_generation_prompt=True\n",
        ")\n",
        "\n",
        "inputs = processor(prompt, images, return_tensors=\"pt\").to(\"cuda:0\")\n",
        "\n",
        "\n",
        "generation_args = {\n",
        "    \"max_new_tokens\": 1000,\n",
        "    \"temperature\": 0.0,\n",
        "    \"do_sample\": False,\n",
        "}\n",
        "\n",
        "generate_ids = model.generate(**inputs,\n",
        "  eos_token_id=processor.tokenizer.eos_token_id,\n",
        "  **generation_args\n",
        ")\n",
        "\n",
        "# remove input tokens\n",
        "generate_ids = generate_ids[:, inputs['input_ids'].shape[1]:]\n",
        "response = processor.batch_decode(generate_ids,\n",
        "  skip_special_tokens=True,\n",
        "  clean_up_tokenization_spaces=False)[0]\n",
        "\n",
        "print(response)"
      ],
      "metadata": {
        "id": "AyDS8KadVttp",
        "outputId": "a7ac54ee-2e0b-4ea9-92a5-b6433f768c8d",
        "colab": {
          "base_uri": "https://localhost:8080/"
        }
      },
      "execution_count": 69,
      "outputs": [
        {
          "output_type": "stream",
          "name": "stdout",
          "text": [
            "Das Hautmaß für cY ist 34.\n"
          ]
        }
      ]
    },
    {
      "cell_type": "code",
      "source": [
        "messages = [\n",
        "    {\"role\": \"system\", \"content\": \"Es geht um ein Maßblatt für Kompressionsstrümpfe. Suche ein Maß aus dem Blatt heraus. Gib nur dieses Maß und eine Erklärung wo das Maß auf dem Blatt ist zurück.\"},\n",
        "    # {\"role\": \"user\", \"content\": \"<|image_1|>\\n. Was ist das Hautmaß für cT? Wo findest du den Wert auf dem Maßblatt?\"},\n",
        "    # {\"role\": \"user\", \"content\": \"<|image_1|>\\n. Was ist das Zugmaß für cE für das rechte Bein? Wo findest du den Wert auf dem Maßblatt?\"},\n",
        "    {\"role\": \"user\", \"content\": \"<|image_1|>\\n. Was ist das Zugmaß für cG für das rechte Bein?\"},\n",
        "    {\"role\": \"assistant\", \"content\": response},\n",
        "    {\"role\": \"user\", \"content\": \"Du gibst das Hautmaß zurück, wir wollten aber das Zugmaß. Wieso ist das so?\"}\n",
        "]\n",
        "\n",
        "prompt = processor.tokenizer.apply_chat_template(\n",
        "  messages,\n",
        "  tokenize=False,\n",
        "  add_generation_prompt=True\n",
        ")\n",
        "\n",
        "inputs = processor(prompt, images, return_tensors=\"pt\").to(\"cuda:0\")\n",
        "\n",
        "\n",
        "generation_args = {\n",
        "    \"max_new_tokens\": 1000,\n",
        "    \"temperature\": 0.0,\n",
        "    \"do_sample\": False,\n",
        "}\n",
        "\n",
        "generate_ids = model.generate(**inputs,\n",
        "  eos_token_id=processor.tokenizer.eos_token_id,\n",
        "  **generation_args\n",
        ")\n",
        "\n",
        "# remove input tokens\n",
        "generate_ids = generate_ids[:, inputs['input_ids'].shape[1]:]\n",
        "response = processor.batch_decode(generate_ids,\n",
        "  skip_special_tokens=True,\n",
        "  clean_up_tokenization_spaces=False)[0]\n",
        "\n",
        "print(response)\n",
        "\n"
      ],
      "metadata": {
        "id": "53-4M7fMZ-BQ",
        "outputId": "a238df97-44ee-443d-9f9a-9ee7712336a7",
        "colab": {
          "base_uri": "https://localhost:8080/"
        }
      },
      "execution_count": 40,
      "outputs": [
        {
          "output_type": "stream",
          "name": "stdout",
          "text": [
            "Es scheint ein Fehler in der Anfrage zu sein. Das Hautmaß ist nicht dasselbe wie das Zugmaß. Das Hautmaß ist ein Maß für die Dicke der Haut, während das Zugmaß ein Maß für die Länge der Beinmuskulatur ist.\n"
          ]
        }
      ]
    },
    {
      "cell_type": "code",
      "source": [
        "!nvidia-smi"
      ],
      "metadata": {
        "id": "U0Gr1I7qT50q",
        "outputId": "c0caff4c-530a-4a38-cd15-ec8fb47590f1",
        "colab": {
          "base_uri": "https://localhost:8080/"
        }
      },
      "execution_count": 70,
      "outputs": [
        {
          "output_type": "stream",
          "name": "stdout",
          "text": [
            "Fri Aug 23 09:31:06 2024       \n",
            "+---------------------------------------------------------------------------------------+\n",
            "| NVIDIA-SMI 535.104.05             Driver Version: 535.104.05   CUDA Version: 12.2     |\n",
            "|-----------------------------------------+----------------------+----------------------+\n",
            "| GPU  Name                 Persistence-M | Bus-Id        Disp.A | Volatile Uncorr. ECC |\n",
            "| Fan  Temp   Perf          Pwr:Usage/Cap |         Memory-Usage | GPU-Util  Compute M. |\n",
            "|                                         |                      |               MIG M. |\n",
            "|=========================================+======================+======================|\n",
            "|   0  NVIDIA L4                      Off | 00000000:00:03.0 Off |                    0 |\n",
            "| N/A   71C    P0              32W /  72W |  17281MiB / 23034MiB |      0%      Default |\n",
            "|                                         |                      |                  N/A |\n",
            "+-----------------------------------------+----------------------+----------------------+\n",
            "                                                                                         \n",
            "+---------------------------------------------------------------------------------------+\n",
            "| Processes:                                                                            |\n",
            "|  GPU   GI   CI        PID   Type   Process name                            GPU Memory |\n",
            "|        ID   ID                                                             Usage      |\n",
            "|=======================================================================================|\n",
            "+---------------------------------------------------------------------------------------+\n"
          ]
        }
      ]
    }
  ]
}