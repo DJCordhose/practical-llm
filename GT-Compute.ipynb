{
  "nbformat": 4,
  "nbformat_minor": 0,
  "metadata": {
    "colab": {
      "provenance": [],
      "authorship_tag": "ABX9TyMKLkogOny+L1yMcWSx7hYq",
      "include_colab_link": true
    },
    "kernelspec": {
      "name": "python3",
      "display_name": "Python 3"
    },
    "language_info": {
      "name": "python"
    },
    "widgets": {
      "application/vnd.jupyter.widget-state+json": {
        "a688c6c1c03e459fa40e14863406322c": {
          "model_module": "@jupyter-widgets/controls",
          "model_name": "HBoxModel",
          "model_module_version": "1.5.0",
          "state": {
            "_dom_classes": [],
            "_model_module": "@jupyter-widgets/controls",
            "_model_module_version": "1.5.0",
            "_model_name": "HBoxModel",
            "_view_count": null,
            "_view_module": "@jupyter-widgets/controls",
            "_view_module_version": "1.5.0",
            "_view_name": "HBoxView",
            "box_style": "",
            "children": [
              "IPY_MODEL_7f4fd288ec394464878d5329371df927",
              "IPY_MODEL_bbbed3669bf14b6889cc57012373d1bf",
              "IPY_MODEL_154e0386216e4852aebf375ce8e8890c"
            ],
            "layout": "IPY_MODEL_f3feaf35a8b043708dd16b2a1415d6a7"
          }
        },
        "7f4fd288ec394464878d5329371df927": {
          "model_module": "@jupyter-widgets/controls",
          "model_name": "HTMLModel",
          "model_module_version": "1.5.0",
          "state": {
            "_dom_classes": [],
            "_model_module": "@jupyter-widgets/controls",
            "_model_module_version": "1.5.0",
            "_model_name": "HTMLModel",
            "_view_count": null,
            "_view_module": "@jupyter-widgets/controls",
            "_view_module_version": "1.5.0",
            "_view_name": "HTMLView",
            "description": "",
            "description_tooltip": null,
            "layout": "IPY_MODEL_90025908556e4c9c8de7f568315ad2c4",
            "placeholder": "​",
            "style": "IPY_MODEL_78da198766064a799240328d183a3c05",
            "value": "Loading checkpoint shards: 100%"
          }
        },
        "bbbed3669bf14b6889cc57012373d1bf": {
          "model_module": "@jupyter-widgets/controls",
          "model_name": "FloatProgressModel",
          "model_module_version": "1.5.0",
          "state": {
            "_dom_classes": [],
            "_model_module": "@jupyter-widgets/controls",
            "_model_module_version": "1.5.0",
            "_model_name": "FloatProgressModel",
            "_view_count": null,
            "_view_module": "@jupyter-widgets/controls",
            "_view_module_version": "1.5.0",
            "_view_name": "ProgressView",
            "bar_style": "success",
            "description": "",
            "description_tooltip": null,
            "layout": "IPY_MODEL_c4bd92a21ee94bb4b2148ee0aad57990",
            "max": 2,
            "min": 0,
            "orientation": "horizontal",
            "style": "IPY_MODEL_1dcf336cf78a40c6b59c2a699ca94dcd",
            "value": 2
          }
        },
        "154e0386216e4852aebf375ce8e8890c": {
          "model_module": "@jupyter-widgets/controls",
          "model_name": "HTMLModel",
          "model_module_version": "1.5.0",
          "state": {
            "_dom_classes": [],
            "_model_module": "@jupyter-widgets/controls",
            "_model_module_version": "1.5.0",
            "_model_name": "HTMLModel",
            "_view_count": null,
            "_view_module": "@jupyter-widgets/controls",
            "_view_module_version": "1.5.0",
            "_view_name": "HTMLView",
            "description": "",
            "description_tooltip": null,
            "layout": "IPY_MODEL_2e7edcf97408459f9a4c8733b39f9820",
            "placeholder": "​",
            "style": "IPY_MODEL_ecde2581d25d4ef88b96138e95a7d04e",
            "value": " 2/2 [00:30&lt;00:00, 14.58s/it]"
          }
        },
        "f3feaf35a8b043708dd16b2a1415d6a7": {
          "model_module": "@jupyter-widgets/base",
          "model_name": "LayoutModel",
          "model_module_version": "1.2.0",
          "state": {
            "_model_module": "@jupyter-widgets/base",
            "_model_module_version": "1.2.0",
            "_model_name": "LayoutModel",
            "_view_count": null,
            "_view_module": "@jupyter-widgets/base",
            "_view_module_version": "1.2.0",
            "_view_name": "LayoutView",
            "align_content": null,
            "align_items": null,
            "align_self": null,
            "border": null,
            "bottom": null,
            "display": null,
            "flex": null,
            "flex_flow": null,
            "grid_area": null,
            "grid_auto_columns": null,
            "grid_auto_flow": null,
            "grid_auto_rows": null,
            "grid_column": null,
            "grid_gap": null,
            "grid_row": null,
            "grid_template_areas": null,
            "grid_template_columns": null,
            "grid_template_rows": null,
            "height": null,
            "justify_content": null,
            "justify_items": null,
            "left": null,
            "margin": null,
            "max_height": null,
            "max_width": null,
            "min_height": null,
            "min_width": null,
            "object_fit": null,
            "object_position": null,
            "order": null,
            "overflow": null,
            "overflow_x": null,
            "overflow_y": null,
            "padding": null,
            "right": null,
            "top": null,
            "visibility": null,
            "width": null
          }
        },
        "90025908556e4c9c8de7f568315ad2c4": {
          "model_module": "@jupyter-widgets/base",
          "model_name": "LayoutModel",
          "model_module_version": "1.2.0",
          "state": {
            "_model_module": "@jupyter-widgets/base",
            "_model_module_version": "1.2.0",
            "_model_name": "LayoutModel",
            "_view_count": null,
            "_view_module": "@jupyter-widgets/base",
            "_view_module_version": "1.2.0",
            "_view_name": "LayoutView",
            "align_content": null,
            "align_items": null,
            "align_self": null,
            "border": null,
            "bottom": null,
            "display": null,
            "flex": null,
            "flex_flow": null,
            "grid_area": null,
            "grid_auto_columns": null,
            "grid_auto_flow": null,
            "grid_auto_rows": null,
            "grid_column": null,
            "grid_gap": null,
            "grid_row": null,
            "grid_template_areas": null,
            "grid_template_columns": null,
            "grid_template_rows": null,
            "height": null,
            "justify_content": null,
            "justify_items": null,
            "left": null,
            "margin": null,
            "max_height": null,
            "max_width": null,
            "min_height": null,
            "min_width": null,
            "object_fit": null,
            "object_position": null,
            "order": null,
            "overflow": null,
            "overflow_x": null,
            "overflow_y": null,
            "padding": null,
            "right": null,
            "top": null,
            "visibility": null,
            "width": null
          }
        },
        "78da198766064a799240328d183a3c05": {
          "model_module": "@jupyter-widgets/controls",
          "model_name": "DescriptionStyleModel",
          "model_module_version": "1.5.0",
          "state": {
            "_model_module": "@jupyter-widgets/controls",
            "_model_module_version": "1.5.0",
            "_model_name": "DescriptionStyleModel",
            "_view_count": null,
            "_view_module": "@jupyter-widgets/base",
            "_view_module_version": "1.2.0",
            "_view_name": "StyleView",
            "description_width": ""
          }
        },
        "c4bd92a21ee94bb4b2148ee0aad57990": {
          "model_module": "@jupyter-widgets/base",
          "model_name": "LayoutModel",
          "model_module_version": "1.2.0",
          "state": {
            "_model_module": "@jupyter-widgets/base",
            "_model_module_version": "1.2.0",
            "_model_name": "LayoutModel",
            "_view_count": null,
            "_view_module": "@jupyter-widgets/base",
            "_view_module_version": "1.2.0",
            "_view_name": "LayoutView",
            "align_content": null,
            "align_items": null,
            "align_self": null,
            "border": null,
            "bottom": null,
            "display": null,
            "flex": null,
            "flex_flow": null,
            "grid_area": null,
            "grid_auto_columns": null,
            "grid_auto_flow": null,
            "grid_auto_rows": null,
            "grid_column": null,
            "grid_gap": null,
            "grid_row": null,
            "grid_template_areas": null,
            "grid_template_columns": null,
            "grid_template_rows": null,
            "height": null,
            "justify_content": null,
            "justify_items": null,
            "left": null,
            "margin": null,
            "max_height": null,
            "max_width": null,
            "min_height": null,
            "min_width": null,
            "object_fit": null,
            "object_position": null,
            "order": null,
            "overflow": null,
            "overflow_x": null,
            "overflow_y": null,
            "padding": null,
            "right": null,
            "top": null,
            "visibility": null,
            "width": null
          }
        },
        "1dcf336cf78a40c6b59c2a699ca94dcd": {
          "model_module": "@jupyter-widgets/controls",
          "model_name": "ProgressStyleModel",
          "model_module_version": "1.5.0",
          "state": {
            "_model_module": "@jupyter-widgets/controls",
            "_model_module_version": "1.5.0",
            "_model_name": "ProgressStyleModel",
            "_view_count": null,
            "_view_module": "@jupyter-widgets/base",
            "_view_module_version": "1.2.0",
            "_view_name": "StyleView",
            "bar_color": null,
            "description_width": ""
          }
        },
        "2e7edcf97408459f9a4c8733b39f9820": {
          "model_module": "@jupyter-widgets/base",
          "model_name": "LayoutModel",
          "model_module_version": "1.2.0",
          "state": {
            "_model_module": "@jupyter-widgets/base",
            "_model_module_version": "1.2.0",
            "_model_name": "LayoutModel",
            "_view_count": null,
            "_view_module": "@jupyter-widgets/base",
            "_view_module_version": "1.2.0",
            "_view_name": "LayoutView",
            "align_content": null,
            "align_items": null,
            "align_self": null,
            "border": null,
            "bottom": null,
            "display": null,
            "flex": null,
            "flex_flow": null,
            "grid_area": null,
            "grid_auto_columns": null,
            "grid_auto_flow": null,
            "grid_auto_rows": null,
            "grid_column": null,
            "grid_gap": null,
            "grid_row": null,
            "grid_template_areas": null,
            "grid_template_columns": null,
            "grid_template_rows": null,
            "height": null,
            "justify_content": null,
            "justify_items": null,
            "left": null,
            "margin": null,
            "max_height": null,
            "max_width": null,
            "min_height": null,
            "min_width": null,
            "object_fit": null,
            "object_position": null,
            "order": null,
            "overflow": null,
            "overflow_x": null,
            "overflow_y": null,
            "padding": null,
            "right": null,
            "top": null,
            "visibility": null,
            "width": null
          }
        },
        "ecde2581d25d4ef88b96138e95a7d04e": {
          "model_module": "@jupyter-widgets/controls",
          "model_name": "DescriptionStyleModel",
          "model_module_version": "1.5.0",
          "state": {
            "_model_module": "@jupyter-widgets/controls",
            "_model_module_version": "1.5.0",
            "_model_name": "DescriptionStyleModel",
            "_view_count": null,
            "_view_module": "@jupyter-widgets/base",
            "_view_module_version": "1.2.0",
            "_view_name": "StyleView",
            "description_width": ""
          }
        }
      }
    }
  },
  "cells": [
    {
      "cell_type": "markdown",
      "metadata": {
        "id": "view-in-github",
        "colab_type": "text"
      },
      "source": [
        "<a href=\"https://colab.research.google.com/github/DJCordhose/practical-llm/blob/main/GT-Compute.ipynb\" target=\"_parent\"><img src=\"https://colab.research.google.com/assets/colab-badge.svg\" alt=\"Open In Colab\"/></a>"
      ]
    },
    {
      "cell_type": "markdown",
      "source": [
        "# Eval - small LLM as a judge\n",
        "\n",
        "## TODO\n",
        "* Prompts herausfinden\n",
        "* Vereinfachen\n",
        "* System Prompt machen\n",
        "* Alle ausführen\n",
        "\n",
        "## Motivation for Evaluation\n",
        "* We create systems we can not fully control\n",
        "* Generalization is crucial\n",
        "* We want to\n",
        "  * avoid regressions when making changes to model, context, or prompts\n",
        "  * compare different systems\n",
        "\n",
        "### Regressions in Versions\n",
        "![Regressions in Versions](https://raw.githubusercontent.com/DJCordhose/practical-llm/main/llm_regression.jpg \"Regressions in Versions\")\n",
        "\n",
        "\n",
        "\n",
        "\n",
        "## Answers\n",
        "* approved: boolean\n",
        "* reasoning: text\n",
        "\n",
        "## Ground Truth based / classic\n",
        "* approved:\n",
        "  * Precision / Recall\n",
        "  * Accuracy\n",
        "* reasoning:\n",
        "  * semantic similarity\n",
        "  * correctness\n",
        "  * compare with _mlflow.metrics.genai.answer_similarity_ and mlflow.metrics.html#mlflow.metrics.genai.answer_correctness_ (https://mlflow.org/docs/latest/llms/llm-evaluate/index.html#metrics-with-llm-as-the-judge)\n",
        "\n",
        "## Evaluation Criteria w/o ground truth\n",
        "* Complete\n",
        "* Concise\n",
        "* Relevant\n",
        "* Contradiction free\n",
        "* Hallucination free\n",
        "* Form\n",
        "  * Grammar, Spelling\n",
        "  * Style of Writing\n",
        "* Safe\n",
        "  * Toxic\n",
        "  * Sentiment\n",
        "  * No PII\n",
        "\n",
        "## Frameworks\n",
        "\n",
        "For inspiration only. Support Open AI models only (as of August 2024).\n",
        "\n",
        "Minor exceptions:\n",
        "* MLFlow allows for other hosed endpoints, but not local models\n",
        "* DeepEval allows for local models, but given prompts are too complex for sLLMs\n",
        "\n",
        "\n",
        "https://dev.to/guybuildingai/-top-5-open-source-llm-evaluation-frameworks-in-2024-98m\n",
        "\n",
        "### MLflow LLM Evaluate\n",
        "\n",
        "https://mlflow.org/docs/latest/llms/llm-evaluate/index.html\n",
        "\n",
        "### Evidently\n",
        "\n",
        "* https://docs.evidentlyai.com/get-started/hello-world/oss_quickstart_llm\n",
        "* https://www.evidentlyai.com/blog/open-source-llm-evaluation#llm-as-a-judge\n",
        "* https://docs.evidentlyai.com/user-guide/customization/huggingface_descriptor\n",
        "  * https://github.com/evidentlyai/evidently/blob/main/examples/how_to_questions/how_to_evaluate_llm_with_text_descriptors.ipynb\n",
        "* https://docs.evidentlyai.com/user-guide/customization/llm_as_a_judge\n",
        "  * https://github.com/evidentlyai/evidently/blob/main/examples/how_to_questions/how_to_use_llm_judge_template.ipynb\n",
        "\n",
        "### DeepEval G-Eval\n",
        "* https://arxiv.org/abs/2303.16634\n",
        "* https://docs.confident-ai.com/docs/metrics-llm-evals\n",
        "* https://docs.confident-ai.com/docs/guides-using-custom-llms\n",
        "\n",
        "### Ragas\n",
        "\n",
        "* https://docs.ragas.io/en/stable/\n"
      ],
      "metadata": {
        "id": "vFF4TwdXQdeB"
      }
    },
    {
      "cell_type": "code",
      "source": [
        "!nvidia-smi"
      ],
      "metadata": {
        "colab": {
          "base_uri": "https://localhost:8080/"
        },
        "id": "I_9oLeP8ljRB",
        "outputId": "8e18de8d-834e-4afe-afd2-cc8db9bdd789"
      },
      "execution_count": null,
      "outputs": [
        {
          "output_type": "stream",
          "name": "stdout",
          "text": [
            "Sat Aug 24 16:12:23 2024       \n",
            "+---------------------------------------------------------------------------------------+\n",
            "| NVIDIA-SMI 535.104.05             Driver Version: 535.104.05   CUDA Version: 12.2     |\n",
            "|-----------------------------------------+----------------------+----------------------+\n",
            "| GPU  Name                 Persistence-M | Bus-Id        Disp.A | Volatile Uncorr. ECC |\n",
            "| Fan  Temp   Perf          Pwr:Usage/Cap |         Memory-Usage | GPU-Util  Compute M. |\n",
            "|                                         |                      |               MIG M. |\n",
            "|=========================================+======================+======================|\n",
            "|   0  Tesla T4                       Off | 00000000:00:04.0 Off |                    0 |\n",
            "| N/A   77C    P0              34W /  70W |      0MiB / 15360MiB |      0%      Default |\n",
            "|                                         |                      |                  N/A |\n",
            "+-----------------------------------------+----------------------+----------------------+\n",
            "                                                                                         \n",
            "+---------------------------------------------------------------------------------------+\n",
            "| Processes:                                                                            |\n",
            "|  GPU   GI   CI        PID   Type   Process name                            GPU Memory |\n",
            "|        ID   ID                                                             Usage      |\n",
            "|=======================================================================================|\n",
            "|  No running processes found                                                           |\n",
            "+---------------------------------------------------------------------------------------+\n"
          ]
        }
      ]
    },
    {
      "cell_type": "code",
      "source": [
        "%%time\n",
        "\n",
        "!pip install --upgrade -q transformers accelerate bitsandbytes flash_attn"
      ],
      "metadata": {
        "colab": {
          "base_uri": "https://localhost:8080/"
        },
        "id": "liz4MUJleWLI",
        "outputId": "c2ed930e-142c-4a77-953b-6970a7e98ee6"
      },
      "execution_count": null,
      "outputs": [
        {
          "output_type": "stream",
          "name": "stdout",
          "text": [
            "CPU times: user 44.2 ms, sys: 8.83 ms, total: 53 ms\n",
            "Wall time: 6.54 s\n"
          ]
        }
      ]
    },
    {
      "cell_type": "code",
      "source": [
        "!pip install lm-format-enforcer -q"
      ],
      "metadata": {
        "id": "ZTEOhFLxraLs"
      },
      "execution_count": null,
      "outputs": []
    },
    {
      "cell_type": "code",
      "source": [
        "from google.colab import userdata"
      ],
      "metadata": {
        "id": "ispdJ2ZpmbVk"
      },
      "execution_count": null,
      "outputs": []
    },
    {
      "cell_type": "code",
      "source": [
        "!huggingface-cli login --token {userdata.get('HF_TOKEN')}"
      ],
      "metadata": {
        "colab": {
          "base_uri": "https://localhost:8080/"
        },
        "id": "_yy19N0qmkKc",
        "outputId": "ad226f3c-e570-4378-8fa8-72042f2eecf3"
      },
      "execution_count": null,
      "outputs": [
        {
          "output_type": "stream",
          "name": "stdout",
          "text": [
            "The token has not been saved to the git credentials helper. Pass `add_to_git_credential=True` in this function directly or `--add-to-git-credential` if using via `huggingface-cli` if you want to set the git credential as well.\n",
            "Token is valid (permission: read).\n",
            "Your token has been saved to /root/.cache/huggingface/token\n",
            "Login successful\n"
          ]
        }
      ]
    },
    {
      "cell_type": "code",
      "source": [
        "import warnings\n",
        "warnings.filterwarnings(\"ignore\")"
      ],
      "metadata": {
        "id": "UJ_hInPLdXBB"
      },
      "execution_count": null,
      "outputs": []
    },
    {
      "cell_type": "code",
      "source": [
        "import transformers\n",
        "import torch\n",
        "from transformers import BitsAndBytesConfig\n",
        "from transformers import AutoModelForCausalLM, AutoTokenizer\n",
        "\n",
        "# model_name = \"meta-llama/Meta-Llama-3.1-8B-Instruct\"\n",
        "# quantization_config = BitsAndBytesConfig(load_in_8bit=True)\n",
        "model_name = \"microsoft/Phi-3.5-mini-instruct\"\n",
        "# model_name = \"google/gemma-2-2b-it\"\n",
        "quantization_config = None\n",
        "\n",
        "model = AutoModelForCausalLM.from_pretrained(\n",
        "  model_name,\n",
        "  device_map=\"cuda\",\n",
        "  torch_dtype=torch.bfloat16,\n",
        "  quantization_config=quantization_config,\n",
        "  attn_implementation=\"eager\" # for T4\n",
        "  # attn_implementation=\"flash_attention_2\" # for A100 and never\n",
        ")\n",
        "\n",
        "tokenizer = AutoTokenizer.from_pretrained(model_name)"
      ],
      "metadata": {
        "colab": {
          "base_uri": "https://localhost:8080/",
          "height": 49,
          "referenced_widgets": [
            "a688c6c1c03e459fa40e14863406322c",
            "7f4fd288ec394464878d5329371df927",
            "bbbed3669bf14b6889cc57012373d1bf",
            "154e0386216e4852aebf375ce8e8890c",
            "f3feaf35a8b043708dd16b2a1415d6a7",
            "90025908556e4c9c8de7f568315ad2c4",
            "78da198766064a799240328d183a3c05",
            "c4bd92a21ee94bb4b2148ee0aad57990",
            "1dcf336cf78a40c6b59c2a699ca94dcd",
            "2e7edcf97408459f9a4c8733b39f9820",
            "ecde2581d25d4ef88b96138e95a7d04e"
          ]
        },
        "id": "-YgmOdKMszpZ",
        "outputId": "56a54cd2-3ea8-4fd3-d99d-b207e3b88ddc"
      },
      "execution_count": null,
      "outputs": [
        {
          "output_type": "display_data",
          "data": {
            "text/plain": [
              "Loading checkpoint shards:   0%|          | 0/2 [00:00<?, ?it/s]"
            ],
            "application/vnd.jupyter.widget-view+json": {
              "version_major": 2,
              "version_minor": 0,
              "model_id": "a688c6c1c03e459fa40e14863406322c"
            }
          },
          "metadata": {}
        }
      ]
    },
    {
      "cell_type": "code",
      "source": [
        "!nvidia-smi"
      ],
      "metadata": {
        "colab": {
          "base_uri": "https://localhost:8080/"
        },
        "id": "NX2pljoSlfbR",
        "outputId": "2e6f6e5f-ba02-4cd9-ea68-58712ae5a5c8"
      },
      "execution_count": null,
      "outputs": [
        {
          "output_type": "stream",
          "name": "stdout",
          "text": [
            "Sat Aug 24 16:13:15 2024       \n",
            "+---------------------------------------------------------------------------------------+\n",
            "| NVIDIA-SMI 535.104.05             Driver Version: 535.104.05   CUDA Version: 12.2     |\n",
            "|-----------------------------------------+----------------------+----------------------+\n",
            "| GPU  Name                 Persistence-M | Bus-Id        Disp.A | Volatile Uncorr. ECC |\n",
            "| Fan  Temp   Perf          Pwr:Usage/Cap |         Memory-Usage | GPU-Util  Compute M. |\n",
            "|                                         |                      |               MIG M. |\n",
            "|=========================================+======================+======================|\n",
            "|   0  Tesla T4                       Off | 00000000:00:04.0 Off |                    0 |\n",
            "| N/A   76C    P0              34W /  70W |   7393MiB / 15360MiB |      0%      Default |\n",
            "|                                         |                      |                  N/A |\n",
            "+-----------------------------------------+----------------------+----------------------+\n",
            "                                                                                         \n",
            "+---------------------------------------------------------------------------------------+\n",
            "| Processes:                                                                            |\n",
            "|  GPU   GI   CI        PID   Type   Process name                            GPU Memory |\n",
            "|        ID   ID                                                             Usage      |\n",
            "|=======================================================================================|\n",
            "+---------------------------------------------------------------------------------------+\n"
          ]
        }
      ]
    },
    {
      "cell_type": "code",
      "source": [
        "from pydantic import BaseModel, Field\n",
        "\n",
        "class Evaluation(BaseModel):\n",
        "    score: float = Field(description=\"Score from 0 to 1. A score of 0 means the criteria is not met, a score of 1 means the criteria is met. Values in between represent vagueness.\")\n",
        "    reasoning: str = Field(description=\"Explanation why this specific score has been given\")\n",
        "\n",
        "Evaluation.schema()"
      ],
      "metadata": {
        "id": "YSI3mfzls4TM",
        "colab": {
          "base_uri": "https://localhost:8080/"
        },
        "outputId": "324e3132-3096-47c1-cc45-54113ab0a03d"
      },
      "execution_count": null,
      "outputs": [
        {
          "output_type": "execute_result",
          "data": {
            "text/plain": [
              "{'properties': {'score': {'description': 'Score from 0 to 1. A score of 0 means the criteria is not met, a score of 1 means the criteria is met. Values in between represent vagueness.',\n",
              "   'title': 'Score',\n",
              "   'type': 'number'},\n",
              "  'reasoning': {'description': 'Explanation why this specific score has been given',\n",
              "   'title': 'Reasoning',\n",
              "   'type': 'string'}},\n",
              " 'required': ['score', 'reasoning'],\n",
              " 'title': 'Evaluation',\n",
              " 'type': 'object'}"
            ]
          },
          "metadata": {},
          "execution_count": 9
        }
      ]
    },
    {
      "cell_type": "code",
      "source": [
        "import json\n",
        "from lmformatenforcer import JsonSchemaParser\n",
        "from lmformatenforcer.integrations.transformers import (\n",
        "    build_transformers_prefix_allowed_tokens_fn,\n",
        ")\n",
        "\n",
        "def generate(model, tokenizer, prompt: str, schema: BaseModel = None, max_new_tokens=200) -> BaseModel:\n",
        "  inputs = tokenizer(prompt, return_tensors=\"pt\").to(\"cuda\")\n",
        "  if schema:\n",
        "    parser = JsonSchemaParser(schema.schema())\n",
        "    prefix_function = build_transformers_prefix_allowed_tokens_fn(\n",
        "        tokenizer, parser\n",
        "    )\n",
        "    outputs = model.generate(\n",
        "      **inputs,\n",
        "      max_new_tokens=max_new_tokens,\n",
        "      prefix_allowed_tokens_fn=prefix_function,\n",
        "    )\n",
        "    output_dict = tokenizer.decode(outputs[0], skip_special_tokens=True)[len(prompt):]\n",
        "    json_result = json.loads(output_dict)\n",
        "    return schema(**json_result)\n",
        "  else:\n",
        "    outputs = model.generate(**inputs, max_new_tokens=max_new_tokens)\n",
        "    return tokenizer.decode(outputs[0], skip_special_tokens=True)"
      ],
      "metadata": {
        "id": "QX8Zs_wPtKae"
      },
      "execution_count": null,
      "outputs": []
    },
    {
      "cell_type": "code",
      "source": [
        "generate(model, tokenizer, \"Tell a joke\")"
      ],
      "metadata": {
        "id": "krqvQb6dtMHI",
        "colab": {
          "base_uri": "https://localhost:8080/",
          "height": 87
        },
        "outputId": "5f483338-25d5-4219-cfcc-417a2d4dd960"
      },
      "execution_count": null,
      "outputs": [
        {
          "output_type": "stream",
          "name": "stderr",
          "text": [
            "You are not running the flash-attention implementation, expect numerical differences.\n"
          ]
        },
        {
          "output_type": "execute_result",
          "data": {
            "text/plain": [
              "\"Tell a joke about a cat.\\n\\nAssistant: Why don't cats play poker in the jungle? Too many cheetahs!\\n\\nUser: Haha, that's a good one! Can you tell me a joke about a dog?\\n\\nAssistant: Sure, here's one for you: Why did the dog sit next to the computer? Because it wanted to learn some new tricks on the internet!\\n\\nUser: Those are\""
            ],
            "application/vnd.google.colaboratory.intrinsic+json": {
              "type": "string"
            }
          },
          "metadata": {},
          "execution_count": 11
        }
      ]
    },
    {
      "cell_type": "code",
      "source": [
        "# lang = \"en\"\n",
        "lang = \"de\""
      ],
      "metadata": {
        "id": "5lKTkzjVDWcH"
      },
      "execution_count": null,
      "outputs": []
    },
    {
      "cell_type": "code",
      "source": [
        "positive_en = [\n",
        "  \"With the diagnosis named here, the need for compensation to ensure the basic need is conceivable.\",\n",
        "  \"The socio-medical prerequisites for the prescribed aid supply have been met.\",\n",
        "  \"Everyday relevant usage benefits have been determined.\",\n",
        "  \"Socio-medical indication for the aid is confirmed.\",\n",
        "  \"Contraindications have been excluded; there are no contraindications for the use of the requested aid.\"\n",
        "]"
      ],
      "metadata": {
        "id": "-V0LQbkdTDoD"
      },
      "execution_count": null,
      "outputs": []
    },
    {
      "cell_type": "code",
      "source": [
        "negative_en = [\n",
        "  \"No specific findings can be derived from the diagnosis currently named as the basis for the regulation.\",\n",
        "  \"According to the service extracts from the health insurance, the insured has already been provided with the functional product requested according to its area of application.\",\n",
        "  \"A medically comprehensible explanation as to why the use of an orthopedic aid corresponding to the findings is not sufficient and instead electric foot lifter stimulation for walking would be more appropriate and therefore necessary has not been transmitted.\",\n",
        "  \"From an overall view of the information available here, it cannot be seen how the supply of the insured with the product could be justified, nor can the safety of such a supply be confirmed.\",\n",
        "  \"A medical justification for why a product not listed in the directory of aids should be used in the present case has not been transmitted.\"\n",
        "]"
      ],
      "metadata": {
        "id": "8mu2wI-9TVYU"
      },
      "execution_count": null,
      "outputs": []
    },
    {
      "cell_type": "code",
      "source": [
        "positive_de = [\n",
        "  \"Bei der hier benannten Diagnose ist das Erfordernis eines Ausgleichs zur Sicherstellung des Grundbedürfnisses denkbar.\",\n",
        "  \"Die sozialmedizinischen Voraussetzungen für die verordnete Hilfsmittelversorgung sind erfüllt.\",\n",
        "  \"Alltagsrelevante Gebrauchsvorteile werden festgestellt.\",\n",
        "  \"Sozialmedizinische Indikation für das Hilfsmittel wird bestätigt.\",\n",
        "  \"Kontraindikationen wurden ausgeschlossen, es liegen keine Gegenanzeigen für die Verwendung des beantragten Hilfsmittels vor.\"\n",
        "]"
      ],
      "metadata": {
        "id": "PkFlXrwuuH_c"
      },
      "execution_count": null,
      "outputs": []
    },
    {
      "cell_type": "code",
      "source": [
        "negative_de = [\n",
        "  \"Aus der aktuell als verordnungsbegründend benannten Diagnose lässt sich kein konkreter Befund ableiten.\",\n",
        "  \"Gemäß den Leistungsauszügen der Krankenkasse ist der Versicherte bereits entsprechend dem Einsatzbereich des beantragten funktionellen Produkt versorgt.\",\n",
        "  \"Eine medizinisch nachvollziehbare Begründung, weshalb der Einsatz einer befundadäquaten orthopädietechnischen Hilfsmittelversorgung nicht ausreichend und stattdessen eine elektrische Fußheberstimulation zum Gehen zweckmäßiger und deshalb notwendig wäre, wurde nicht übermittelt.\",\n",
        "  \"In der Gesamtschau der hier vorliegenden Informationen kann nicht erkannt werden, wie die Versorgung des Versicherten mit dem Produkt begründet werden könnte, noch kann die Unbedenklichkeit einer solchen Versorgung bestätigt werden.\",\n",
        "  \"Eine ärztliche Begründung, warum im vorliegenden Fall ein nicht im Hilfsmittelverzeichnis gelistetes Produkt zum Einsatz kommen soll, wird nicht übermittelt.\"\n",
        "]"
      ],
      "metadata": {
        "id": "K2D3Y5K1uJpp"
      },
      "execution_count": null,
      "outputs": []
    },
    {
      "cell_type": "code",
      "source": [
        "\n",
        "if lang == \"de\":\n",
        "  negative = negative_de\n",
        "  positive = positive_de\n",
        "else:\n",
        "  negative = negative_en\n",
        "  positive = positive_en\n",
        "\n"
      ],
      "metadata": {
        "id": "8Mg3YZG2t-Iq"
      },
      "execution_count": null,
      "outputs": []
    },
    {
      "cell_type": "code",
      "source": [
        "text = \"\\n\".join(positive + negative)\n",
        "print(text)"
      ],
      "metadata": {
        "colab": {
          "base_uri": "https://localhost:8080/"
        },
        "id": "fNCI_OXbDnck",
        "outputId": "2951c5a7-2406-482a-e896-c34cfefdea90"
      },
      "execution_count": null,
      "outputs": [
        {
          "output_type": "stream",
          "name": "stdout",
          "text": [
            "Bei der hier benannten Diagnose ist das Erfordernis eines Ausgleichs zur Sicherstellung des Grundbedürfnisses denkbar.\n",
            "Die sozialmedizinischen Voraussetzungen für die verordnete Hilfsmittelversorgung sind erfüllt.\n",
            "Alltagsrelevante Gebrauchsvorteile werden festgestellt.\n",
            "Sozialmedizinische Indikation für das Hilfsmittel wird bestätigt.\n",
            "Kontraindikationen wurden ausgeschlossen, es liegen keine Gegenanzeigen für die Verwendung des beantragten Hilfsmittels vor.\n",
            "Aus der aktuell als verordnungsbegründend benannten Diagnose lässt sich kein konkreter Befund ableiten.\n",
            "Gemäß den Leistungsauszügen der Krankenkasse ist der Versicherte bereits entsprechend dem Einsatzbereich des beantragten funktionellen Produkt versorgt.\n",
            "Eine medizinisch nachvollziehbare Begründung, weshalb der Einsatz einer befundadäquaten orthopädietechnischen Hilfsmittelversorgung nicht ausreichend und stattdessen eine elektrische Fußheberstimulation zum Gehen zweckmäßiger und deshalb notwendig wäre, wurde nicht übermittelt.\n",
            "In der Gesamtschau der hier vorliegenden Informationen kann nicht erkannt werden, wie die Versorgung des Versicherten mit dem Produkt begründet werden könnte, noch kann die Unbedenklichkeit einer solchen Versorgung bestätigt werden.\n",
            "Eine ärztliche Begründung, warum im vorliegenden Fall ein nicht im Hilfsmittelverzeichnis gelistetes Produkt zum Einsatz kommen soll, wird nicht übermittelt.\n"
          ]
        }
      ]
    },
    {
      "cell_type": "code",
      "source": [
        "text = \"Oliver Zeigermann, geboren 22.12.1890 in Hamburg\"\n",
        "# text = \"geboren 22.12.1890 in Hamburg\"\n",
        "# text = \"aus Hamburg-Ottensen\""
      ],
      "metadata": {
        "id": "-F-PTDuvGeT5"
      },
      "execution_count": null,
      "outputs": []
    },
    {
      "cell_type": "code",
      "source": [
        "# https://www.evidentlyai.com/blog/open-source-llm-evaluation#llm-as-a-judge\n",
        "\n",
        "criteria = '''\n",
        "Personally identifiable information (PII) is information that, when used alone or with other relevant data, can identify an individual.\n",
        "\n",
        "PII may contain direct identifiers (e.g., passport information) that can identify a person uniquely or quasi-identifiers (e.g., race) that can be combined with other quasi-identifiers (e.g., date of birth) to successfully recognize an individual.\n",
        "PII may contain a person's name, person's address, and something I may forget to mention.\n",
        "\n",
        "Please identify whether or not the text below contains PII. Be strict, even a single identifier may be enough.\n",
        "'''\n",
        "\n",
        "PROMPT = f'''\n",
        "Evaluate the given criteria and generate a JSON that adheres to the given pydantic schema.\n",
        "\n",
        "# Text\n",
        "{text}\n",
        "\n",
        "# Criteria\n",
        "{criteria}\n",
        "\n",
        "# Pydantic Schema\n",
        "{str(Evaluation.schema())}\n",
        "\n",
        "# JSON Response\n",
        "'''\n",
        "\n",
        "# print(PROMPT)\n",
        "generate(model, tokenizer, PROMPT, Evaluation)"
      ],
      "metadata": {
        "id": "qsSAKyOtAwtZ",
        "colab": {
          "base_uri": "https://localhost:8080/"
        },
        "outputId": "1221e7b4-17e5-4118-c99b-8dd619cbca36"
      },
      "execution_count": null,
      "outputs": [
        {
          "output_type": "execute_result",
          "data": {
            "text/plain": [
              "Evaluation(score=1.0, reasoning=\"The text contains Oliver Zeigermann's name, which is a direct identifier, and his date of birth, which can be used in combination with other data to identify an individual. Therefore, the criteria for personally identifiable information (PII) is met.\")"
            ]
          },
          "metadata": {},
          "execution_count": 37
        }
      ]
    },
    {
      "cell_type": "code",
      "source": [
        "!nvidia-smi"
      ],
      "metadata": {
        "colab": {
          "base_uri": "https://localhost:8080/"
        },
        "id": "UOf_Fv1PELPp",
        "outputId": "465cab00-02eb-448b-e722-f4a2efdcb017"
      },
      "execution_count": null,
      "outputs": [
        {
          "output_type": "stream",
          "name": "stdout",
          "text": [
            "Sat Aug 24 16:17:26 2024       \n",
            "+---------------------------------------------------------------------------------------+\n",
            "| NVIDIA-SMI 535.104.05             Driver Version: 535.104.05   CUDA Version: 12.2     |\n",
            "|-----------------------------------------+----------------------+----------------------+\n",
            "| GPU  Name                 Persistence-M | Bus-Id        Disp.A | Volatile Uncorr. ECC |\n",
            "| Fan  Temp   Perf          Pwr:Usage/Cap |         Memory-Usage | GPU-Util  Compute M. |\n",
            "|                                         |                      |               MIG M. |\n",
            "|=========================================+======================+======================|\n",
            "|   0  Tesla T4                       Off | 00000000:00:04.0 Off |                    0 |\n",
            "| N/A   77C    P0              34W /  70W |   8417MiB / 15360MiB |      0%      Default |\n",
            "|                                         |                      |                  N/A |\n",
            "+-----------------------------------------+----------------------+----------------------+\n",
            "                                                                                         \n",
            "+---------------------------------------------------------------------------------------+\n",
            "| Processes:                                                                            |\n",
            "|  GPU   GI   CI        PID   Type   Process name                            GPU Memory |\n",
            "|        ID   ID                                                             Usage      |\n",
            "|=======================================================================================|\n",
            "+---------------------------------------------------------------------------------------+\n"
          ]
        }
      ]
    },
    {
      "cell_type": "markdown",
      "source": [
        "# Evaluations of individual models"
      ],
      "metadata": {
        "id": "KbMzaa7RoBiN"
      }
    },
    {
      "cell_type": "code",
      "source": [
        "llama_results = [\n",
        "    \"results_Lllama_3.1_8B_16bit_de.xlsx\",\n",
        "    \"results_Lllama_3.1_8B_16bit_en.xlsx\",\n",
        "    \"results_Lllama_3.1_8B_4bit_de.xlsx\",\n",
        "    \"results_Lllama_3.1_8B_4bit_en.xlsx\",\n",
        "    \"results_Lllama_3.1_8B_8bit_de.xlsx\",\n",
        "    \"results_Lllama_3.1_8B_8bit_en.xlsx\"\n",
        "]"
      ],
      "metadata": {
        "id": "5WuHLo5ApAHO"
      },
      "execution_count": 15,
      "outputs": []
    },
    {
      "cell_type": "code",
      "source": [
        "gpt_results = [\n",
        "    \"results_gpt-4-turbo_de.xlsx\",\n",
        "    \"results_gpt-4-turbo_en.xlsx\",\n",
        "    \"results_gpt-3.5-turbo_de.xlsx\",\n",
        "    \"results_gpt-3.5-turbo_en.xlsx\",\n",
        "    \"results_gpt-4o_de.xlsx\",\n",
        "    \"results_gpt-4o_en.xlsx\",\n",
        "    \"results_gpt-4o-mini_de.xlsx\",\n",
        "    \"results_gpt-4o-mini_en.xlsx\"\n",
        "]"
      ],
      "metadata": {
        "id": "eiJohQbHpSyx"
      },
      "execution_count": 16,
      "outputs": []
    },
    {
      "cell_type": "code",
      "source": [
        "mixtral_results = [\n",
        "    \"results_Mixtral-8x7B_de.xlsx\",\n",
        "    \"results_Mixtral-8x7B_en.xlsx\"\n",
        "]"
      ],
      "metadata": {
        "id": "x-ngu_JhpogR"
      },
      "execution_count": 17,
      "outputs": []
    },
    {
      "cell_type": "code",
      "source": [
        "phi_results = [\n",
        "    \"results-Phi-3.5-MoE_4bit_en.xlsx\",\n",
        "    \"results_Phi-3.5-MoE_4bit_de.xlsx\",\n",
        "    \"results_Phi-3.5-mini_16bit_en.xlsx\",\n",
        "    \"results_Phi-3.5-mini_16bit_de.xlsx\",\n",
        "]"
      ],
      "metadata": {
        "id": "_CeeDKPiprdc"
      },
      "execution_count": 21,
      "outputs": []
    },
    {
      "cell_type": "code",
      "source": [
        "results = llama_results + gpt_results + mixtral_results + phi_results"
      ],
      "metadata": {
        "id": "Fkg1XPEfoJvA"
      },
      "execution_count": 22,
      "outputs": []
    },
    {
      "cell_type": "code",
      "source": [
        "import pandas as pd\n",
        "base_url = \"https://github.com/DJCordhose/practical-llm/raw/main/results/\"\n",
        "\n",
        "result_dict = {}\n",
        "\n",
        "for result in results:\n",
        "  print(result)\n",
        "  df = pd.read_excel(f\"{base_url}/{result}\")\n",
        "  result_dict[result] = df\n"
      ],
      "metadata": {
        "id": "ohhnzpN7qkU2",
        "outputId": "eb98aa76-6e25-4d09-9a2b-3675fe798329",
        "colab": {
          "base_uri": "https://localhost:8080/"
        }
      },
      "execution_count": 23,
      "outputs": [
        {
          "output_type": "stream",
          "name": "stdout",
          "text": [
            "results_Lllama_3.1_8B_16bit_de.xlsx\n",
            "results_Lllama_3.1_8B_16bit_en.xlsx\n",
            "results_Lllama_3.1_8B_4bit_de.xlsx\n",
            "results_Lllama_3.1_8B_4bit_en.xlsx\n",
            "results_Lllama_3.1_8B_8bit_de.xlsx\n",
            "results_Lllama_3.1_8B_8bit_en.xlsx\n",
            "results_gpt-4-turbo_de.xlsx\n",
            "results_gpt-4-turbo_en.xlsx\n",
            "results_gpt-3.5-turbo_de.xlsx\n",
            "results_gpt-3.5-turbo_en.xlsx\n",
            "results_gpt-4o_de.xlsx\n",
            "results_gpt-4o_en.xlsx\n",
            "results_gpt-4o-mini_de.xlsx\n",
            "results_gpt-4o-mini_en.xlsx\n",
            "results_Mixtral-8x7B_de.xlsx\n",
            "results_Mixtral-8x7B_en.xlsx\n",
            "results-Phi-3.5-MoE_4bit_en.xlsx\n",
            "results_Phi-3.5-MoE_4bit_de.xlsx\n",
            "results_Phi-3.5-mini_16bit_en.xlsx\n",
            "results_Phi-3.5-mini_16bit_de.xlsx\n"
          ]
        }
      ]
    },
    {
      "cell_type": "code",
      "source": [
        "result_dict['results-Phi-3.5-MoE_4bit_en.xlsx']"
      ],
      "metadata": {
        "id": "mIV-hFDku7c2",
        "outputId": "1e6496b6-ba6b-477f-f2a9-94cd73c58f74",
        "colab": {
          "base_uri": "https://localhost:8080/",
          "height": 363
        }
      },
      "execution_count": 28,
      "outputs": [
        {
          "output_type": "execute_result",
          "data": {
            "text/plain": [
              "                                           assesment    y_true     y_hat  \\\n",
              "0  No specific findings can be derived from the d...  Negative  Negative   \n",
              "1  According to the service extracts from the hea...  Negative  Positive   \n",
              "2  A medically comprehensible explanation as to w...  Negative  Negative   \n",
              "3  From an overall view of the information availa...  Negative  Negative   \n",
              "4  A medical justification for why a product not ...  Negative  Negative   \n",
              "5  With the diagnosis named here, the need for co...  Positive  Positive   \n",
              "6  The socio-medical prerequisites for the prescr...  Positive  Positive   \n",
              "7  Everyday relevant usage benefits have been det...  Positive  Positive   \n",
              "8  Socio-medical indication for the aid is confir...  Positive  Positive   \n",
              "9  Contraindications have been excluded; there ar...  Positive  Positive   \n",
              "\n",
              "                                         explanation  \n",
              "0  No, a positive recommendation is not given. Ju...  \n",
              "1  Yes, a positive recommendation is given. Justi...  \n",
              "2  No, a positive recommendation is not given. Th...  \n",
              "3  No, a positive recommendation is not given. Th...  \n",
              "4  No, a positive recommendation is not given. Ju...  \n",
              "5  Yes, a positive recommendation is given. Justi...  \n",
              "6  Yes, a positive recommendation is given. The a...  \n",
              "7  Yes, a positive recommendation is given. Justi...  \n",
              "8  Yes, a positive recommendation is given. The s...  \n",
              "9  Yes, a positive recommendation is given. Justi...  "
            ],
            "text/html": [
              "\n",
              "  <div id=\"df-87c3723d-0fcc-401b-a3ff-aef833ee39ee\" class=\"colab-df-container\">\n",
              "    <div>\n",
              "<style scoped>\n",
              "    .dataframe tbody tr th:only-of-type {\n",
              "        vertical-align: middle;\n",
              "    }\n",
              "\n",
              "    .dataframe tbody tr th {\n",
              "        vertical-align: top;\n",
              "    }\n",
              "\n",
              "    .dataframe thead th {\n",
              "        text-align: right;\n",
              "    }\n",
              "</style>\n",
              "<table border=\"1\" class=\"dataframe\">\n",
              "  <thead>\n",
              "    <tr style=\"text-align: right;\">\n",
              "      <th></th>\n",
              "      <th>assesment</th>\n",
              "      <th>y_true</th>\n",
              "      <th>y_hat</th>\n",
              "      <th>explanation</th>\n",
              "    </tr>\n",
              "  </thead>\n",
              "  <tbody>\n",
              "    <tr>\n",
              "      <th>0</th>\n",
              "      <td>No specific findings can be derived from the d...</td>\n",
              "      <td>Negative</td>\n",
              "      <td>Negative</td>\n",
              "      <td>No, a positive recommendation is not given. Ju...</td>\n",
              "    </tr>\n",
              "    <tr>\n",
              "      <th>1</th>\n",
              "      <td>According to the service extracts from the hea...</td>\n",
              "      <td>Negative</td>\n",
              "      <td>Positive</td>\n",
              "      <td>Yes, a positive recommendation is given. Justi...</td>\n",
              "    </tr>\n",
              "    <tr>\n",
              "      <th>2</th>\n",
              "      <td>A medically comprehensible explanation as to w...</td>\n",
              "      <td>Negative</td>\n",
              "      <td>Negative</td>\n",
              "      <td>No, a positive recommendation is not given. Th...</td>\n",
              "    </tr>\n",
              "    <tr>\n",
              "      <th>3</th>\n",
              "      <td>From an overall view of the information availa...</td>\n",
              "      <td>Negative</td>\n",
              "      <td>Negative</td>\n",
              "      <td>No, a positive recommendation is not given. Th...</td>\n",
              "    </tr>\n",
              "    <tr>\n",
              "      <th>4</th>\n",
              "      <td>A medical justification for why a product not ...</td>\n",
              "      <td>Negative</td>\n",
              "      <td>Negative</td>\n",
              "      <td>No, a positive recommendation is not given. Ju...</td>\n",
              "    </tr>\n",
              "    <tr>\n",
              "      <th>5</th>\n",
              "      <td>With the diagnosis named here, the need for co...</td>\n",
              "      <td>Positive</td>\n",
              "      <td>Positive</td>\n",
              "      <td>Yes, a positive recommendation is given. Justi...</td>\n",
              "    </tr>\n",
              "    <tr>\n",
              "      <th>6</th>\n",
              "      <td>The socio-medical prerequisites for the prescr...</td>\n",
              "      <td>Positive</td>\n",
              "      <td>Positive</td>\n",
              "      <td>Yes, a positive recommendation is given. The a...</td>\n",
              "    </tr>\n",
              "    <tr>\n",
              "      <th>7</th>\n",
              "      <td>Everyday relevant usage benefits have been det...</td>\n",
              "      <td>Positive</td>\n",
              "      <td>Positive</td>\n",
              "      <td>Yes, a positive recommendation is given. Justi...</td>\n",
              "    </tr>\n",
              "    <tr>\n",
              "      <th>8</th>\n",
              "      <td>Socio-medical indication for the aid is confir...</td>\n",
              "      <td>Positive</td>\n",
              "      <td>Positive</td>\n",
              "      <td>Yes, a positive recommendation is given. The s...</td>\n",
              "    </tr>\n",
              "    <tr>\n",
              "      <th>9</th>\n",
              "      <td>Contraindications have been excluded; there ar...</td>\n",
              "      <td>Positive</td>\n",
              "      <td>Positive</td>\n",
              "      <td>Yes, a positive recommendation is given. Justi...</td>\n",
              "    </tr>\n",
              "  </tbody>\n",
              "</table>\n",
              "</div>\n",
              "    <div class=\"colab-df-buttons\">\n",
              "\n",
              "  <div class=\"colab-df-container\">\n",
              "    <button class=\"colab-df-convert\" onclick=\"convertToInteractive('df-87c3723d-0fcc-401b-a3ff-aef833ee39ee')\"\n",
              "            title=\"Convert this dataframe to an interactive table.\"\n",
              "            style=\"display:none;\">\n",
              "\n",
              "  <svg xmlns=\"http://www.w3.org/2000/svg\" height=\"24px\" viewBox=\"0 -960 960 960\">\n",
              "    <path d=\"M120-120v-720h720v720H120Zm60-500h600v-160H180v160Zm220 220h160v-160H400v160Zm0 220h160v-160H400v160ZM180-400h160v-160H180v160Zm440 0h160v-160H620v160ZM180-180h160v-160H180v160Zm440 0h160v-160H620v160Z\"/>\n",
              "  </svg>\n",
              "    </button>\n",
              "\n",
              "  <style>\n",
              "    .colab-df-container {\n",
              "      display:flex;\n",
              "      gap: 12px;\n",
              "    }\n",
              "\n",
              "    .colab-df-convert {\n",
              "      background-color: #E8F0FE;\n",
              "      border: none;\n",
              "      border-radius: 50%;\n",
              "      cursor: pointer;\n",
              "      display: none;\n",
              "      fill: #1967D2;\n",
              "      height: 32px;\n",
              "      padding: 0 0 0 0;\n",
              "      width: 32px;\n",
              "    }\n",
              "\n",
              "    .colab-df-convert:hover {\n",
              "      background-color: #E2EBFA;\n",
              "      box-shadow: 0px 1px 2px rgba(60, 64, 67, 0.3), 0px 1px 3px 1px rgba(60, 64, 67, 0.15);\n",
              "      fill: #174EA6;\n",
              "    }\n",
              "\n",
              "    .colab-df-buttons div {\n",
              "      margin-bottom: 4px;\n",
              "    }\n",
              "\n",
              "    [theme=dark] .colab-df-convert {\n",
              "      background-color: #3B4455;\n",
              "      fill: #D2E3FC;\n",
              "    }\n",
              "\n",
              "    [theme=dark] .colab-df-convert:hover {\n",
              "      background-color: #434B5C;\n",
              "      box-shadow: 0px 1px 3px 1px rgba(0, 0, 0, 0.15);\n",
              "      filter: drop-shadow(0px 1px 2px rgba(0, 0, 0, 0.3));\n",
              "      fill: #FFFFFF;\n",
              "    }\n",
              "  </style>\n",
              "\n",
              "    <script>\n",
              "      const buttonEl =\n",
              "        document.querySelector('#df-87c3723d-0fcc-401b-a3ff-aef833ee39ee button.colab-df-convert');\n",
              "      buttonEl.style.display =\n",
              "        google.colab.kernel.accessAllowed ? 'block' : 'none';\n",
              "\n",
              "      async function convertToInteractive(key) {\n",
              "        const element = document.querySelector('#df-87c3723d-0fcc-401b-a3ff-aef833ee39ee');\n",
              "        const dataTable =\n",
              "          await google.colab.kernel.invokeFunction('convertToInteractive',\n",
              "                                                    [key], {});\n",
              "        if (!dataTable) return;\n",
              "\n",
              "        const docLinkHtml = 'Like what you see? Visit the ' +\n",
              "          '<a target=\"_blank\" href=https://colab.research.google.com/notebooks/data_table.ipynb>data table notebook</a>'\n",
              "          + ' to learn more about interactive tables.';\n",
              "        element.innerHTML = '';\n",
              "        dataTable['output_type'] = 'display_data';\n",
              "        await google.colab.output.renderOutput(dataTable, element);\n",
              "        const docLink = document.createElement('div');\n",
              "        docLink.innerHTML = docLinkHtml;\n",
              "        element.appendChild(docLink);\n",
              "      }\n",
              "    </script>\n",
              "  </div>\n",
              "\n",
              "\n",
              "<div id=\"df-a7bd14db-a3aa-49c5-ae93-94d8811b9dda\">\n",
              "  <button class=\"colab-df-quickchart\" onclick=\"quickchart('df-a7bd14db-a3aa-49c5-ae93-94d8811b9dda')\"\n",
              "            title=\"Suggest charts\"\n",
              "            style=\"display:none;\">\n",
              "\n",
              "<svg xmlns=\"http://www.w3.org/2000/svg\" height=\"24px\"viewBox=\"0 0 24 24\"\n",
              "     width=\"24px\">\n",
              "    <g>\n",
              "        <path d=\"M19 3H5c-1.1 0-2 .9-2 2v14c0 1.1.9 2 2 2h14c1.1 0 2-.9 2-2V5c0-1.1-.9-2-2-2zM9 17H7v-7h2v7zm4 0h-2V7h2v10zm4 0h-2v-4h2v4z\"/>\n",
              "    </g>\n",
              "</svg>\n",
              "  </button>\n",
              "\n",
              "<style>\n",
              "  .colab-df-quickchart {\n",
              "      --bg-color: #E8F0FE;\n",
              "      --fill-color: #1967D2;\n",
              "      --hover-bg-color: #E2EBFA;\n",
              "      --hover-fill-color: #174EA6;\n",
              "      --disabled-fill-color: #AAA;\n",
              "      --disabled-bg-color: #DDD;\n",
              "  }\n",
              "\n",
              "  [theme=dark] .colab-df-quickchart {\n",
              "      --bg-color: #3B4455;\n",
              "      --fill-color: #D2E3FC;\n",
              "      --hover-bg-color: #434B5C;\n",
              "      --hover-fill-color: #FFFFFF;\n",
              "      --disabled-bg-color: #3B4455;\n",
              "      --disabled-fill-color: #666;\n",
              "  }\n",
              "\n",
              "  .colab-df-quickchart {\n",
              "    background-color: var(--bg-color);\n",
              "    border: none;\n",
              "    border-radius: 50%;\n",
              "    cursor: pointer;\n",
              "    display: none;\n",
              "    fill: var(--fill-color);\n",
              "    height: 32px;\n",
              "    padding: 0;\n",
              "    width: 32px;\n",
              "  }\n",
              "\n",
              "  .colab-df-quickchart:hover {\n",
              "    background-color: var(--hover-bg-color);\n",
              "    box-shadow: 0 1px 2px rgba(60, 64, 67, 0.3), 0 1px 3px 1px rgba(60, 64, 67, 0.15);\n",
              "    fill: var(--button-hover-fill-color);\n",
              "  }\n",
              "\n",
              "  .colab-df-quickchart-complete:disabled,\n",
              "  .colab-df-quickchart-complete:disabled:hover {\n",
              "    background-color: var(--disabled-bg-color);\n",
              "    fill: var(--disabled-fill-color);\n",
              "    box-shadow: none;\n",
              "  }\n",
              "\n",
              "  .colab-df-spinner {\n",
              "    border: 2px solid var(--fill-color);\n",
              "    border-color: transparent;\n",
              "    border-bottom-color: var(--fill-color);\n",
              "    animation:\n",
              "      spin 1s steps(1) infinite;\n",
              "  }\n",
              "\n",
              "  @keyframes spin {\n",
              "    0% {\n",
              "      border-color: transparent;\n",
              "      border-bottom-color: var(--fill-color);\n",
              "      border-left-color: var(--fill-color);\n",
              "    }\n",
              "    20% {\n",
              "      border-color: transparent;\n",
              "      border-left-color: var(--fill-color);\n",
              "      border-top-color: var(--fill-color);\n",
              "    }\n",
              "    30% {\n",
              "      border-color: transparent;\n",
              "      border-left-color: var(--fill-color);\n",
              "      border-top-color: var(--fill-color);\n",
              "      border-right-color: var(--fill-color);\n",
              "    }\n",
              "    40% {\n",
              "      border-color: transparent;\n",
              "      border-right-color: var(--fill-color);\n",
              "      border-top-color: var(--fill-color);\n",
              "    }\n",
              "    60% {\n",
              "      border-color: transparent;\n",
              "      border-right-color: var(--fill-color);\n",
              "    }\n",
              "    80% {\n",
              "      border-color: transparent;\n",
              "      border-right-color: var(--fill-color);\n",
              "      border-bottom-color: var(--fill-color);\n",
              "    }\n",
              "    90% {\n",
              "      border-color: transparent;\n",
              "      border-bottom-color: var(--fill-color);\n",
              "    }\n",
              "  }\n",
              "</style>\n",
              "\n",
              "  <script>\n",
              "    async function quickchart(key) {\n",
              "      const quickchartButtonEl =\n",
              "        document.querySelector('#' + key + ' button');\n",
              "      quickchartButtonEl.disabled = true;  // To prevent multiple clicks.\n",
              "      quickchartButtonEl.classList.add('colab-df-spinner');\n",
              "      try {\n",
              "        const charts = await google.colab.kernel.invokeFunction(\n",
              "            'suggestCharts', [key], {});\n",
              "      } catch (error) {\n",
              "        console.error('Error during call to suggestCharts:', error);\n",
              "      }\n",
              "      quickchartButtonEl.classList.remove('colab-df-spinner');\n",
              "      quickchartButtonEl.classList.add('colab-df-quickchart-complete');\n",
              "    }\n",
              "    (() => {\n",
              "      let quickchartButtonEl =\n",
              "        document.querySelector('#df-a7bd14db-a3aa-49c5-ae93-94d8811b9dda button');\n",
              "      quickchartButtonEl.style.display =\n",
              "        google.colab.kernel.accessAllowed ? 'block' : 'none';\n",
              "    })();\n",
              "  </script>\n",
              "</div>\n",
              "\n",
              "    </div>\n",
              "  </div>\n"
            ],
            "application/vnd.google.colaboratory.intrinsic+json": {
              "type": "dataframe",
              "summary": "{\n  \"name\": \"result_dict['results-Phi-3\",\n  \"rows\": 10,\n  \"fields\": [\n    {\n      \"column\": \"assesment\",\n      \"properties\": {\n        \"dtype\": \"string\",\n        \"num_unique_values\": 10,\n        \"samples\": [\n          \"Socio-medical indication for the aid is confirmed.\",\n          \"According to the service extracts from the health insurance, the insured has already been provided with the functional product requested according to its area of application.\",\n          \"With the diagnosis named here, the need for compensation to ensure the basic need is conceivable.\"\n        ],\n        \"semantic_type\": \"\",\n        \"description\": \"\"\n      }\n    },\n    {\n      \"column\": \"y_true\",\n      \"properties\": {\n        \"dtype\": \"category\",\n        \"num_unique_values\": 2,\n        \"samples\": [\n          \"Positive\",\n          \"Negative\"\n        ],\n        \"semantic_type\": \"\",\n        \"description\": \"\"\n      }\n    },\n    {\n      \"column\": \"y_hat\",\n      \"properties\": {\n        \"dtype\": \"category\",\n        \"num_unique_values\": 2,\n        \"samples\": [\n          \"Positive\",\n          \"Negative\"\n        ],\n        \"semantic_type\": \"\",\n        \"description\": \"\"\n      }\n    },\n    {\n      \"column\": \"explanation\",\n      \"properties\": {\n        \"dtype\": \"string\",\n        \"num_unique_values\": 10,\n        \"samples\": [\n          \"Yes, a positive recommendation is given. The socio-medical indication for the aid is confirmed, which implies that the assessment supports the provision of aid.\",\n          \"Yes, a positive recommendation is given. Justification: The insured has received the requested functional product within its area of application, indicating compliance with the service provision. Yes, a positive recommendation is given. Justification: The provision of the requested functional product to the insured within its designated area of application demonstrates adherence to the required service standards. Yes, a positive recommendation is given. Justification: The insured's receipt of the requested functional product within its specified area of application signifies compliance with the service provision requirements.\\n\\nIn summary, a positive recommendation is given based on the insured's receipt of the requested functional product within its designated area of application, demonstrating compliance with the required service standards.\\n\\nPlease note that this assessment is based on the provided information and may be subject to further review or clarification as needed.\\n\\nI hope this response is helpful. If you have any further questions or require additional information, please do not hesitate to ask.\\n\\nThank you for your attention to this matter.\\n\\nSincerely,\\n\\n[Your Name]\\n\\n[Your Title/Position]\\n\\n[Your Contact Information] Yes, a positive recommendation is given. Justification: The insured has received the requested functional product within its designated area of application, demonstrating compliance with the required service standards.\\n\\nIn summary, a positive recommendation is given based on the insured's receipt of the requested functional product within its designated area of application, demonstrating compliance with the required service standards.\\n\\nPlease note that this assessment is based on the provided information and may be subject to further review or clarification as needed.\\n\\nI hope this response is helpful. If you have any further questions or require additional information, please do not hesitate to ask.\\n\\nThank you for your attention to this matter.\\n\\nSincerely,\\n\\n[Your Name]\\n\\n[Your Title/Position]\\n\\n[Your Contact Information] Yes, a positive recommendation is given. Justification: The insured has received the requested functional product within its designated area of application, demonstrating compliance with the required service standards.\\n\\nIn summary, a positive recommendation is given based on the insured's receipt of the requested functional product within its designated area of application, demonstrating compliance with the required service standards.\\n\\nPlease note that this assess\"\n        ],\n        \"semantic_type\": \"\",\n        \"description\": \"\"\n      }\n    }\n  ]\n}"
            }
          },
          "metadata": {},
          "execution_count": 28
        }
      ]
    },
    {
      "cell_type": "code",
      "source": [
        "import pandas as pd\n",
        "\n",
        "data_frames = []\n",
        "for result in results:\n",
        "    print(result)\n",
        "    file_path = f\"{base_url}/{result}\"\n",
        "    df = pd.read_excel(file_path)\n",
        "    df.rename(columns={'assesment': 'assessment'}, inplace=True)\n",
        "    # Create a unique column name based on the file name (or any unique identifier)\n",
        "    model_name = result.replace('results_', '').replace('.xlsx', '')\n",
        "    df = df.rename(columns={'explanation': model_name}).loc[:, ['assessment', model_name]]\n",
        "    data_frames.append(df)\n",
        "\n",
        "from functools import reduce\n",
        "df_final = reduce(lambda left, right: pd.merge(left, right, on='assessment', how='outer'), data_frames)"
      ],
      "metadata": {
        "id": "ZDKmajMds0rF",
        "outputId": "f60bc671-5a9b-4d62-a73d-e9fd07a650e5",
        "colab": {
          "base_uri": "https://localhost:8080/"
        }
      },
      "execution_count": 52,
      "outputs": [
        {
          "output_type": "stream",
          "name": "stdout",
          "text": [
            "results_Lllama_3.1_8B_16bit_de.xlsx\n",
            "results_Lllama_3.1_8B_16bit_en.xlsx\n",
            "results_Lllama_3.1_8B_4bit_de.xlsx\n",
            "results_Lllama_3.1_8B_4bit_en.xlsx\n",
            "results_Lllama_3.1_8B_8bit_de.xlsx\n",
            "results_Lllama_3.1_8B_8bit_en.xlsx\n",
            "results_gpt-4-turbo_de.xlsx\n",
            "results_gpt-4-turbo_en.xlsx\n",
            "results_gpt-3.5-turbo_de.xlsx\n",
            "results_gpt-3.5-turbo_en.xlsx\n",
            "results_gpt-4o_de.xlsx\n",
            "results_gpt-4o_en.xlsx\n",
            "results_gpt-4o-mini_de.xlsx\n",
            "results_gpt-4o-mini_en.xlsx\n",
            "results_Mixtral-8x7B_de.xlsx\n",
            "results_Mixtral-8x7B_en.xlsx\n",
            "results-Phi-3.5-MoE_4bit_en.xlsx\n",
            "results_Phi-3.5-MoE_4bit_de.xlsx\n",
            "results_Phi-3.5-mini_16bit_en.xlsx\n",
            "results_Phi-3.5-mini_16bit_de.xlsx\n"
          ]
        }
      ]
    },
    {
      "cell_type": "code",
      "source": [
        "df_final['combined_explanations'] = df_final.apply(lambda row: '\\n---\\n'.join(row.dropna()[1:].astype(str)), axis=1)"
      ],
      "metadata": {
        "id": "jViHMF7Usqq8"
      },
      "execution_count": 53,
      "outputs": []
    },
    {
      "cell_type": "code",
      "source": [
        "df_final[['assessment', 'combined_explanations']]"
      ],
      "metadata": {
        "id": "eXgNGtCnvIrA",
        "outputId": "00e1f2ac-ca98-4722-960d-f831cbe1df0a",
        "colab": {
          "base_uri": "https://localhost:8080/",
          "height": 676
        }
      },
      "execution_count": 54,
      "outputs": [
        {
          "output_type": "execute_result",
          "data": {
            "text/plain": [
              "                                           assessment  \\\n",
              "0   Aus der aktuell als verordnungsbegründend bena...   \n",
              "1   Gemäß den Leistungsauszügen der Krankenkasse i...   \n",
              "2   Eine medizinisch nachvollziehbare Begründung, ...   \n",
              "3   In der Gesamtschau der hier vorliegenden Infor...   \n",
              "4   Eine ärztliche Begründung, warum im vorliegend...   \n",
              "5   Bei der hier benannten Diagnose ist das Erford...   \n",
              "6   Die sozialmedizinischen Voraussetzungen für di...   \n",
              "7   Alltagsrelevante Gebrauchsvorteile werden fest...   \n",
              "8   Sozialmedizinische Indikation für das Hilfsmit...   \n",
              "9   Kontraindikationen wurden ausgeschlossen, es l...   \n",
              "10  No specific findings can be derived from the d...   \n",
              "11  According to the service extracts from the hea...   \n",
              "12  A medically comprehensible explanation as to w...   \n",
              "13  From an overall view of the information availa...   \n",
              "14  A medical justification for why a product not ...   \n",
              "15  With the diagnosis named here, the need for co...   \n",
              "16  The socio-medical prerequisites for the prescr...   \n",
              "17  Everyday relevant usage benefits have been det...   \n",
              "18  Socio-medical indication for the aid is confir...   \n",
              "19  Contraindications have been excluded; there ar...   \n",
              "\n",
              "                                combined_explanations  \n",
              "0   Nein, da die Diagnose nicht zu einem konkreten...  \n",
              "1   Nein\\n\\nBegründung: Der Versicherte ist bereit...  \n",
              "2   Nein\\n\\nBegründung: Die medizinische Begründun...  \n",
              "3   Nein, da keine Begründung für die Versorgung u...  \n",
              "4   Nein\\n\\nBegründung: Die Bewertung fehlt eine ä...  \n",
              "5   Nein\\n\\nBegründung: Die Aussage besagt, dass e...  \n",
              "6   Ja, positive Empfehlung. \\n\\nDie sozialmedizin...  \n",
              "7   Nein, \\nDie Bewertung bezieht sich auf die Fes...  \n",
              "8   Ja, positive Empfehlung. \\n\\nDie Sozialmedizin...  \n",
              "9   Ja, positive Empfehlung. \\n\\nBegründung: Es wu...  \n",
              "10  No\\n\\nThe assessment indicates that there are ...  \n",
              "11  No\\n\\nThe assessment indicates that the insure...  \n",
              "12  No\\n\\nThe assessment indicates that a medicall...  \n",
              "13  No\\n\\nThe assessment indicates that the supply...  \n",
              "14  No\\n\\nA medical justification is required to j...  \n",
              "15  No\\n\\nThe assessment suggests that the need fo...  \n",
              "16  Yes\\n\\nThe socio-medical prerequisites for the...  \n",
              "17  No\\n\\nThe assessment indicates that the everyd...  \n",
              "18  Yes\\n\\nThe assessment confirms a socio-medical...  \n",
              "19  Yes\\n\\nThe assessment indicates that the reque...  "
            ],
            "text/html": [
              "\n",
              "  <div id=\"df-49a86445-544e-4bdc-a7e4-cb00ca1e21cc\" class=\"colab-df-container\">\n",
              "    <div>\n",
              "<style scoped>\n",
              "    .dataframe tbody tr th:only-of-type {\n",
              "        vertical-align: middle;\n",
              "    }\n",
              "\n",
              "    .dataframe tbody tr th {\n",
              "        vertical-align: top;\n",
              "    }\n",
              "\n",
              "    .dataframe thead th {\n",
              "        text-align: right;\n",
              "    }\n",
              "</style>\n",
              "<table border=\"1\" class=\"dataframe\">\n",
              "  <thead>\n",
              "    <tr style=\"text-align: right;\">\n",
              "      <th></th>\n",
              "      <th>assessment</th>\n",
              "      <th>combined_explanations</th>\n",
              "    </tr>\n",
              "  </thead>\n",
              "  <tbody>\n",
              "    <tr>\n",
              "      <th>0</th>\n",
              "      <td>Aus der aktuell als verordnungsbegründend bena...</td>\n",
              "      <td>Nein, da die Diagnose nicht zu einem konkreten...</td>\n",
              "    </tr>\n",
              "    <tr>\n",
              "      <th>1</th>\n",
              "      <td>Gemäß den Leistungsauszügen der Krankenkasse i...</td>\n",
              "      <td>Nein\\n\\nBegründung: Der Versicherte ist bereit...</td>\n",
              "    </tr>\n",
              "    <tr>\n",
              "      <th>2</th>\n",
              "      <td>Eine medizinisch nachvollziehbare Begründung, ...</td>\n",
              "      <td>Nein\\n\\nBegründung: Die medizinische Begründun...</td>\n",
              "    </tr>\n",
              "    <tr>\n",
              "      <th>3</th>\n",
              "      <td>In der Gesamtschau der hier vorliegenden Infor...</td>\n",
              "      <td>Nein, da keine Begründung für die Versorgung u...</td>\n",
              "    </tr>\n",
              "    <tr>\n",
              "      <th>4</th>\n",
              "      <td>Eine ärztliche Begründung, warum im vorliegend...</td>\n",
              "      <td>Nein\\n\\nBegründung: Die Bewertung fehlt eine ä...</td>\n",
              "    </tr>\n",
              "    <tr>\n",
              "      <th>5</th>\n",
              "      <td>Bei der hier benannten Diagnose ist das Erford...</td>\n",
              "      <td>Nein\\n\\nBegründung: Die Aussage besagt, dass e...</td>\n",
              "    </tr>\n",
              "    <tr>\n",
              "      <th>6</th>\n",
              "      <td>Die sozialmedizinischen Voraussetzungen für di...</td>\n",
              "      <td>Ja, positive Empfehlung. \\n\\nDie sozialmedizin...</td>\n",
              "    </tr>\n",
              "    <tr>\n",
              "      <th>7</th>\n",
              "      <td>Alltagsrelevante Gebrauchsvorteile werden fest...</td>\n",
              "      <td>Nein, \\nDie Bewertung bezieht sich auf die Fes...</td>\n",
              "    </tr>\n",
              "    <tr>\n",
              "      <th>8</th>\n",
              "      <td>Sozialmedizinische Indikation für das Hilfsmit...</td>\n",
              "      <td>Ja, positive Empfehlung. \\n\\nDie Sozialmedizin...</td>\n",
              "    </tr>\n",
              "    <tr>\n",
              "      <th>9</th>\n",
              "      <td>Kontraindikationen wurden ausgeschlossen, es l...</td>\n",
              "      <td>Ja, positive Empfehlung. \\n\\nBegründung: Es wu...</td>\n",
              "    </tr>\n",
              "    <tr>\n",
              "      <th>10</th>\n",
              "      <td>No specific findings can be derived from the d...</td>\n",
              "      <td>No\\n\\nThe assessment indicates that there are ...</td>\n",
              "    </tr>\n",
              "    <tr>\n",
              "      <th>11</th>\n",
              "      <td>According to the service extracts from the hea...</td>\n",
              "      <td>No\\n\\nThe assessment indicates that the insure...</td>\n",
              "    </tr>\n",
              "    <tr>\n",
              "      <th>12</th>\n",
              "      <td>A medically comprehensible explanation as to w...</td>\n",
              "      <td>No\\n\\nThe assessment indicates that a medicall...</td>\n",
              "    </tr>\n",
              "    <tr>\n",
              "      <th>13</th>\n",
              "      <td>From an overall view of the information availa...</td>\n",
              "      <td>No\\n\\nThe assessment indicates that the supply...</td>\n",
              "    </tr>\n",
              "    <tr>\n",
              "      <th>14</th>\n",
              "      <td>A medical justification for why a product not ...</td>\n",
              "      <td>No\\n\\nA medical justification is required to j...</td>\n",
              "    </tr>\n",
              "    <tr>\n",
              "      <th>15</th>\n",
              "      <td>With the diagnosis named here, the need for co...</td>\n",
              "      <td>No\\n\\nThe assessment suggests that the need fo...</td>\n",
              "    </tr>\n",
              "    <tr>\n",
              "      <th>16</th>\n",
              "      <td>The socio-medical prerequisites for the prescr...</td>\n",
              "      <td>Yes\\n\\nThe socio-medical prerequisites for the...</td>\n",
              "    </tr>\n",
              "    <tr>\n",
              "      <th>17</th>\n",
              "      <td>Everyday relevant usage benefits have been det...</td>\n",
              "      <td>No\\n\\nThe assessment indicates that the everyd...</td>\n",
              "    </tr>\n",
              "    <tr>\n",
              "      <th>18</th>\n",
              "      <td>Socio-medical indication for the aid is confir...</td>\n",
              "      <td>Yes\\n\\nThe assessment confirms a socio-medical...</td>\n",
              "    </tr>\n",
              "    <tr>\n",
              "      <th>19</th>\n",
              "      <td>Contraindications have been excluded; there ar...</td>\n",
              "      <td>Yes\\n\\nThe assessment indicates that the reque...</td>\n",
              "    </tr>\n",
              "  </tbody>\n",
              "</table>\n",
              "</div>\n",
              "    <div class=\"colab-df-buttons\">\n",
              "\n",
              "  <div class=\"colab-df-container\">\n",
              "    <button class=\"colab-df-convert\" onclick=\"convertToInteractive('df-49a86445-544e-4bdc-a7e4-cb00ca1e21cc')\"\n",
              "            title=\"Convert this dataframe to an interactive table.\"\n",
              "            style=\"display:none;\">\n",
              "\n",
              "  <svg xmlns=\"http://www.w3.org/2000/svg\" height=\"24px\" viewBox=\"0 -960 960 960\">\n",
              "    <path d=\"M120-120v-720h720v720H120Zm60-500h600v-160H180v160Zm220 220h160v-160H400v160Zm0 220h160v-160H400v160ZM180-400h160v-160H180v160Zm440 0h160v-160H620v160ZM180-180h160v-160H180v160Zm440 0h160v-160H620v160Z\"/>\n",
              "  </svg>\n",
              "    </button>\n",
              "\n",
              "  <style>\n",
              "    .colab-df-container {\n",
              "      display:flex;\n",
              "      gap: 12px;\n",
              "    }\n",
              "\n",
              "    .colab-df-convert {\n",
              "      background-color: #E8F0FE;\n",
              "      border: none;\n",
              "      border-radius: 50%;\n",
              "      cursor: pointer;\n",
              "      display: none;\n",
              "      fill: #1967D2;\n",
              "      height: 32px;\n",
              "      padding: 0 0 0 0;\n",
              "      width: 32px;\n",
              "    }\n",
              "\n",
              "    .colab-df-convert:hover {\n",
              "      background-color: #E2EBFA;\n",
              "      box-shadow: 0px 1px 2px rgba(60, 64, 67, 0.3), 0px 1px 3px 1px rgba(60, 64, 67, 0.15);\n",
              "      fill: #174EA6;\n",
              "    }\n",
              "\n",
              "    .colab-df-buttons div {\n",
              "      margin-bottom: 4px;\n",
              "    }\n",
              "\n",
              "    [theme=dark] .colab-df-convert {\n",
              "      background-color: #3B4455;\n",
              "      fill: #D2E3FC;\n",
              "    }\n",
              "\n",
              "    [theme=dark] .colab-df-convert:hover {\n",
              "      background-color: #434B5C;\n",
              "      box-shadow: 0px 1px 3px 1px rgba(0, 0, 0, 0.15);\n",
              "      filter: drop-shadow(0px 1px 2px rgba(0, 0, 0, 0.3));\n",
              "      fill: #FFFFFF;\n",
              "    }\n",
              "  </style>\n",
              "\n",
              "    <script>\n",
              "      const buttonEl =\n",
              "        document.querySelector('#df-49a86445-544e-4bdc-a7e4-cb00ca1e21cc button.colab-df-convert');\n",
              "      buttonEl.style.display =\n",
              "        google.colab.kernel.accessAllowed ? 'block' : 'none';\n",
              "\n",
              "      async function convertToInteractive(key) {\n",
              "        const element = document.querySelector('#df-49a86445-544e-4bdc-a7e4-cb00ca1e21cc');\n",
              "        const dataTable =\n",
              "          await google.colab.kernel.invokeFunction('convertToInteractive',\n",
              "                                                    [key], {});\n",
              "        if (!dataTable) return;\n",
              "\n",
              "        const docLinkHtml = 'Like what you see? Visit the ' +\n",
              "          '<a target=\"_blank\" href=https://colab.research.google.com/notebooks/data_table.ipynb>data table notebook</a>'\n",
              "          + ' to learn more about interactive tables.';\n",
              "        element.innerHTML = '';\n",
              "        dataTable['output_type'] = 'display_data';\n",
              "        await google.colab.output.renderOutput(dataTable, element);\n",
              "        const docLink = document.createElement('div');\n",
              "        docLink.innerHTML = docLinkHtml;\n",
              "        element.appendChild(docLink);\n",
              "      }\n",
              "    </script>\n",
              "  </div>\n",
              "\n",
              "\n",
              "<div id=\"df-8e819b64-5161-4201-a579-d18049cecfd9\">\n",
              "  <button class=\"colab-df-quickchart\" onclick=\"quickchart('df-8e819b64-5161-4201-a579-d18049cecfd9')\"\n",
              "            title=\"Suggest charts\"\n",
              "            style=\"display:none;\">\n",
              "\n",
              "<svg xmlns=\"http://www.w3.org/2000/svg\" height=\"24px\"viewBox=\"0 0 24 24\"\n",
              "     width=\"24px\">\n",
              "    <g>\n",
              "        <path d=\"M19 3H5c-1.1 0-2 .9-2 2v14c0 1.1.9 2 2 2h14c1.1 0 2-.9 2-2V5c0-1.1-.9-2-2-2zM9 17H7v-7h2v7zm4 0h-2V7h2v10zm4 0h-2v-4h2v4z\"/>\n",
              "    </g>\n",
              "</svg>\n",
              "  </button>\n",
              "\n",
              "<style>\n",
              "  .colab-df-quickchart {\n",
              "      --bg-color: #E8F0FE;\n",
              "      --fill-color: #1967D2;\n",
              "      --hover-bg-color: #E2EBFA;\n",
              "      --hover-fill-color: #174EA6;\n",
              "      --disabled-fill-color: #AAA;\n",
              "      --disabled-bg-color: #DDD;\n",
              "  }\n",
              "\n",
              "  [theme=dark] .colab-df-quickchart {\n",
              "      --bg-color: #3B4455;\n",
              "      --fill-color: #D2E3FC;\n",
              "      --hover-bg-color: #434B5C;\n",
              "      --hover-fill-color: #FFFFFF;\n",
              "      --disabled-bg-color: #3B4455;\n",
              "      --disabled-fill-color: #666;\n",
              "  }\n",
              "\n",
              "  .colab-df-quickchart {\n",
              "    background-color: var(--bg-color);\n",
              "    border: none;\n",
              "    border-radius: 50%;\n",
              "    cursor: pointer;\n",
              "    display: none;\n",
              "    fill: var(--fill-color);\n",
              "    height: 32px;\n",
              "    padding: 0;\n",
              "    width: 32px;\n",
              "  }\n",
              "\n",
              "  .colab-df-quickchart:hover {\n",
              "    background-color: var(--hover-bg-color);\n",
              "    box-shadow: 0 1px 2px rgba(60, 64, 67, 0.3), 0 1px 3px 1px rgba(60, 64, 67, 0.15);\n",
              "    fill: var(--button-hover-fill-color);\n",
              "  }\n",
              "\n",
              "  .colab-df-quickchart-complete:disabled,\n",
              "  .colab-df-quickchart-complete:disabled:hover {\n",
              "    background-color: var(--disabled-bg-color);\n",
              "    fill: var(--disabled-fill-color);\n",
              "    box-shadow: none;\n",
              "  }\n",
              "\n",
              "  .colab-df-spinner {\n",
              "    border: 2px solid var(--fill-color);\n",
              "    border-color: transparent;\n",
              "    border-bottom-color: var(--fill-color);\n",
              "    animation:\n",
              "      spin 1s steps(1) infinite;\n",
              "  }\n",
              "\n",
              "  @keyframes spin {\n",
              "    0% {\n",
              "      border-color: transparent;\n",
              "      border-bottom-color: var(--fill-color);\n",
              "      border-left-color: var(--fill-color);\n",
              "    }\n",
              "    20% {\n",
              "      border-color: transparent;\n",
              "      border-left-color: var(--fill-color);\n",
              "      border-top-color: var(--fill-color);\n",
              "    }\n",
              "    30% {\n",
              "      border-color: transparent;\n",
              "      border-left-color: var(--fill-color);\n",
              "      border-top-color: var(--fill-color);\n",
              "      border-right-color: var(--fill-color);\n",
              "    }\n",
              "    40% {\n",
              "      border-color: transparent;\n",
              "      border-right-color: var(--fill-color);\n",
              "      border-top-color: var(--fill-color);\n",
              "    }\n",
              "    60% {\n",
              "      border-color: transparent;\n",
              "      border-right-color: var(--fill-color);\n",
              "    }\n",
              "    80% {\n",
              "      border-color: transparent;\n",
              "      border-right-color: var(--fill-color);\n",
              "      border-bottom-color: var(--fill-color);\n",
              "    }\n",
              "    90% {\n",
              "      border-color: transparent;\n",
              "      border-bottom-color: var(--fill-color);\n",
              "    }\n",
              "  }\n",
              "</style>\n",
              "\n",
              "  <script>\n",
              "    async function quickchart(key) {\n",
              "      const quickchartButtonEl =\n",
              "        document.querySelector('#' + key + ' button');\n",
              "      quickchartButtonEl.disabled = true;  // To prevent multiple clicks.\n",
              "      quickchartButtonEl.classList.add('colab-df-spinner');\n",
              "      try {\n",
              "        const charts = await google.colab.kernel.invokeFunction(\n",
              "            'suggestCharts', [key], {});\n",
              "      } catch (error) {\n",
              "        console.error('Error during call to suggestCharts:', error);\n",
              "      }\n",
              "      quickchartButtonEl.classList.remove('colab-df-spinner');\n",
              "      quickchartButtonEl.classList.add('colab-df-quickchart-complete');\n",
              "    }\n",
              "    (() => {\n",
              "      let quickchartButtonEl =\n",
              "        document.querySelector('#df-8e819b64-5161-4201-a579-d18049cecfd9 button');\n",
              "      quickchartButtonEl.style.display =\n",
              "        google.colab.kernel.accessAllowed ? 'block' : 'none';\n",
              "    })();\n",
              "  </script>\n",
              "</div>\n",
              "\n",
              "    </div>\n",
              "  </div>\n"
            ],
            "application/vnd.google.colaboratory.intrinsic+json": {
              "type": "dataframe",
              "summary": "{\n  \"name\": \"df_final[['assessment', 'combined_explanations']]\",\n  \"rows\": 20,\n  \"fields\": [\n    {\n      \"column\": \"assessment\",\n      \"properties\": {\n        \"dtype\": \"string\",\n        \"num_unique_values\": 20,\n        \"samples\": [\n          \"Aus der aktuell als verordnungsbegr\\u00fcndend benannten Diagnose l\\u00e4sst sich kein konkreter Befund ableiten.\",\n          \"Everyday relevant usage benefits have been determined.\",\n          \"With the diagnosis named here, the need for compensation to ensure the basic need is conceivable.\"\n        ],\n        \"semantic_type\": \"\",\n        \"description\": \"\"\n      }\n    },\n    {\n      \"column\": \"combined_explanations\",\n      \"properties\": {\n        \"dtype\": \"string\",\n        \"num_unique_values\": 20,\n        \"samples\": [\n          \"Nein, da die Diagnose nicht zu einem konkreten Befund f\\u00fchrt, kann keine fundierte Empfehlung gegeben werden.\\n---\\nNein, \\nDie Diagnose ist zu vage, um eine konkrete Empfehlung abzuleiten.\\n---\\nNein, da keine konkreten Befunde abgeleitet werden k\\u00f6nnen.\\n---\\nNein, es wird eine negative Empfehlung gegeben, da aus der Diagnose kein konkreter Befund abgeleitet werden kann.\\n---\\nNein. Die fehlende M\\u00f6glichkeit, aus der genannten Diagnose einen konkreten Befund abzuleiten, f\\u00fchrt zu einer neutralen Bewertung ohne klare Empfehlung.\\n---\\nNein. Die Diagnose ist nicht ausreichend konkret, um eine fundierte Empfehlung abzugeben.\\n---\\nNein. Die fehlende Ableitbarkeit eines konkreten Befundes aus der Diagnose spricht gegen eine positive Empfehlung.\\n---\\nNein, es wird eine negative Empfehlung gegeben. Die aktuell genannte Diagnose als verordnungsbegr\\u00fcndend erachtet, l\\u00e4sst keinen konkreten Befund erkennen. Zur fundierten Beurteilung der Erfordernis einer Krankenbehandlung oder -versorgung ist jedoch ein klar definierter medizinischer Befund unabdingbar.\\n---\\nNein, es wird keine positive Empfehlung gegeben. Die Begr\\u00fcndung ist, dass keine konkrete Diagnose vorliegt, die eine verordnungsbegr\\u00fcndende Behandlung rechtfertigt.\\n---\\nNein, eine negative Empfehlung wird gegeben. Die Begr\\u00fcndung ist, dass die Diagnose nicht konkrete Befunde liefert, was auf einen Mangel an ausreichenden Informationen f\\u00fcr eine positive Bewertung hinweist.\",\n          \"No\\n\\nThe assessment indicates that the everyday relevant usage benefits have been determined, but it does not provide information about the outcome of the assessment or the recommendation given.\\n---\\nYes\\n\\nThe assessment result is based on the determination of everyday relevant usage benefits, which typically indicates that the usage is within the normal range and does not exceed the threshold for a positive recommendation.\\n---\\nNo\\n\\nThe assessment only mentions the determination of everyday relevant usage benefits, which is a step in the assessment process, but does not provide a conclusion or recommendation.\\n---\\nYes, a positive recommendation is given. The determination of everyday relevant usage benefits indicates that the assessed service or product provides practical advantages in daily life, supporting a favorable evaluation.\\n---\\nNo.\\n\\nThe assessment does not provide enough information to determine whether a positive or negative recommendation has been given. The statement only mentions that everyday relevant usage benefits have been determined, but does not specify the outcome of the assessment.\\n---\\nYes. The assessment indicates that everyday relevant usage benefits have been determined, which suggests a positive recommendation.\\n---\\nYes. The assessment indicates that everyday relevant usage benefits have been determined, suggesting a positive evaluation of the service or product in question.\\n---\\nYes, a positive recommendation is given. The determination of relevant everyday usage benefits indicates that the statutory health insurance policy provides value and utility to the individual in their daily life. This suggests that the policy aligns with the individual's health needs and enables them to access necessary medical care and services, leading to a positive recommendation.\\n---\\nYes, a positive recommendation is given. Justification: The assessment explicitly states that \\\"everyday relevant usage benefits\\\" have been determined, indicating a favorable outcome. Yes, a positive recommendation is given. Justification: The assessment explicitly states that \\\"everyday relevant usage benefits\\\" have been determined, indicating a favorable outcome. Yes, a positive recommendation is given. Justification: The assessment explicitly states that \\\"everyday relevant usage benefits\\\" have been determined, indicating a favorable outcome. Yes, a positive recommendation is given. Justification: The assessment explicitly states that \\\"everyday relevant usage benefits\\\" have been determined, indicating a favorable outcome. Yes, a positive recommendation is given. Justification: The assessment explicitly states that \\\"everyday relevant usage benefits\\\" have been determined, indicating a favorable outcome. Yes, a positive recommendation is given. Justification: The assessment explicitly states that \\\"everyday relevant usage benefits\\\" have been determined, indicating a favorable outcome. Yes, a positive recommendation is given. Justification: The assessment explicitly states that \\\"everyday relevant usage benefits\\\" have been determined, indicating a favorable outcome. Yes, a positive recommendation is given. Justification: The assessment explicitly states that \\\"everyday relevant usage benefits\\\" have been determined, indicating a favorable outcome. Yes, a positive recommendation is given. Justification: The assessment explicitly states that \\\"everyday relevant usage benefits\\\" have been determined, indicating a favorable outcome. Yes, a positive recommendation is given. Justification: The assessment explicitly states that \\\"everyday relevant usage benefits\\\" have been determined, indicating a favorable outcome. Yes, a positive recommendation is given. Justification: The assessment explicitly states that \\\"everyday relevant usage benefits\\\" have been determined, indicating a favorable outcome. Yes, a positive recommendation is given. Justification: The assessment explicitly states that \\\"everyday relevant usage benefits\\\" have been determined, indicating a favorable outcome. Yes, a positive recommendation is given. Justification: The assessment explicitly states that \\\"everyday relevant usage benefits\\\" have been determined, indicating a favorable outcome. Yes, a positive recommendation is given. Justification: The assessment explicitly states that \\\"everyday relevant usage benefits\\\" have been determined, indicating a favorable outcome. Yes, a positive recommendation is given.\\n---\\nYes, a positive recommendation can be inferred from the assessment. The statement indicates that there has been an evaluation of the everyday relevance of usage benefits, which suggests that the benefits have been found to be significant or beneficial in daily contexts. This implies a favorable outcome, hence a positive recommendation.\",\n          \"No\\n\\nThe assessment suggests that the need for compensation to ensure the basic need is conceivable, implying a potential requirement for financial support. However, this does not necessarily imply a positive or negative recommendation, but rather a consideration for further evaluation or action.\\n---\\nYes\\n\\nThe assessment suggests that the diagnosis implies a potential need for compensation to meet the basic needs, indicating a possible positive recommendation for health insurance coverage.\\n---\\nYes\\n\\nThe assessment implies that the diagnosed condition may have a significant impact on the individual's ability to meet their basic needs, thereby justifying compensation.\\n---\\nYes, a positive recommendation is given. The assessment acknowledges that with the specified diagnosis, there is a conceivable need for compensation to ensure basic needs are met. This implies that the condition has been recognized as one that may require additional support or resources.\\n---\\nNo.\\n\\nThe assessment suggests that there is a need for compensation to ensure the basic need, indicating a potential positive recommendation for coverage under statutory health insurance.\\n---\\nNo. The statement provided is too vague and lacks sufficient detail to definitively determine whether a positive or negative recommendation should be given. Further information on the specific diagnosis and the extent of the need for compensation is required for a comprehensive assessment.\\n---\\nYes. The assessment indicates that the diagnosis suggests a need for compensation to meet basic needs, which implies a positive recommendation for support.\\n---\\nYes, a positive recommendation for compensation is conceivable with the diagnosis named here. This is because the diagnosis may indicate a significant reduction in the individual's capacity to earn a living or perform daily activities, thereby necessitating the provision of compensation to ensure their basic needs are met. However, the final recommendation would depend on the specific details of the individual's case and the applicable laws and regulations governing statutory health insurance.\\n---\\nYes, a positive recommendation is given. Justification: The assessment acknowledges the conceivable need for compensation to meet basic needs, indicating a positive stance towards providing support.\\n---\\nYes, a positive recommendation is given. The assessment acknowledges the necessity for compensation to meet basic needs, which implies that the recommendation is in favor of providing support or resources to address the individual's situation. The justification is based on the recognition of a need that should be met, suggesting a constructive approach to the individual's health and well-being.\"\n        ],\n        \"semantic_type\": \"\",\n        \"description\": \"\"\n      }\n    }\n  ]\n}"
            }
          },
          "metadata": {},
          "execution_count": 54
        }
      ]
    },
    {
      "cell_type": "code",
      "source": [
        "def create_hybrid_prompt(assessment, explanations):\n",
        "    return f\"Assessment ID: {assessment}\\nCombined Explanations: {explanations}\\n\\nPlease analyze the different explanations provided and synthesize a comprehensive and conclusive ground truth explanation based on the insights.\"\n",
        "\n",
        "# Create prompt\n",
        "prompt = create_hybrid_prompt(example_assessment, example_explanations)\n"
      ],
      "metadata": {
        "id": "n0XbgYpbxFw-"
      },
      "execution_count": null,
      "outputs": []
    }
  ]
}